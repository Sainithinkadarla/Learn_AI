{
  "nbformat": 4,
  "nbformat_minor": 0,
  "metadata": {
    "colab": {
      "provenance": [],
      "gpuType": "T4",
      "toc_visible": true,
      "authorship_tag": "ABX9TyMQPJ+FQuXK1Yaf8FsSL32E",
      "include_colab_link": true
    },
    "kernelspec": {
      "name": "python3",
      "display_name": "Python 3"
    },
    "language_info": {
      "name": "python"
    }
  },
  "cells": [
    {
      "cell_type": "markdown",
      "metadata": {
        "id": "view-in-github",
        "colab_type": "text"
      },
      "source": [
        "<a href=\"https://colab.research.google.com/github/Sainithinkadarla/Learn_AI/blob/main/Pytorch_tutorial_freecodecamp.ipynb\" target=\"_parent\"><img src=\"https://colab.research.google.com/assets/colab-badge.svg\" alt=\"Open In Colab\"/></a>"
      ]
    },
    {
      "cell_type": "markdown",
      "source": [
        "\n",
        "# PyTorch Tutorial"
      ],
      "metadata": {
        "id": "FSdO5yM-VpMj"
      }
    },
    {
      "cell_type": "markdown",
      "source": [
        "## PyTorch Fundamentals\n"
      ],
      "metadata": {
        "id": "8Teu1Fc8WAYY"
      }
    },
    {
      "cell_type": "code",
      "source": [
        "import torch\n",
        "import pandas as pd\n",
        "import numpy as np\n",
        "import matplotlib.pyplot as plt\n",
        "\n",
        "print(torch.__version__)"
      ],
      "metadata": {
        "id": "JXTmRcXuVzrg",
        "colab": {
          "base_uri": "https://localhost:8080/"
        },
        "outputId": "eff6e9c6-5455-4468-dd0d-8c6ed3752a76"
      },
      "execution_count": 181,
      "outputs": [
        {
          "output_type": "stream",
          "name": "stdout",
          "text": [
            "2.1.0+cu121\n"
          ]
        }
      ]
    },
    {
      "cell_type": "code",
      "execution_count": 182,
      "metadata": {
        "colab": {
          "base_uri": "https://localhost:8080/"
        },
        "id": "2RHaPD3TT24v",
        "outputId": "0b22ba24-f7c6-41e0-f0ec-2b6e39f50165"
      },
      "outputs": [
        {
          "output_type": "stream",
          "name": "stdout",
          "text": [
            "/bin/bash: line 1: nvidia-smi: command not found\n"
          ]
        }
      ],
      "source": [
        "!nvidia-smi"
      ]
    },
    {
      "cell_type": "markdown",
      "source": [
        "## Introduction to tensors\n",
        "### Creating tensors"
      ],
      "metadata": {
        "id": "XldrVvcmXbb5"
      }
    },
    {
      "cell_type": "code",
      "source": [
        "# scalar\n",
        "\n",
        "scalar  = torch.tensor(7)\n",
        "scalar"
      ],
      "metadata": {
        "colab": {
          "base_uri": "https://localhost:8080/"
        },
        "id": "RaRYOSjUXodM",
        "outputId": "a0b66eeb-8e24-4ca3-f937-d381d2d1cc5e"
      },
      "execution_count": 183,
      "outputs": [
        {
          "output_type": "execute_result",
          "data": {
            "text/plain": [
              "tensor(7)"
            ]
          },
          "metadata": {},
          "execution_count": 183
        }
      ]
    },
    {
      "cell_type": "code",
      "source": [
        "scalar.ndim"
      ],
      "metadata": {
        "colab": {
          "base_uri": "https://localhost:8080/"
        },
        "id": "UxqVvVm4YDku",
        "outputId": "8cbfdbac-5636-40f5-d2ec-95105c4a39b4"
      },
      "execution_count": 184,
      "outputs": [
        {
          "output_type": "execute_result",
          "data": {
            "text/plain": [
              "0"
            ]
          },
          "metadata": {},
          "execution_count": 184
        }
      ]
    },
    {
      "cell_type": "code",
      "source": [
        "scalar.item()"
      ],
      "metadata": {
        "colab": {
          "base_uri": "https://localhost:8080/"
        },
        "id": "c96Z_2LcYhk3",
        "outputId": "81480fb8-16cc-4d91-da8b-45124e81bd07"
      },
      "execution_count": 185,
      "outputs": [
        {
          "output_type": "execute_result",
          "data": {
            "text/plain": [
              "7"
            ]
          },
          "metadata": {},
          "execution_count": 185
        }
      ]
    },
    {
      "cell_type": "code",
      "source": [
        "# Vector\n",
        "\n",
        "vector = torch.tensor([7,7])\n",
        "vector"
      ],
      "metadata": {
        "colab": {
          "base_uri": "https://localhost:8080/"
        },
        "id": "WGewnf8aYn_h",
        "outputId": "3f637b60-014e-431a-ddf5-c3a07b70f124"
      },
      "execution_count": 186,
      "outputs": [
        {
          "output_type": "execute_result",
          "data": {
            "text/plain": [
              "tensor([7, 7])"
            ]
          },
          "metadata": {},
          "execution_count": 186
        }
      ]
    },
    {
      "cell_type": "code",
      "source": [
        "vector.ndim"
      ],
      "metadata": {
        "colab": {
          "base_uri": "https://localhost:8080/"
        },
        "id": "JyKObWMZYxfK",
        "outputId": "5195560d-2b7f-4df6-abd2-d7cae0653483"
      },
      "execution_count": 187,
      "outputs": [
        {
          "output_type": "execute_result",
          "data": {
            "text/plain": [
              "1"
            ]
          },
          "metadata": {},
          "execution_count": 187
        }
      ]
    },
    {
      "cell_type": "code",
      "source": [
        "vector.shape"
      ],
      "metadata": {
        "colab": {
          "base_uri": "https://localhost:8080/"
        },
        "id": "LRRotIDPcZyJ",
        "outputId": "e05d3208-7d76-42a1-f5bc-313febb8c9a1"
      },
      "execution_count": 188,
      "outputs": [
        {
          "output_type": "execute_result",
          "data": {
            "text/plain": [
              "torch.Size([2])"
            ]
          },
          "metadata": {},
          "execution_count": 188
        }
      ]
    },
    {
      "cell_type": "code",
      "source": [
        "vector[1]"
      ],
      "metadata": {
        "colab": {
          "base_uri": "https://localhost:8080/"
        },
        "id": "Imn--Dp7c0bL",
        "outputId": "abb5ea8c-3d28-4df2-c5f5-edcf15c307bb"
      },
      "execution_count": 189,
      "outputs": [
        {
          "output_type": "execute_result",
          "data": {
            "text/plain": [
              "tensor(7)"
            ]
          },
          "metadata": {},
          "execution_count": 189
        }
      ]
    },
    {
      "cell_type": "code",
      "source": [
        "MATRIX = torch.tensor([[1,2],[3,4]])\n",
        "MATRIX"
      ],
      "metadata": {
        "colab": {
          "base_uri": "https://localhost:8080/"
        },
        "id": "Uu5909gIch8u",
        "outputId": "792c6857-17f6-4e40-9694-83623698dbdb"
      },
      "execution_count": 190,
      "outputs": [
        {
          "output_type": "execute_result",
          "data": {
            "text/plain": [
              "tensor([[1, 2],\n",
              "        [3, 4]])"
            ]
          },
          "metadata": {},
          "execution_count": 190
        }
      ]
    },
    {
      "cell_type": "code",
      "source": [
        "MATRIX[1]"
      ],
      "metadata": {
        "colab": {
          "base_uri": "https://localhost:8080/"
        },
        "id": "3G9dS-_bcyU3",
        "outputId": "1fd9a169-e223-497c-a5a6-42a725921df7"
      },
      "execution_count": 191,
      "outputs": [
        {
          "output_type": "execute_result",
          "data": {
            "text/plain": [
              "tensor([3, 4])"
            ]
          },
          "metadata": {},
          "execution_count": 191
        }
      ]
    },
    {
      "cell_type": "code",
      "source": [
        "MATRIX.shape"
      ],
      "metadata": {
        "colab": {
          "base_uri": "https://localhost:8080/"
        },
        "id": "ypvZsgW7dAOV",
        "outputId": "a0ff7f2d-cd63-43ac-dec2-fe0c4b2394ad"
      },
      "execution_count": 192,
      "outputs": [
        {
          "output_type": "execute_result",
          "data": {
            "text/plain": [
              "torch.Size([2, 2])"
            ]
          },
          "metadata": {},
          "execution_count": 192
        }
      ]
    },
    {
      "cell_type": "code",
      "source": [
        "# Tensor\n",
        "\n",
        "TENSOR = torch.tensor([[[1,2,3],[4,5,6],[7,8,9]]])\n",
        "TENSOR"
      ],
      "metadata": {
        "colab": {
          "base_uri": "https://localhost:8080/"
        },
        "id": "ZMJ9dGkgdCTV",
        "outputId": "c914e764-2f85-4021-a6f8-8719acba024b"
      },
      "execution_count": 193,
      "outputs": [
        {
          "output_type": "execute_result",
          "data": {
            "text/plain": [
              "tensor([[[1, 2, 3],\n",
              "         [4, 5, 6],\n",
              "         [7, 8, 9]]])"
            ]
          },
          "metadata": {},
          "execution_count": 193
        }
      ]
    },
    {
      "cell_type": "code",
      "source": [
        "TENSOR.ndim"
      ],
      "metadata": {
        "colab": {
          "base_uri": "https://localhost:8080/"
        },
        "id": "nAmZM_CUdSZ3",
        "outputId": "6fa6a464-16bf-4918-cd08-7824818a7e0a"
      },
      "execution_count": 194,
      "outputs": [
        {
          "output_type": "execute_result",
          "data": {
            "text/plain": [
              "3"
            ]
          },
          "metadata": {},
          "execution_count": 194
        }
      ]
    },
    {
      "cell_type": "code",
      "source": [
        "TENSOR.shape"
      ],
      "metadata": {
        "colab": {
          "base_uri": "https://localhost:8080/"
        },
        "id": "xwOrMjSvdjjR",
        "outputId": "c7b5413e-491b-4cf1-e39a-1e6b70895f7d"
      },
      "execution_count": 195,
      "outputs": [
        {
          "output_type": "execute_result",
          "data": {
            "text/plain": [
              "torch.Size([1, 3, 3])"
            ]
          },
          "metadata": {},
          "execution_count": 195
        }
      ]
    },
    {
      "cell_type": "code",
      "source": [
        "TENSOR[0]"
      ],
      "metadata": {
        "colab": {
          "base_uri": "https://localhost:8080/"
        },
        "id": "JCKivJypdw4q",
        "outputId": "34219749-4bc9-470f-b4cb-b54f492ee4a2"
      },
      "execution_count": 196,
      "outputs": [
        {
          "output_type": "execute_result",
          "data": {
            "text/plain": [
              "tensor([[1, 2, 3],\n",
              "        [4, 5, 6],\n",
              "        [7, 8, 9]])"
            ]
          },
          "metadata": {},
          "execution_count": 196
        }
      ]
    },
    {
      "cell_type": "code",
      "source": [
        "# Tensor\n",
        "\n",
        "TENSOR2 = torch.tensor([[[1,2,3],[4,5,6],[4,5,6],[7,8,9]]])\n",
        "TENSOR2"
      ],
      "metadata": {
        "colab": {
          "base_uri": "https://localhost:8080/"
        },
        "outputId": "ae017eef-96ab-4af6-e3a4-975635c24be5",
        "id": "pbfCJ4g2eDC9"
      },
      "execution_count": 197,
      "outputs": [
        {
          "output_type": "execute_result",
          "data": {
            "text/plain": [
              "tensor([[[1, 2, 3],\n",
              "         [4, 5, 6],\n",
              "         [4, 5, 6],\n",
              "         [7, 8, 9]]])"
            ]
          },
          "metadata": {},
          "execution_count": 197
        }
      ]
    },
    {
      "cell_type": "code",
      "source": [
        "TENSOR2.ndim\n"
      ],
      "metadata": {
        "colab": {
          "base_uri": "https://localhost:8080/"
        },
        "id": "Tesyp7D1eHec",
        "outputId": "62e06b6f-064e-48f4-d820-646261b41a91"
      },
      "execution_count": 198,
      "outputs": [
        {
          "output_type": "execute_result",
          "data": {
            "text/plain": [
              "3"
            ]
          },
          "metadata": {},
          "execution_count": 198
        }
      ]
    },
    {
      "cell_type": "code",
      "source": [
        "TENSOR2.shape"
      ],
      "metadata": {
        "colab": {
          "base_uri": "https://localhost:8080/"
        },
        "id": "1-YJv3MvePEN",
        "outputId": "ad7631c0-b951-4f93-964e-426a78b9beb0"
      },
      "execution_count": 199,
      "outputs": [
        {
          "output_type": "execute_result",
          "data": {
            "text/plain": [
              "torch.Size([1, 4, 3])"
            ]
          },
          "metadata": {},
          "execution_count": 199
        }
      ]
    },
    {
      "cell_type": "code",
      "source": [
        "print(TENSOR2[0],\"\\n------------------------------------------\\n\",TENSOR2[0,1],\"\\n------------------------------------------\\n\",TENSOR2[0,1,2])"
      ],
      "metadata": {
        "colab": {
          "base_uri": "https://localhost:8080/"
        },
        "id": "JZ7iMRFTeRmN",
        "outputId": "6ba54544-8e98-415d-e0f3-398156695f8c"
      },
      "execution_count": 200,
      "outputs": [
        {
          "output_type": "stream",
          "name": "stdout",
          "text": [
            "tensor([[1, 2, 3],\n",
            "        [4, 5, 6],\n",
            "        [4, 5, 6],\n",
            "        [7, 8, 9]]) \n",
            "------------------------------------------\n",
            " tensor([4, 5, 6]) \n",
            "------------------------------------------\n",
            " tensor(6)\n"
          ]
        }
      ]
    },
    {
      "cell_type": "markdown",
      "source": [
        "### Random Tensors\n",
        "\n",
        "  Why random tensors\n",
        "\n",
        "  Random tensors are important because the way neural netowrks learn is that they start with tensors full of random numbers and then adjust thise random numbers to bettter represent the data\n",
        "\n",
        "  `start with random numbers -> look at data -> update random numbers -> look at data -> again update random numbers`"
      ],
      "metadata": {
        "id": "ToQ11WJgfI29"
      }
    },
    {
      "cell_type": "code",
      "source": [
        "# Creating the random tensor of suize(3,4)\n",
        "\n",
        "random_tensor = torch.rand(3,4)\n",
        "random_tensor"
      ],
      "metadata": {
        "colab": {
          "base_uri": "https://localhost:8080/"
        },
        "id": "7Cc8M_FHfF9B",
        "outputId": "cac0fd44-8893-401a-c716-58d6c54ea14d"
      },
      "execution_count": 201,
      "outputs": [
        {
          "output_type": "execute_result",
          "data": {
            "text/plain": [
              "tensor([[0.3904, 0.6009, 0.2566, 0.7936],\n",
              "        [0.9408, 0.1332, 0.9346, 0.5936],\n",
              "        [0.8694, 0.5677, 0.7411, 0.4294]])"
            ]
          },
          "metadata": {},
          "execution_count": 201
        }
      ]
    },
    {
      "cell_type": "code",
      "source": [
        "random_tensor.ndim"
      ],
      "metadata": {
        "colab": {
          "base_uri": "https://localhost:8080/"
        },
        "id": "eIEMLM8igbLM",
        "outputId": "1de0838a-1028-4c33-9e73-bcbf6254a03a"
      },
      "execution_count": 202,
      "outputs": [
        {
          "output_type": "execute_result",
          "data": {
            "text/plain": [
              "2"
            ]
          },
          "metadata": {},
          "execution_count": 202
        }
      ]
    },
    {
      "cell_type": "code",
      "source": [
        "# Creating a random tensor which similar to image tensor\n",
        "random_image_tensor = torch.rand((244,244,3))\n",
        "random_image_tensor.shape, \"shape \\nndim \",random_image_tensor.ndim"
      ],
      "metadata": {
        "colab": {
          "base_uri": "https://localhost:8080/"
        },
        "id": "ul9ZPpd7giIE",
        "outputId": "54fea317-1e09-43a5-ff68-f85309110184"
      },
      "execution_count": 203,
      "outputs": [
        {
          "output_type": "execute_result",
          "data": {
            "text/plain": [
              "(torch.Size([244, 244, 3]), 'shape \\nndim ', 3)"
            ]
          },
          "metadata": {},
          "execution_count": 203
        }
      ]
    },
    {
      "cell_type": "markdown",
      "source": [
        "### Zeros and Ones"
      ],
      "metadata": {
        "id": "OrnazJJDhH9o"
      }
    },
    {
      "cell_type": "code",
      "source": [
        "zeros = torch.zeros(3,4)\n",
        "zeros\n"
      ],
      "metadata": {
        "colab": {
          "base_uri": "https://localhost:8080/"
        },
        "id": "fZNNHsxSEKIz",
        "outputId": "b0ec549d-cf59-4532-ef0e-da55e712154e"
      },
      "execution_count": 204,
      "outputs": [
        {
          "output_type": "execute_result",
          "data": {
            "text/plain": [
              "tensor([[0., 0., 0., 0.],\n",
              "        [0., 0., 0., 0.],\n",
              "        [0., 0., 0., 0.]])"
            ]
          },
          "metadata": {},
          "execution_count": 204
        }
      ]
    },
    {
      "cell_type": "code",
      "source": [
        "ones = torch.ones(3,4)\n",
        "ones"
      ],
      "metadata": {
        "colab": {
          "base_uri": "https://localhost:8080/"
        },
        "id": "1adYdaLtEUf6",
        "outputId": "f3e5eac3-b75d-4705-b6cc-d6e5fc9f734f"
      },
      "execution_count": 205,
      "outputs": [
        {
          "output_type": "execute_result",
          "data": {
            "text/plain": [
              "tensor([[1., 1., 1., 1.],\n",
              "        [1., 1., 1., 1.],\n",
              "        [1., 1., 1., 1.]])"
            ]
          },
          "metadata": {},
          "execution_count": 205
        }
      ]
    },
    {
      "cell_type": "code",
      "source": [
        "ones.dtype"
      ],
      "metadata": {
        "colab": {
          "base_uri": "https://localhost:8080/"
        },
        "id": "moMjbjotEZZ8",
        "outputId": "e43a98ae-d5bc-4f97-aec9-005e43f0bd34"
      },
      "execution_count": 206,
      "outputs": [
        {
          "output_type": "execute_result",
          "data": {
            "text/plain": [
              "torch.float32"
            ]
          },
          "metadata": {},
          "execution_count": 206
        }
      ]
    },
    {
      "cell_type": "code",
      "source": [
        "random_tensor.dtype"
      ],
      "metadata": {
        "colab": {
          "base_uri": "https://localhost:8080/"
        },
        "id": "OIrJ_e46EbcM",
        "outputId": "33989bf6-0d9a-47f5-ddc5-b9e59a91680d"
      },
      "execution_count": 207,
      "outputs": [
        {
          "output_type": "execute_result",
          "data": {
            "text/plain": [
              "torch.float32"
            ]
          },
          "metadata": {},
          "execution_count": 207
        }
      ]
    },
    {
      "cell_type": "markdown",
      "source": [
        "### Creating a range of tensors and tensors-like"
      ],
      "metadata": {
        "id": "mtYSsbv8Ezom"
      }
    },
    {
      "cell_type": "code",
      "source": [
        "one_to_ten = torch.arange(1,11)\n",
        "even = torch.arange(2,11,2)\n",
        "\n",
        "one_to_ten, even"
      ],
      "metadata": {
        "colab": {
          "base_uri": "https://localhost:8080/"
        },
        "id": "b0_Tra_0E5uH",
        "outputId": "648a9f28-c80d-4a7b-b4f4-17af30b81d8f"
      },
      "execution_count": 208,
      "outputs": [
        {
          "output_type": "execute_result",
          "data": {
            "text/plain": [
              "(tensor([ 1,  2,  3,  4,  5,  6,  7,  8,  9, 10]),\n",
              " tensor([ 2,  4,  6,  8, 10]))"
            ]
          },
          "metadata": {},
          "execution_count": 208
        }
      ]
    },
    {
      "cell_type": "code",
      "source": [
        "ten_zeros = torch.zeros_like(one_to_ten)\n",
        "ten_ones = torch.ones_like(ten_zeros)\n",
        "\n",
        "ten_zeros,ten_ones"
      ],
      "metadata": {
        "colab": {
          "base_uri": "https://localhost:8080/"
        },
        "id": "FKL9BWjOFOA4",
        "outputId": "0daf5389-9635-463b-a123-262aed1e3b1d"
      },
      "execution_count": 209,
      "outputs": [
        {
          "output_type": "execute_result",
          "data": {
            "text/plain": [
              "(tensor([0, 0, 0, 0, 0, 0, 0, 0, 0, 0]),\n",
              " tensor([1, 1, 1, 1, 1, 1, 1, 1, 1, 1]))"
            ]
          },
          "metadata": {},
          "execution_count": 209
        }
      ]
    },
    {
      "cell_type": "markdown",
      "source": [
        "### Tensor Datatypes\n",
        "\n",
        "**Note:** Tensor datatypes is one of the 3 big errors you'll run into pytorch & deep learning:\n",
        "  1. Tensors not right datatype\n",
        "  2. Tensors not right shape\n",
        "  3. Tensors not on the right device"
      ],
      "metadata": {
        "id": "V5J4KzZWGXm3"
      }
    },
    {
      "cell_type": "code",
      "source": [
        "# Float32 tensor\n",
        "\n",
        "f32_tensor = torch.tensor([3.0,6.0,9.0],dtype = None)\n",
        "f16_tensor = torch.tensor([3.0,6.0,9.0],dtype = torch.float16)\n",
        "\n",
        "f_other_options = torch.tensor([3,2,1,1], dtype=None, device=None, requires_grad= False)\n",
        "\n",
        "f32_tensor, f32_tensor.dtype, f16_tensor, f16_tensor.dtype"
      ],
      "metadata": {
        "colab": {
          "base_uri": "https://localhost:8080/"
        },
        "id": "BjiCnqScGa_4",
        "outputId": "64bd2a0c-8d8f-4ab0-a21f-c7b63d86e9ed"
      },
      "execution_count": 210,
      "outputs": [
        {
          "output_type": "execute_result",
          "data": {
            "text/plain": [
              "(tensor([3., 6., 9.]),\n",
              " torch.float32,\n",
              " tensor([3., 6., 9.], dtype=torch.float16),\n",
              " torch.float16)"
            ]
          },
          "metadata": {},
          "execution_count": 210
        }
      ]
    },
    {
      "cell_type": "code",
      "source": [
        "exp_f16_tensor = f32_tensor.type(torch.half)\n",
        "exp_f16_tensor"
      ],
      "metadata": {
        "colab": {
          "base_uri": "https://localhost:8080/"
        },
        "id": "fX2dy9DJGnhc",
        "outputId": "9ceb1520-2706-42c4-f0f4-4e3c5219e077"
      },
      "execution_count": 211,
      "outputs": [
        {
          "output_type": "execute_result",
          "data": {
            "text/plain": [
              "tensor([3., 6., 9.], dtype=torch.float16)"
            ]
          },
          "metadata": {},
          "execution_count": 211
        }
      ]
    },
    {
      "cell_type": "code",
      "source": [
        "exp_f16_tensor * f32_tensor"
      ],
      "metadata": {
        "colab": {
          "base_uri": "https://localhost:8080/"
        },
        "id": "KlOMtWzLMic4",
        "outputId": "79786e9a-b4dd-4591-8c79-d4d04ce710d0"
      },
      "execution_count": 212,
      "outputs": [
        {
          "output_type": "execute_result",
          "data": {
            "text/plain": [
              "tensor([ 9., 36., 81.])"
            ]
          },
          "metadata": {},
          "execution_count": 212
        }
      ]
    },
    {
      "cell_type": "code",
      "source": [
        "i32_tensor = torch.tensor([1,2,34], dtype= torch.int32)"
      ],
      "metadata": {
        "id": "2BDMQ01UN82a"
      },
      "execution_count": 213,
      "outputs": []
    },
    {
      "cell_type": "code",
      "source": [
        "exp_f16_tensor * i32_tensor"
      ],
      "metadata": {
        "colab": {
          "base_uri": "https://localhost:8080/"
        },
        "id": "xTOh4glROD21",
        "outputId": "28b75756-2bfa-4122-9c47-693fb0855bb7"
      },
      "execution_count": 214,
      "outputs": [
        {
          "output_type": "execute_result",
          "data": {
            "text/plain": [
              "tensor([  3.,  12., 306.], dtype=torch.float16)"
            ]
          },
          "metadata": {},
          "execution_count": 214
        }
      ]
    },
    {
      "cell_type": "code",
      "source": [
        "long_tensor = torch.tensor([1,2,3], dtype= torch.long)\n",
        "\n",
        "exp_f16_tensor * long_tensor"
      ],
      "metadata": {
        "colab": {
          "base_uri": "https://localhost:8080/"
        },
        "id": "eodbsbm2OHU7",
        "outputId": "8a45a0cc-ee97-4264-bda3-98f5aafc3434"
      },
      "execution_count": 215,
      "outputs": [
        {
          "output_type": "execute_result",
          "data": {
            "text/plain": [
              "tensor([ 3., 12., 27.], dtype=torch.float16)"
            ]
          },
          "metadata": {},
          "execution_count": 215
        }
      ]
    },
    {
      "cell_type": "markdown",
      "source": [
        "\n",
        "### Getting information from tensors\n",
        "\n",
        "  1. Shape\n",
        "  2. Dtype\n",
        "  3. Device"
      ],
      "metadata": {
        "id": "Lu8NP0p6O3To"
      }
    },
    {
      "cell_type": "code",
      "source": [
        "test = torch.tensor([1,2,3])\n",
        "test"
      ],
      "metadata": {
        "colab": {
          "base_uri": "https://localhost:8080/"
        },
        "id": "lYNlOGZLO6_B",
        "outputId": "ae2b6c51-d5eb-4dd3-a4ff-eb5b68e7506c"
      },
      "execution_count": 216,
      "outputs": [
        {
          "output_type": "execute_result",
          "data": {
            "text/plain": [
              "tensor([1, 2, 3])"
            ]
          },
          "metadata": {},
          "execution_count": 216
        }
      ]
    },
    {
      "cell_type": "code",
      "source": [
        "print(f\"shape : {test.shape} \\ndtype : {test.dtype}\\ndevice : {test.device}\")"
      ],
      "metadata": {
        "colab": {
          "base_uri": "https://localhost:8080/"
        },
        "id": "Fuudv5jYPOXT",
        "outputId": "3333c524-e43f-460b-fc11-8f6301078d4b"
      },
      "execution_count": 217,
      "outputs": [
        {
          "output_type": "stream",
          "name": "stdout",
          "text": [
            "shape : torch.Size([3]) \n",
            "dtype : torch.int64\n",
            "device : cpu\n"
          ]
        }
      ]
    },
    {
      "cell_type": "markdown",
      "source": [
        "### Manipulating tensors\n",
        "\n",
        "Tensors operations like:\n",
        "* Addition\n",
        "* Subtraction\n",
        "* Multiplication (element-wise)\n",
        "* Division\n",
        "* Matrix multiplication"
      ],
      "metadata": {
        "id": "V8M56_NQP6AN"
      }
    },
    {
      "cell_type": "code",
      "source": [
        "tensor = torch.tensor([1,2,3])\n",
        "tensor, tensor+10, tensor*10, tensor - 10"
      ],
      "metadata": {
        "colab": {
          "base_uri": "https://localhost:8080/"
        },
        "id": "TzVIZMAQQEEr",
        "outputId": "6ff4d696-ccfe-44ba-eb68-d7c9e112ce20"
      },
      "execution_count": 218,
      "outputs": [
        {
          "output_type": "execute_result",
          "data": {
            "text/plain": [
              "(tensor([1, 2, 3]),\n",
              " tensor([11, 12, 13]),\n",
              " tensor([10, 20, 30]),\n",
              " tensor([-9, -8, -7]))"
            ]
          },
          "metadata": {},
          "execution_count": 218
        }
      ]
    },
    {
      "cell_type": "code",
      "source": [
        "# Tryin PyTorch in-bulit functions\n",
        "torch.mul(tensor, 10 )"
      ],
      "metadata": {
        "colab": {
          "base_uri": "https://localhost:8080/"
        },
        "id": "EBlkyW1lP9Nu",
        "outputId": "c2ca2f93-1404-43a9-ce24-b4320c8a28b9"
      },
      "execution_count": 219,
      "outputs": [
        {
          "output_type": "execute_result",
          "data": {
            "text/plain": [
              "tensor([10, 20, 30])"
            ]
          },
          "metadata": {},
          "execution_count": 219
        }
      ]
    },
    {
      "cell_type": "code",
      "source": [
        "torch.add(tensor, 10 )"
      ],
      "metadata": {
        "colab": {
          "base_uri": "https://localhost:8080/"
        },
        "id": "zZCzL0XVRXOw",
        "outputId": "991333c4-f437-4306-e69a-f9e865477102"
      },
      "execution_count": 220,
      "outputs": [
        {
          "output_type": "execute_result",
          "data": {
            "text/plain": [
              "tensor([11, 12, 13])"
            ]
          },
          "metadata": {},
          "execution_count": 220
        }
      ]
    },
    {
      "cell_type": "code",
      "source": [
        "torch.div(tensor,2)"
      ],
      "metadata": {
        "colab": {
          "base_uri": "https://localhost:8080/"
        },
        "id": "o_hKD2fPXefd",
        "outputId": "110b6be7-b6b8-4bbe-b344-d7fb3f3d7a3b"
      },
      "execution_count": 221,
      "outputs": [
        {
          "output_type": "execute_result",
          "data": {
            "text/plain": [
              "tensor([0.5000, 1.0000, 1.5000])"
            ]
          },
          "metadata": {},
          "execution_count": 221
        }
      ]
    },
    {
      "cell_type": "code",
      "source": [
        "tensor, torch.sub(tensor, 1), torch.sub(tensor, -1)"
      ],
      "metadata": {
        "colab": {
          "base_uri": "https://localhost:8080/"
        },
        "id": "sJj-Wv7bXjAP",
        "outputId": "4cb9c517-3e44-4b13-8f3a-4f91572bd00b"
      },
      "execution_count": 222,
      "outputs": [
        {
          "output_type": "execute_result",
          "data": {
            "text/plain": [
              "(tensor([1, 2, 3]), tensor([0, 1, 2]), tensor([2, 3, 4]))"
            ]
          },
          "metadata": {},
          "execution_count": 222
        }
      ]
    },
    {
      "cell_type": "markdown",
      "source": [
        "### Matrix Multiplication\n",
        "\n",
        "Two ways of multipication in neural networks and deep learning:\n",
        "\n",
        "1. Element-wise multiplication\n",
        "2. Matrix multiplication (Dot product)\n",
        "\n",
        "Rules to matrix multiplication:\n",
        "1. **Inner dimensions** must match\n",
        "* `(3,2) @ (3,2)` will not work\n",
        "* `(3,2) @ (2,3)` will work\n",
        "* `(2,3) @ (3,2)` will work\n",
        "2. The resulting matrix has the shape of the **outer dimensions**\n",
        "* `(2,3) @ (3,2) => (2,2)`\n",
        "* `(3,2) @ (2,3) => (3,3)`\n",
        "\n"
      ],
      "metadata": {
        "id": "f90zeR95JcCU"
      }
    },
    {
      "cell_type": "code",
      "source": [
        "### Element-wise multiplication\n",
        "\n",
        "tensor * tensor"
      ],
      "metadata": {
        "colab": {
          "base_uri": "https://localhost:8080/"
        },
        "id": "wbJSdBnyJejj",
        "outputId": "f0ce576d-649b-4b05-f563-820dc440b4c4"
      },
      "execution_count": 223,
      "outputs": [
        {
          "output_type": "execute_result",
          "data": {
            "text/plain": [
              "tensor([1, 4, 9])"
            ]
          },
          "metadata": {},
          "execution_count": 223
        }
      ]
    },
    {
      "cell_type": "code",
      "source": [
        "### Matrix multiplication\n",
        "\n",
        "torch.matmul(tensor, tensor)"
      ],
      "metadata": {
        "colab": {
          "base_uri": "https://localhost:8080/"
        },
        "id": "FBHUIirtKjqK",
        "outputId": "f845f538-7f80-48fb-e9af-305c3d302b7a"
      },
      "execution_count": 224,
      "outputs": [
        {
          "output_type": "execute_result",
          "data": {
            "text/plain": [
              "tensor(14)"
            ]
          },
          "metadata": {},
          "execution_count": 224
        }
      ]
    },
    {
      "cell_type": "markdown",
      "source": [
        "### One of the most common errors is shape errors"
      ],
      "metadata": {
        "id": "3eApaJZhTN1Q"
      }
    },
    {
      "cell_type": "code",
      "source": [
        "\n",
        "torch.matmul(torch.rand(3,2), torch.rand(2,3))"
      ],
      "metadata": {
        "colab": {
          "base_uri": "https://localhost:8080/"
        },
        "id": "CMsFRkT2Tn6n",
        "outputId": "5102f984-bc37-453c-d156-91c5d8639e2c"
      },
      "execution_count": 225,
      "outputs": [
        {
          "output_type": "execute_result",
          "data": {
            "text/plain": [
              "tensor([[0.5907, 0.1807, 0.3270],\n",
              "        [0.1801, 0.0550, 0.1001],\n",
              "        [0.3888, 0.1214, 0.2044]])"
            ]
          },
          "metadata": {},
          "execution_count": 225
        }
      ]
    },
    {
      "cell_type": "code",
      "source": [
        "A = torch.tensor([[1,2],\n",
        "                 [3,4],\n",
        "                 [5,6]])\n",
        "\n",
        "B = torch.tensor([[7,8],\n",
        "                 [9,10],\n",
        "                 [11,12]])\n",
        "\n",
        "torch.mm(A,B)  #short form of matmul"
      ],
      "metadata": {
        "colab": {
          "base_uri": "https://localhost:8080/",
          "height": 176
        },
        "id": "rFA_U5_eWby1",
        "outputId": "0364cb05-5cf6-4330-e4e8-dda2f5bc9af8"
      },
      "execution_count": 226,
      "outputs": [
        {
          "output_type": "error",
          "ename": "RuntimeError",
          "evalue": "mat1 and mat2 shapes cannot be multiplied (3x2 and 3x2)",
          "traceback": [
            "\u001b[0;31m---------------------------------------------------------------------------\u001b[0m",
            "\u001b[0;31mRuntimeError\u001b[0m                              Traceback (most recent call last)",
            "\u001b[0;32m<ipython-input-226-c51200c19e32>\u001b[0m in \u001b[0;36m<cell line: 9>\u001b[0;34m()\u001b[0m\n\u001b[1;32m      7\u001b[0m                  [11,12]])\n\u001b[1;32m      8\u001b[0m \u001b[0;34m\u001b[0m\u001b[0m\n\u001b[0;32m----> 9\u001b[0;31m \u001b[0mtorch\u001b[0m\u001b[0;34m.\u001b[0m\u001b[0mmm\u001b[0m\u001b[0;34m(\u001b[0m\u001b[0mA\u001b[0m\u001b[0;34m,\u001b[0m\u001b[0mB\u001b[0m\u001b[0;34m)\u001b[0m  \u001b[0;31m#short form of matmul\u001b[0m\u001b[0;34m\u001b[0m\u001b[0;34m\u001b[0m\u001b[0m\n\u001b[0m",
            "\u001b[0;31mRuntimeError\u001b[0m: mat1 and mat2 shapes cannot be multiplied (3x2 and 3x2)"
          ]
        }
      ]
    },
    {
      "cell_type": "code",
      "source": [
        "B"
      ],
      "metadata": {
        "colab": {
          "base_uri": "https://localhost:8080/"
        },
        "id": "ctG18tseXa4D",
        "outputId": "e7ee0dde-37a6-4c9f-f3aa-54f1bafe1e16"
      },
      "execution_count": 227,
      "outputs": [
        {
          "output_type": "execute_result",
          "data": {
            "text/plain": [
              "tensor([[ 7,  8],\n",
              "        [ 9, 10],\n",
              "        [11, 12]])"
            ]
          },
          "metadata": {},
          "execution_count": 227
        }
      ]
    },
    {
      "cell_type": "code",
      "source": [
        "A.shape, B.shape"
      ],
      "metadata": {
        "colab": {
          "base_uri": "https://localhost:8080/"
        },
        "id": "intACr9WW7Od",
        "outputId": "a5e8fea0-2e7a-4f49-8865-7ccc1154028e"
      },
      "execution_count": 228,
      "outputs": [
        {
          "output_type": "execute_result",
          "data": {
            "text/plain": [
              "(torch.Size([3, 2]), torch.Size([3, 2]))"
            ]
          },
          "metadata": {},
          "execution_count": 228
        }
      ]
    },
    {
      "cell_type": "markdown",
      "source": [
        "To fix the above error, we should transpose the matrix"
      ],
      "metadata": {
        "id": "C_cwMcgTW-9k"
      }
    },
    {
      "cell_type": "code",
      "source": [
        "B.T, B.T.shape # Transposing B matrix"
      ],
      "metadata": {
        "colab": {
          "base_uri": "https://localhost:8080/"
        },
        "id": "aesQf9aSXE6i",
        "outputId": "9226b3a6-c830-4efe-a476-be32a90c6b5b"
      },
      "execution_count": 229,
      "outputs": [
        {
          "output_type": "execute_result",
          "data": {
            "text/plain": [
              "(tensor([[ 7,  9, 11],\n",
              "         [ 8, 10, 12]]),\n",
              " torch.Size([2, 3]))"
            ]
          },
          "metadata": {},
          "execution_count": 229
        }
      ]
    },
    {
      "cell_type": "code",
      "source": [
        "output = torch.mm(A,B.T) # B matrix is given asa transpose matrix\n",
        "\n",
        "output, output.shape"
      ],
      "metadata": {
        "colab": {
          "base_uri": "https://localhost:8080/"
        },
        "id": "2sh_Y6ipXHnx",
        "outputId": "576d178c-875d-41a6-acd6-06a510bc7423"
      },
      "execution_count": 230,
      "outputs": [
        {
          "output_type": "execute_result",
          "data": {
            "text/plain": [
              "(tensor([[ 23,  29,  35],\n",
              "         [ 53,  67,  81],\n",
              "         [ 83, 105, 127]]),\n",
              " torch.Size([3, 3]))"
            ]
          },
          "metadata": {},
          "execution_count": 230
        }
      ]
    },
    {
      "cell_type": "markdown",
      "source": [
        "FInding min, max, mean and sum"
      ],
      "metadata": {
        "id": "IWidUCpHYFzj"
      }
    },
    {
      "cell_type": "code",
      "source": [
        "x = torch.arange(0,100,10)\n",
        "x\n"
      ],
      "metadata": {
        "id": "AGXxcUHiZXTE",
        "colab": {
          "base_uri": "https://localhost:8080/"
        },
        "outputId": "0286c76e-9861-4619-e5fd-639ba5a62815"
      },
      "execution_count": 231,
      "outputs": [
        {
          "output_type": "execute_result",
          "data": {
            "text/plain": [
              "tensor([ 0, 10, 20, 30, 40, 50, 60, 70, 80, 90])"
            ]
          },
          "metadata": {},
          "execution_count": 231
        }
      ]
    },
    {
      "cell_type": "code",
      "source": [
        "# Maximumm value of the tensor\n",
        "torch.max(x), x.max()"
      ],
      "metadata": {
        "colab": {
          "base_uri": "https://localhost:8080/"
        },
        "id": "YM4EJzJiiy9a",
        "outputId": "87de118b-a851-4ce8-f836-a4df40b0808b"
      },
      "execution_count": 232,
      "outputs": [
        {
          "output_type": "execute_result",
          "data": {
            "text/plain": [
              "(tensor(90), tensor(90))"
            ]
          },
          "metadata": {},
          "execution_count": 232
        }
      ]
    },
    {
      "cell_type": "code",
      "source": [
        "# Minimumm value of the tensor\n",
        "torch.min(x), x.min()"
      ],
      "metadata": {
        "colab": {
          "base_uri": "https://localhost:8080/"
        },
        "outputId": "ae654d7a-bd13-43c3-d3e5-7034372a7e99",
        "id": "0ddpPvf7jwQZ"
      },
      "execution_count": 233,
      "outputs": [
        {
          "output_type": "execute_result",
          "data": {
            "text/plain": [
              "(tensor(0), tensor(0))"
            ]
          },
          "metadata": {},
          "execution_count": 233
        }
      ]
    },
    {
      "cell_type": "code",
      "source": [
        "# Mean of the tensor\n",
        "torch.mean(x.type(torch.float32)), x.type(torch.float32).mean()"
      ],
      "metadata": {
        "colab": {
          "base_uri": "https://localhost:8080/"
        },
        "id": "wIdR8643i2Ge",
        "outputId": "644ba603-f864-47d7-bb38-a64853c8f31d"
      },
      "execution_count": 234,
      "outputs": [
        {
          "output_type": "execute_result",
          "data": {
            "text/plain": [
              "(tensor(45.), tensor(45.))"
            ]
          },
          "metadata": {},
          "execution_count": 234
        }
      ]
    },
    {
      "cell_type": "markdown",
      "source": [
        "### Finding the position of the maximum and minimum value"
      ],
      "metadata": {
        "id": "JLjvuJc3kiyV"
      }
    },
    {
      "cell_type": "code",
      "source": [
        "### Finding the position of the maximum and minimum value\n",
        "\n",
        "x.argmin(), x[x.argmin()], x.argmax(), x[x.argmax()]"
      ],
      "metadata": {
        "colab": {
          "base_uri": "https://localhost:8080/"
        },
        "id": "9rUI56IRi7d8",
        "outputId": "6c92279d-d856-471a-fad5-edd0471a9abf"
      },
      "execution_count": 235,
      "outputs": [
        {
          "output_type": "execute_result",
          "data": {
            "text/plain": [
              "(tensor(0), tensor(0), tensor(9), tensor(90))"
            ]
          },
          "metadata": {},
          "execution_count": 235
        }
      ]
    },
    {
      "cell_type": "markdown",
      "source": [
        "### Reshaping, stacking, squeezing and unsqueezing tensors\n",
        "\n",
        "* Reshaping: reshapes an input tensor to a defined shape.\n",
        "* Viewing; Return a view of an input tensor of certain shape but keep the same memory as the original tensor.\n",
        "* Stacking: combine multiple tensors on top of each other(vstack) or side by side(hstack).\n",
        "* Squeeze: removes all `1` dimensions from a tensor.\n",
        "* Unsqueeze: add a `1` dimension to a target tensor.\n",
        "* permute: Retuirn a view of input with dimensions permuted (swapped) in a certain way.\n",
        "\n"
      ],
      "metadata": {
        "id": "aan8urnUkWsM"
      }
    },
    {
      "cell_type": "code",
      "source": [
        "# creating a tensor\n",
        "x = torch.arange(1.,9.)\n",
        "x, x.shape"
      ],
      "metadata": {
        "colab": {
          "base_uri": "https://localhost:8080/"
        },
        "id": "sagQCOaEkfzt",
        "outputId": "c5fa07c0-63e5-4a65-cadd-1d5b50e036a6"
      },
      "execution_count": 236,
      "outputs": [
        {
          "output_type": "execute_result",
          "data": {
            "text/plain": [
              "(tensor([1., 2., 3., 4., 5., 6., 7., 8.]), torch.Size([8]))"
            ]
          },
          "metadata": {},
          "execution_count": 236
        }
      ]
    },
    {
      "cell_type": "code",
      "source": [
        "x_reshape = x.reshape(1,8)\n",
        "x_reshape, x_reshape.shape"
      ],
      "metadata": {
        "colab": {
          "base_uri": "https://localhost:8080/"
        },
        "id": "tkxceWX8m95V",
        "outputId": "ddf51461-e93a-4842-a118-15067b91db63"
      },
      "execution_count": 237,
      "outputs": [
        {
          "output_type": "execute_result",
          "data": {
            "text/plain": [
              "(tensor([[1., 2., 3., 4., 5., 6., 7., 8.]]), torch.Size([1, 8]))"
            ]
          },
          "metadata": {},
          "execution_count": 237
        }
      ]
    },
    {
      "cell_type": "code",
      "source": [
        "# Creating and changing the view\n",
        "z = x.view(1,8)\n",
        "z, z.shape"
      ],
      "metadata": {
        "colab": {
          "base_uri": "https://localhost:8080/"
        },
        "id": "VU1lYNLynI_2",
        "outputId": "3cca0537-b306-4a1f-adf3-960ce25656ca"
      },
      "execution_count": 238,
      "outputs": [
        {
          "output_type": "execute_result",
          "data": {
            "text/plain": [
              "(tensor([[1., 2., 3., 4., 5., 6., 7., 8.]]), torch.Size([1, 8]))"
            ]
          },
          "metadata": {},
          "execution_count": 238
        }
      ]
    },
    {
      "cell_type": "code",
      "source": [
        "# changing z changes x (because view shares same memory of x)\n",
        "\n",
        "z[0][0] = 5\n",
        "z, x"
      ],
      "metadata": {
        "colab": {
          "base_uri": "https://localhost:8080/"
        },
        "id": "dnzxSQ_Qntez",
        "outputId": "1abfbbf4-3521-4e59-b907-dc5822ffe5a3"
      },
      "execution_count": 239,
      "outputs": [
        {
          "output_type": "execute_result",
          "data": {
            "text/plain": [
              "(tensor([[5., 2., 3., 4., 5., 6., 7., 8.]]),\n",
              " tensor([5., 2., 3., 4., 5., 6., 7., 8.]))"
            ]
          },
          "metadata": {},
          "execution_count": 239
        }
      ]
    },
    {
      "cell_type": "code",
      "source": [
        "# Stacking the tensor\n",
        "\n",
        "x_stackedh = torch.stack([x,x,x,x], dim = 0)\n",
        "x_stackedv = torch.stack([x,x,x,x], dim = 1)\n",
        "\n",
        "x_stackedh, x_stackedv"
      ],
      "metadata": {
        "colab": {
          "base_uri": "https://localhost:8080/"
        },
        "id": "JjvFKzSIoORl",
        "outputId": "eeb6511c-762b-4865-a270-30c5a3b302ae"
      },
      "execution_count": 240,
      "outputs": [
        {
          "output_type": "execute_result",
          "data": {
            "text/plain": [
              "(tensor([[5., 2., 3., 4., 5., 6., 7., 8.],\n",
              "         [5., 2., 3., 4., 5., 6., 7., 8.],\n",
              "         [5., 2., 3., 4., 5., 6., 7., 8.],\n",
              "         [5., 2., 3., 4., 5., 6., 7., 8.]]),\n",
              " tensor([[5., 5., 5., 5.],\n",
              "         [2., 2., 2., 2.],\n",
              "         [3., 3., 3., 3.],\n",
              "         [4., 4., 4., 4.],\n",
              "         [5., 5., 5., 5.],\n",
              "         [6., 6., 6., 6.],\n",
              "         [7., 7., 7., 7.],\n",
              "         [8., 8., 8., 8.]]))"
            ]
          },
          "metadata": {},
          "execution_count": 240
        }
      ]
    },
    {
      "cell_type": "markdown",
      "source": [
        "### Squeezing and unsqueezing"
      ],
      "metadata": {
        "id": "41uJDnrOo3q9"
      }
    },
    {
      "cell_type": "code",
      "source": [
        "x_reshape, x_reshape.shape, x_reshape.squeeze(), x_reshape.squeeze().shape"
      ],
      "metadata": {
        "colab": {
          "base_uri": "https://localhost:8080/"
        },
        "id": "JWIUc0JBoo-u",
        "outputId": "cc893381-2f6f-4bbb-fde2-95867a40b02b"
      },
      "execution_count": 241,
      "outputs": [
        {
          "output_type": "execute_result",
          "data": {
            "text/plain": [
              "(tensor([[5., 2., 3., 4., 5., 6., 7., 8.]]),\n",
              " torch.Size([1, 8]),\n",
              " tensor([5., 2., 3., 4., 5., 6., 7., 8.]),\n",
              " torch.Size([8]))"
            ]
          },
          "metadata": {},
          "execution_count": 241
        }
      ]
    },
    {
      "cell_type": "code",
      "source": [
        "x = torch.zeros(2, 1, 2, 1, 2)\n",
        "x, x.shape"
      ],
      "metadata": {
        "colab": {
          "base_uri": "https://localhost:8080/"
        },
        "id": "14XPK-tOqWYE",
        "outputId": "1efcd220-ed95-48c5-caa7-c2979c829b4d"
      },
      "execution_count": 242,
      "outputs": [
        {
          "output_type": "execute_result",
          "data": {
            "text/plain": [
              "(tensor([[[[[0., 0.]],\n",
              " \n",
              "           [[0., 0.]]]],\n",
              " \n",
              " \n",
              " \n",
              "         [[[[0., 0.]],\n",
              " \n",
              "           [[0., 0.]]]]]),\n",
              " torch.Size([2, 1, 2, 1, 2]))"
            ]
          },
          "metadata": {},
          "execution_count": 242
        }
      ]
    },
    {
      "cell_type": "code",
      "source": [
        "y = torch.squeeze(x)\n",
        "y, y.size()"
      ],
      "metadata": {
        "colab": {
          "base_uri": "https://localhost:8080/"
        },
        "id": "E8b1OJ1Pq-oY",
        "outputId": "50b4890c-951e-4ba1-8df0-64623b53cd26"
      },
      "execution_count": 243,
      "outputs": [
        {
          "output_type": "execute_result",
          "data": {
            "text/plain": [
              "(tensor([[[0., 0.],\n",
              "          [0., 0.]],\n",
              " \n",
              "         [[0., 0.],\n",
              "          [0., 0.]]]),\n",
              " torch.Size([2, 2, 2]))"
            ]
          },
          "metadata": {},
          "execution_count": 243
        }
      ]
    },
    {
      "cell_type": "code",
      "source": [
        "y = torch.squeeze(x,0)\n",
        "y.size()"
      ],
      "metadata": {
        "colab": {
          "base_uri": "https://localhost:8080/"
        },
        "id": "lEGGTrKZrEBf",
        "outputId": "e1cb9d09-51fb-48d9-865c-a65c76e5d70a"
      },
      "execution_count": 244,
      "outputs": [
        {
          "output_type": "execute_result",
          "data": {
            "text/plain": [
              "torch.Size([2, 1, 2, 1, 2])"
            ]
          },
          "metadata": {},
          "execution_count": 244
        }
      ]
    },
    {
      "cell_type": "code",
      "source": [
        "y=torch.squeeze(x,1)\n",
        "y.size()"
      ],
      "metadata": {
        "colab": {
          "base_uri": "https://localhost:8080/"
        },
        "id": "VbfsPu5PrE2g",
        "outputId": "01bf6c5b-cd34-4e9b-ad3f-c6fa046c8c13"
      },
      "execution_count": 245,
      "outputs": [
        {
          "output_type": "execute_result",
          "data": {
            "text/plain": [
              "torch.Size([2, 2, 1, 2])"
            ]
          },
          "metadata": {},
          "execution_count": 245
        }
      ]
    },
    {
      "cell_type": "code",
      "source": [
        "y = torch.squeeze(x, (1, 2, 3))\n",
        "y.shape"
      ],
      "metadata": {
        "colab": {
          "base_uri": "https://localhost:8080/"
        },
        "id": "YLyePNYzrO-R",
        "outputId": "7b1289ea-c828-40c0-b27a-685f28ef8e92"
      },
      "execution_count": 246,
      "outputs": [
        {
          "output_type": "execute_result",
          "data": {
            "text/plain": [
              "torch.Size([2, 2, 2])"
            ]
          },
          "metadata": {},
          "execution_count": 246
        }
      ]
    },
    {
      "cell_type": "code",
      "source": [
        "y, torch.unsqueeze(y, dim=2), torch.unsqueeze(y, dim = 2).shape"
      ],
      "metadata": {
        "colab": {
          "base_uri": "https://localhost:8080/"
        },
        "id": "QBOGh5wirTky",
        "outputId": "362fcfe3-f379-4681-dd34-cce89584e9e0"
      },
      "execution_count": 247,
      "outputs": [
        {
          "output_type": "execute_result",
          "data": {
            "text/plain": [
              "(tensor([[[0., 0.],\n",
              "          [0., 0.]],\n",
              " \n",
              "         [[0., 0.],\n",
              "          [0., 0.]]]),\n",
              " tensor([[[[0., 0.]],\n",
              " \n",
              "          [[0., 0.]]],\n",
              " \n",
              " \n",
              "         [[[0., 0.]],\n",
              " \n",
              "          [[0., 0.]]]]),\n",
              " torch.Size([2, 2, 1, 2]))"
            ]
          },
          "metadata": {},
          "execution_count": 247
        }
      ]
    },
    {
      "cell_type": "code",
      "source": [
        "# torch.permute - rearranges the dimensions of a target tensor in a specified order\n",
        "\n",
        "x_original = torch.rand(size= (244,244, 3))\n",
        "\n",
        "# permuting the tensor\n",
        "x_permuted = x_original.permute(2,0,1)\n",
        "x_original.shape, x_permuted.shape"
      ],
      "metadata": {
        "colab": {
          "base_uri": "https://localhost:8080/"
        },
        "id": "YF5brkqQr5B4",
        "outputId": "a7f0ebfa-3f10-4cdd-aa8e-de3259679779"
      },
      "execution_count": 248,
      "outputs": [
        {
          "output_type": "execute_result",
          "data": {
            "text/plain": [
              "(torch.Size([244, 244, 3]), torch.Size([3, 244, 244]))"
            ]
          },
          "metadata": {},
          "execution_count": 248
        }
      ]
    },
    {
      "cell_type": "code",
      "source": [
        "x_original[0, 0, 0] = 0.21\n",
        "x_original"
      ],
      "metadata": {
        "colab": {
          "base_uri": "https://localhost:8080/"
        },
        "id": "wLTgkW_KtZpH",
        "outputId": "eb1e5960-b103-4bd6-e412-91e32e33d029"
      },
      "execution_count": 249,
      "outputs": [
        {
          "output_type": "execute_result",
          "data": {
            "text/plain": [
              "tensor([[[0.2100, 0.5993, 0.4955],\n",
              "         [0.1359, 0.5243, 0.5060],\n",
              "         [0.9585, 0.6795, 0.3179],\n",
              "         ...,\n",
              "         [0.5819, 0.6645, 0.6947],\n",
              "         [0.3868, 0.5943, 0.5450],\n",
              "         [0.7333, 0.2652, 0.7571]],\n",
              "\n",
              "        [[0.5581, 0.0296, 0.5313],\n",
              "         [0.7686, 0.3790, 0.6679],\n",
              "         [0.0663, 0.2645, 0.7059],\n",
              "         ...,\n",
              "         [0.4972, 0.9194, 0.7749],\n",
              "         [0.1127, 0.9868, 0.4397],\n",
              "         [0.0655, 0.7202, 0.5757]],\n",
              "\n",
              "        [[0.6621, 0.6598, 0.2756],\n",
              "         [0.2820, 0.8156, 0.1140],\n",
              "         [0.1021, 0.7128, 0.7313],\n",
              "         ...,\n",
              "         [0.6583, 0.2568, 0.7770],\n",
              "         [0.4976, 0.4021, 0.9472],\n",
              "         [0.9572, 0.3454, 0.4321]],\n",
              "\n",
              "        ...,\n",
              "\n",
              "        [[0.5009, 0.9937, 0.7567],\n",
              "         [0.2154, 0.7376, 0.5781],\n",
              "         [0.3719, 0.1658, 0.5100],\n",
              "         ...,\n",
              "         [0.1909, 0.2468, 0.2773],\n",
              "         [0.2813, 0.4758, 0.1059],\n",
              "         [0.9519, 0.6832, 0.8814]],\n",
              "\n",
              "        [[0.9315, 0.9828, 0.1134],\n",
              "         [0.2074, 0.3237, 0.6904],\n",
              "         [0.1170, 0.2906, 0.2054],\n",
              "         ...,\n",
              "         [0.4841, 0.4851, 0.1716],\n",
              "         [0.2933, 0.9395, 0.5251],\n",
              "         [0.8311, 0.7757, 0.9108]],\n",
              "\n",
              "        [[0.0099, 0.5346, 0.4289],\n",
              "         [0.3754, 0.3466, 0.7981],\n",
              "         [0.0930, 0.8751, 0.0357],\n",
              "         ...,\n",
              "         [0.9218, 0.6378, 0.7442],\n",
              "         [0.0358, 0.7622, 0.2972],\n",
              "         [0.7488, 0.3506, 0.7123]]])"
            ]
          },
          "metadata": {},
          "execution_count": 249
        }
      ]
    },
    {
      "cell_type": "markdown",
      "source": [
        "### Indexing\n",
        "\n",
        "Same as numpy\n"
      ],
      "metadata": {
        "id": "uPSc4JJ5uCIU"
      }
    },
    {
      "cell_type": "code",
      "source": [
        "import torch\n",
        "x = torch.arange(1,10).reshape(1,3,3)\n",
        "x, x.shape\n"
      ],
      "metadata": {
        "colab": {
          "base_uri": "https://localhost:8080/"
        },
        "id": "7UN1bvR9uVIf",
        "outputId": "2914e67a-976c-431a-b2b0-6f9d70fa1439"
      },
      "execution_count": 250,
      "outputs": [
        {
          "output_type": "execute_result",
          "data": {
            "text/plain": [
              "(tensor([[[1, 2, 3],\n",
              "          [4, 5, 6],\n",
              "          [7, 8, 9]]]),\n",
              " torch.Size([1, 3, 3]))"
            ]
          },
          "metadata": {},
          "execution_count": 250
        }
      ]
    },
    {
      "cell_type": "code",
      "source": [
        "x[0], x[0,0], x[0][0], x[0][0][0], x[0,0,0]"
      ],
      "metadata": {
        "colab": {
          "base_uri": "https://localhost:8080/"
        },
        "id": "bLMJV776uj1y",
        "outputId": "c158b330-2e50-46ed-9fad-9f1fcb5499e6"
      },
      "execution_count": 251,
      "outputs": [
        {
          "output_type": "execute_result",
          "data": {
            "text/plain": [
              "(tensor([[1, 2, 3],\n",
              "         [4, 5, 6],\n",
              "         [7, 8, 9]]),\n",
              " tensor([1, 2, 3]),\n",
              " tensor([1, 2, 3]),\n",
              " tensor(1),\n",
              " tensor(1))"
            ]
          },
          "metadata": {},
          "execution_count": 251
        }
      ]
    },
    {
      "cell_type": "code",
      "source": [
        "x[:]"
      ],
      "metadata": {
        "colab": {
          "base_uri": "https://localhost:8080/"
        },
        "id": "_hjSdUuhv78A",
        "outputId": "6d0cbec0-3d0f-43ae-d5d4-8b408104f35f"
      },
      "execution_count": 252,
      "outputs": [
        {
          "output_type": "execute_result",
          "data": {
            "text/plain": [
              "tensor([[[1, 2, 3],\n",
              "         [4, 5, 6],\n",
              "         [7, 8, 9]]])"
            ]
          },
          "metadata": {},
          "execution_count": 252
        }
      ]
    },
    {
      "cell_type": "code",
      "source": [
        "x[:,0]"
      ],
      "metadata": {
        "colab": {
          "base_uri": "https://localhost:8080/"
        },
        "id": "7-gJKuPbuwG2",
        "outputId": "119aa4f2-e4e0-41b8-eae6-e9694804f018"
      },
      "execution_count": 253,
      "outputs": [
        {
          "output_type": "execute_result",
          "data": {
            "text/plain": [
              "tensor([[1, 2, 3]])"
            ]
          },
          "metadata": {},
          "execution_count": 253
        }
      ]
    },
    {
      "cell_type": "code",
      "source": [
        "# Get all values of 0th and 1st dimensions but only index 1 of 2nd dimension\n",
        "x[:, :, 1]"
      ],
      "metadata": {
        "colab": {
          "base_uri": "https://localhost:8080/"
        },
        "id": "4SztpK39vtrY",
        "outputId": "cfe7a886-ba66-4667-a69b-5277e944a7d8"
      },
      "execution_count": 254,
      "outputs": [
        {
          "output_type": "execute_result",
          "data": {
            "text/plain": [
              "tensor([[2, 5, 8]])"
            ]
          },
          "metadata": {},
          "execution_count": 254
        }
      ]
    },
    {
      "cell_type": "code",
      "source": [
        "# Get all values of the 0 dimension but only the 1 index value of 1st and 2nd dimension\n",
        "x[:, 1,1 ]"
      ],
      "metadata": {
        "colab": {
          "base_uri": "https://localhost:8080/"
        },
        "id": "ODM1AzXLwDA5",
        "outputId": "887df790-7229-40a2-9848-d3e6891816b6"
      },
      "execution_count": 255,
      "outputs": [
        {
          "output_type": "execute_result",
          "data": {
            "text/plain": [
              "tensor([5])"
            ]
          },
          "metadata": {},
          "execution_count": 255
        }
      ]
    },
    {
      "cell_type": "code",
      "source": [
        "# Get index 0 of 0th and 1st dimension and all values of 2nd dimension\n",
        "x[0,0,:]"
      ],
      "metadata": {
        "colab": {
          "base_uri": "https://localhost:8080/"
        },
        "id": "E3pXjwC2wbl0",
        "outputId": "d5bfdbff-54b5-45d4-b37f-17419fd3c873"
      },
      "execution_count": 256,
      "outputs": [
        {
          "output_type": "execute_result",
          "data": {
            "text/plain": [
              "tensor([1, 2, 3])"
            ]
          },
          "metadata": {},
          "execution_count": 256
        }
      ]
    },
    {
      "cell_type": "code",
      "source": [
        "#Index on x to return 9, Index on x to return 3, 6, 9\n",
        "x[0,2,2], x[0, :, 2]"
      ],
      "metadata": {
        "colab": {
          "base_uri": "https://localhost:8080/"
        },
        "id": "O9D7j6ylw6Qe",
        "outputId": "140aaf2c-3c30-4199-c322-3dd6d46a5d63"
      },
      "execution_count": 257,
      "outputs": [
        {
          "output_type": "execute_result",
          "data": {
            "text/plain": [
              "(tensor(9), tensor([3, 6, 9]))"
            ]
          },
          "metadata": {},
          "execution_count": 257
        }
      ]
    },
    {
      "cell_type": "markdown",
      "source": [
        "  ## PyTorch tesnors and NumPy\n",
        "  PyTorch has functionality to interact with NumPy array\n",
        "\n",
        "  NumPy -> PyTorch`torch.from_numpy(ndarray)`\n",
        "  \n",
        "  PyTorch -> NumPy `torch.Tensor.numpy()`"
      ],
      "metadata": {
        "id": "nbyfSMl5xPyR"
      }
    },
    {
      "cell_type": "code",
      "source": [
        "import torch, numpy\n",
        "\n",
        "array = numpy.arange(1,10)\n",
        "tensor = torch.arange(1,10)\n",
        "\n",
        "array, tensor"
      ],
      "metadata": {
        "colab": {
          "base_uri": "https://localhost:8080/"
        },
        "id": "sesbLykQ5BPr",
        "outputId": "698aef2d-dd36-4b66-98ed-190191a7de4c"
      },
      "execution_count": 258,
      "outputs": [
        {
          "output_type": "execute_result",
          "data": {
            "text/plain": [
              "(array([1, 2, 3, 4, 5, 6, 7, 8, 9]), tensor([1, 2, 3, 4, 5, 6, 7, 8, 9]))"
            ]
          },
          "metadata": {},
          "execution_count": 258
        }
      ]
    },
    {
      "cell_type": "code",
      "source": [
        "array_tensor = torch.from_numpy(array) # it reflects numpy's default float32 dtype\n",
        "\n",
        "tensor_array = tensor.numpy()\n",
        "\n",
        "array_tensor, tensor_array"
      ],
      "metadata": {
        "colab": {
          "base_uri": "https://localhost:8080/"
        },
        "id": "cRZIVsrK5oyY",
        "outputId": "4dfc2452-633c-4c30-8c8c-49c6f3df2ade"
      },
      "execution_count": 259,
      "outputs": [
        {
          "output_type": "execute_result",
          "data": {
            "text/plain": [
              "(tensor([1, 2, 3, 4, 5, 6, 7, 8, 9]), array([1, 2, 3, 4, 5, 6, 7, 8, 9]))"
            ]
          },
          "metadata": {},
          "execution_count": 259
        }
      ]
    },
    {
      "cell_type": "markdown",
      "source": [
        "# Reproducbility (trying to take random out of random)\n",
        "In short how a neural network learns :\n",
        "\n",
        "`start with random numbers —> tensor operations —> update random numbers to try and\n",
        "make them better representations of the data —> again —> again —> again...`\n",
        "\n",
        "To reduce the randomness in neural networks and Pytorch comes the concept of a **random seed**\n",
        "\n",
        "Essentially what the random seed does in \"flavour\" the randomness\n"
      ],
      "metadata": {
        "id": "sNR8lzYN51U6"
      }
    },
    {
      "cell_type": "code",
      "source": [
        "import torch\n",
        "\n",
        "## two random tensors\n",
        "\n",
        "rand_a = torch.rand(3,4)\n",
        "rand_b = torch.rand(3,4)\n",
        "\n",
        "rand_a, rand_b, rand_a == rand_b"
      ],
      "metadata": {
        "colab": {
          "base_uri": "https://localhost:8080/"
        },
        "id": "NrVwpprj7d-9",
        "outputId": "fda4fadb-b058-44ee-aa93-c56ef64c15c2"
      },
      "execution_count": 260,
      "outputs": [
        {
          "output_type": "execute_result",
          "data": {
            "text/plain": [
              "(tensor([[0.7906, 0.7099, 0.3104, 0.2351],\n",
              "         [0.8110, 0.5671, 0.1783, 0.3431],\n",
              "         [0.1299, 0.6918, 0.6302, 0.1508]]),\n",
              " tensor([[0.0653, 0.2287, 0.5557, 0.4310],\n",
              "         [0.1024, 0.9066, 0.3425, 0.1414],\n",
              "         [0.3552, 0.9848, 0.7963, 0.0748]]),\n",
              " tensor([[False, False, False, False],\n",
              "         [False, False, False, False],\n",
              "         [False, False, False, False]]))"
            ]
          },
          "metadata": {},
          "execution_count": 260
        }
      ]
    },
    {
      "cell_type": "code",
      "source": [
        "# Make some reproducible random tensors\n",
        "\n",
        "random_seed = 32\n",
        "\n",
        "torch.manual_seed(random_seed)\n",
        "rand_c = torch.rand(3,4)\n",
        "\n",
        "torch.manual_seed(random_seed)\n",
        "rand_d = torch.rand(3,4)\n",
        "\n",
        "rand_c, rand_d, rand_c == rand_d"
      ],
      "metadata": {
        "colab": {
          "base_uri": "https://localhost:8080/"
        },
        "id": "2SZv889e71ub",
        "outputId": "45fd01c8-9f8e-46d4-f30f-09e191490bd2"
      },
      "execution_count": 261,
      "outputs": [
        {
          "output_type": "execute_result",
          "data": {
            "text/plain": [
              "(tensor([[0.8757, 0.2721, 0.4141, 0.7857],\n",
              "         [0.1130, 0.5793, 0.6481, 0.0229],\n",
              "         [0.5874, 0.3254, 0.9485, 0.5219]]),\n",
              " tensor([[0.8757, 0.2721, 0.4141, 0.7857],\n",
              "         [0.1130, 0.5793, 0.6481, 0.0229],\n",
              "         [0.5874, 0.3254, 0.9485, 0.5219]]),\n",
              " tensor([[True, True, True, True],\n",
              "         [True, True, True, True],\n",
              "         [True, True, True, True]]))"
            ]
          },
          "metadata": {},
          "execution_count": 261
        }
      ]
    },
    {
      "cell_type": "markdown",
      "source": [
        "## Running tensors and PyTorch objects on the GPU and making faster computations\n",
        "\n",
        "### 1.  Getting the GPU\n",
        "  1. Google colab\n",
        "  2. Local GPU\n",
        "  3. On cloud"
      ],
      "metadata": {
        "id": "-TLuNVpm9NMR"
      }
    },
    {
      "cell_type": "code",
      "source": [
        "!nvidia-smi"
      ],
      "metadata": {
        "colab": {
          "base_uri": "https://localhost:8080/"
        },
        "id": "aTrIrLAc_J-7",
        "outputId": "77107f35-f179-4f79-9265-0f856e95763b"
      },
      "execution_count": 262,
      "outputs": [
        {
          "output_type": "stream",
          "name": "stdout",
          "text": [
            "/bin/bash: line 1: nvidia-smi: command not found\n"
          ]
        }
      ]
    },
    {
      "cell_type": "markdown",
      "source": [
        "### 2. Check GPU access with PyTorch"
      ],
      "metadata": {
        "id": "u7a2rUL8_Rzd"
      }
    },
    {
      "cell_type": "code",
      "source": [
        "# Checking for GPU acces with PyTorch\n",
        "\n",
        "import torch\n",
        "torch.cuda.is_available()"
      ],
      "metadata": {
        "colab": {
          "base_uri": "https://localhost:8080/"
        },
        "id": "WIwfNwmM_mDK",
        "outputId": "018cf8c2-0fd0-46db-958d-73c019e75607"
      },
      "execution_count": 263,
      "outputs": [
        {
          "output_type": "execute_result",
          "data": {
            "text/plain": [
              "False"
            ]
          },
          "metadata": {},
          "execution_count": 263
        }
      ]
    },
    {
      "cell_type": "markdown",
      "source": [
        "For PyTorch since it's capable of running compute on the CPU or GPU, it's best practice to setup device agnostic code"
      ],
      "metadata": {
        "id": "gkm1JPM2AW0D"
      }
    },
    {
      "cell_type": "code",
      "source": [
        "# Setup device agnostic code\n",
        "\n",
        "device = \"cuda\" if torch.cuda.is_available() else \"cpu\"\n",
        "device"
      ],
      "metadata": {
        "colab": {
          "base_uri": "https://localhost:8080/",
          "height": 35
        },
        "id": "VssJRzyx_t3g",
        "outputId": "fa59bc7e-4ae4-42d0-8d93-d8e5e5d2d2e5"
      },
      "execution_count": 264,
      "outputs": [
        {
          "output_type": "execute_result",
          "data": {
            "text/plain": [
              "'cpu'"
            ],
            "application/vnd.google.colaboratory.intrinsic+json": {
              "type": "string"
            }
          },
          "metadata": {},
          "execution_count": 264
        }
      ]
    },
    {
      "cell_type": "code",
      "source": [
        "# Count the nuber of devices\n",
        "torch.cuda.device_count()"
      ],
      "metadata": {
        "colab": {
          "base_uri": "https://localhost:8080/"
        },
        "id": "mchajz7OAEjb",
        "outputId": "610544f1-08e8-46b0-8453-f3e16a69148d"
      },
      "execution_count": 265,
      "outputs": [
        {
          "output_type": "execute_result",
          "data": {
            "text/plain": [
              "0"
            ]
          },
          "metadata": {},
          "execution_count": 265
        }
      ]
    },
    {
      "cell_type": "markdown",
      "source": [
        "### 3. Putting tensors on the GPU"
      ],
      "metadata": {
        "id": "PpafvOHfAKy8"
      }
    },
    {
      "cell_type": "code",
      "source": [
        "tensor = torch.tensor([1,2,3])\n",
        "\n",
        "tensor, tensor.device"
      ],
      "metadata": {
        "colab": {
          "base_uri": "https://localhost:8080/"
        },
        "id": "E3-s8GwjBHM6",
        "outputId": "e5adb4c0-f8e3-4267-e9e7-2604c37210a0"
      },
      "execution_count": 266,
      "outputs": [
        {
          "output_type": "execute_result",
          "data": {
            "text/plain": [
              "(tensor([1, 2, 3]), device(type='cpu'))"
            ]
          },
          "metadata": {},
          "execution_count": 266
        }
      ]
    },
    {
      "cell_type": "code",
      "source": [
        "tensor_gpu = tensor.to(device)\n",
        "\n",
        "tensor_gpu"
      ],
      "metadata": {
        "colab": {
          "base_uri": "https://localhost:8080/"
        },
        "id": "T5Z8w6mRBS00",
        "outputId": "7928e818-ea9e-497f-e937-19bd3b48fd7d"
      },
      "execution_count": 267,
      "outputs": [
        {
          "output_type": "execute_result",
          "data": {
            "text/plain": [
              "tensor([1, 2, 3])"
            ]
          },
          "metadata": {},
          "execution_count": 267
        }
      ]
    },
    {
      "cell_type": "markdown",
      "source": [
        "### 4. Moving tensors back to CPU"
      ],
      "metadata": {
        "id": "WgyAcdCYCAz0"
      }
    },
    {
      "cell_type": "code",
      "source": [
        "tensor_gpu.numpy()"
      ],
      "metadata": {
        "colab": {
          "base_uri": "https://localhost:8080/"
        },
        "id": "rcHZCaFLBcrU",
        "outputId": "074b89ee-cd04-48bb-9b69-8ca21a72a2b4"
      },
      "execution_count": 268,
      "outputs": [
        {
          "output_type": "execute_result",
          "data": {
            "text/plain": [
              "array([1, 2, 3])"
            ]
          },
          "metadata": {},
          "execution_count": 268
        }
      ]
    },
    {
      "cell_type": "code",
      "source": [
        "tensor_back_cpu = tensor_gpu.cpu()\n",
        "\n",
        "tensor_back_cpu.numpy()"
      ],
      "metadata": {
        "colab": {
          "base_uri": "https://localhost:8080/"
        },
        "id": "NQqCYZoDB9LO",
        "outputId": "26ef4351-9db6-4a03-833d-cfa90f47f86c"
      },
      "execution_count": 269,
      "outputs": [
        {
          "output_type": "execute_result",
          "data": {
            "text/plain": [
              "array([1, 2, 3])"
            ]
          },
          "metadata": {},
          "execution_count": 269
        }
      ]
    },
    {
      "cell_type": "markdown",
      "source": [
        "# PyTorch Workflow\n",
        "\n",
        "Let's explore a an example PyTorch ene-to-end Workflow\n"
      ],
      "metadata": {
        "id": "hHndicHXZRSo"
      }
    },
    {
      "cell_type": "code",
      "source": [
        "workflow  = {1: \"Data preparation\",\n",
        "             2: \"Build model\",\n",
        "             3: \"Fitting the model to data\",\n",
        "             4: \"making predictions and evaluating a model\",\n",
        "             5: \"saving and loading a model\",\n",
        "             6: \"Putting it all together\"}\n",
        "workflow"
      ],
      "metadata": {
        "colab": {
          "base_uri": "https://localhost:8080/"
        },
        "id": "JNkw1ShlZT4I",
        "outputId": "bc141988-bc3f-4fa1-e889-8291a6b597ec"
      },
      "execution_count": 270,
      "outputs": [
        {
          "output_type": "execute_result",
          "data": {
            "text/plain": [
              "{1: 'Data preparation',\n",
              " 2: 'Build model',\n",
              " 3: 'Fitting the model to data',\n",
              " 4: 'making predictions and evaluating a model',\n",
              " 5: 'saving and loading a model',\n",
              " 6: 'Putting it all together'}"
            ]
          },
          "metadata": {},
          "execution_count": 270
        }
      ]
    },
    {
      "cell_type": "code",
      "source": [
        "import torch\n",
        "from torch import nn\n",
        "import matplotlib.pyplot as plt\n",
        "\n",
        "torch.__version__"
      ],
      "metadata": {
        "colab": {
          "base_uri": "https://localhost:8080/",
          "height": 35
        },
        "id": "1UrGvlQ1bQD9",
        "outputId": "0dda5d47-7860-4433-91cd-c5d6590816d1"
      },
      "execution_count": 271,
      "outputs": [
        {
          "output_type": "execute_result",
          "data": {
            "text/plain": [
              "'2.1.0+cu121'"
            ],
            "application/vnd.google.colaboratory.intrinsic+json": {
              "type": "string"
            }
          },
          "metadata": {},
          "execution_count": 271
        }
      ]
    },
    {
      "cell_type": "markdown",
      "source": [
        "\n",
        "##1. Data Preparation\n",
        "\n",
        "Data can be anything\n",
        "\n",
        "* Excel\n",
        "* Images\n",
        "* Videos\n",
        "* Audio\n",
        "* DNA\n",
        "* Text\n",
        "\n",
        "Machine learning is a game of two parts:\n",
        "1. Get data into a numerical representation.\n",
        "2. Build a model to learn patterns in that numerical representation.\n"
      ],
      "metadata": {
        "id": "ErHdkTy8dOLC"
      }
    },
    {
      "cell_type": "markdown",
      "source": [
        "Creating some data using the linear regression formula.\n",
        "\n",
        "We'll use a linear regression formaula to make a straight line with known parameters.\n"
      ],
      "metadata": {
        "id": "jQU46BrdfJiA"
      }
    },
    {
      "cell_type": "code",
      "source": [
        "weight = 0.7 #intercept\n",
        "bias = 0.3 #slope\n",
        "\n",
        "x= torch.arange(0, 1, 0.02).unsqueeze(dim=1)\n",
        "y= weight*x + bias\n",
        "\n",
        "x[:10], y[:10], len(x), len(y)\n"
      ],
      "metadata": {
        "colab": {
          "base_uri": "https://localhost:8080/"
        },
        "id": "O7ciw8qAdcPy",
        "outputId": "38a1b2a8-609f-4c9b-e08b-c83eca7dd3d9"
      },
      "execution_count": 272,
      "outputs": [
        {
          "output_type": "execute_result",
          "data": {
            "text/plain": [
              "(tensor([[0.0000],\n",
              "         [0.0200],\n",
              "         [0.0400],\n",
              "         [0.0600],\n",
              "         [0.0800],\n",
              "         [0.1000],\n",
              "         [0.1200],\n",
              "         [0.1400],\n",
              "         [0.1600],\n",
              "         [0.1800]]),\n",
              " tensor([[0.3000],\n",
              "         [0.3140],\n",
              "         [0.3280],\n",
              "         [0.3420],\n",
              "         [0.3560],\n",
              "         [0.3700],\n",
              "         [0.3840],\n",
              "         [0.3980],\n",
              "         [0.4120],\n",
              "         [0.4260]]),\n",
              " 50,\n",
              " 50)"
            ]
          },
          "metadata": {},
          "execution_count": 272
        }
      ]
    },
    {
      "cell_type": "markdown",
      "source": [
        " ### Splitting data into training and test sets"
      ],
      "metadata": {
        "id": "ANAkoFrDgjqJ"
      }
    },
    {
      "cell_type": "code",
      "source": [
        "# Creating train and test sets\n",
        "\n",
        "train_split = int(0.8*len(x))\n",
        "\n",
        "x_train, y_train = x[:train_split], y[:train_split]\n",
        "x_test, y_test = x[train_split:], y[train_split:]\n",
        "\n",
        "\n",
        "len(x_train), len(y_train), len(y_train), len(y_test)"
      ],
      "metadata": {
        "colab": {
          "base_uri": "https://localhost:8080/"
        },
        "id": "xpn_AwB1m4cx",
        "outputId": "d049accf-c549-4517-bb92-2e42ad786606"
      },
      "execution_count": 273,
      "outputs": [
        {
          "output_type": "execute_result",
          "data": {
            "text/plain": [
              "(40, 40, 40, 10)"
            ]
          },
          "metadata": {},
          "execution_count": 273
        }
      ]
    },
    {
      "cell_type": "markdown",
      "source": [
        "How might we better visualize our data?\n",
        "\n",
        "This is where the data explorer's motto comes in!\n",
        "\n",
        "\"Visualize, visualize, visualize!\""
      ],
      "metadata": {
        "id": "8XwdMWppnkDm"
      }
    },
    {
      "cell_type": "code",
      "source": [
        "def plots_predictions(train_data = x_train,\n",
        "                      train_labels = y_train,\n",
        "                      test_data = x_test,\n",
        "                      test_labels = y_test,\n",
        "                      predictions = None):\n",
        "  \"\"\"\n",
        "  Plots training data, test data\n",
        "  \"\"\"\n",
        "\n",
        "  plt.figure(figsize=(10,7))\n",
        "  plt.scatter(train_data, train_labels, c='b', s= 4, label = \"Training data\")\n",
        "\n",
        "  plt.scatter(test_data, test_labels, c= 'g', s=4, label = \"Testing data\")\n",
        "\n",
        "  if predictions is not None:\n",
        "    plt.scatter(test_data, predictions, c= 'r', s= 4, label = \"Predictions\")\n",
        "  plt.legend(prop = {\"size\":14})"
      ],
      "metadata": {
        "id": "G187bQP5n8CC"
      },
      "execution_count": 274,
      "outputs": []
    },
    {
      "cell_type": "code",
      "source": [
        "plots_predictions()"
      ],
      "metadata": {
        "colab": {
          "base_uri": "https://localhost:8080/",
          "height": 479
        },
        "id": "L08DWc8qpcfj",
        "outputId": "0f8f3c10-9324-4b60-b698-205ecf361c3a"
      },
      "execution_count": 275,
      "outputs": [
        {
          "output_type": "display_data",
          "data": {
            "text/plain": [
              "<Figure size 1000x700 with 1 Axes>"
            ],
            "image/png": "[encoded data removed]"
          },
          "metadata": {}
        }
      ]
    },
    {
      "cell_type": "markdown",
      "source": [
        "##2.  Build model\n",
        "Our first PyTorch model\n",
        "\n",
        "What our model does :\n",
        "* Start with random values (weight & bias )\n",
        "* Look at training data and adjust the random values to better represent (or get closer to) the ideal values (the weight & bias values we used to create the data)\n",
        "\n",
        "To do so, we use two main algorithms:\n",
        "1. Gradient descent\n",
        "2. Back propgation"
      ],
      "metadata": {
        "id": "UJ8ftKTBpegK"
      }
    },
    {
      "cell_type": "code",
      "source": [
        "# Creating linear regression model class\n",
        "\n",
        "class LinearRegressionModel(nn.Module): # Inheriting nn.module class\n",
        "  def __init__(self):\n",
        "    super().__init__()\n",
        "    self.weights = nn.Parameter(torch.randn(1, requires_grad = True, dtype = torch.float))\n",
        "    self.bias = nn.Parameter(torch.randn(1, requires_grad = True, dtype = float))\n",
        "\n",
        "    # Forward method\n",
        "  def forward(self, x:torch.Tensor) -> torch.Tensor:\n",
        "    return self.weights * x + self.bias"
      ],
      "metadata": {
        "id": "4uJUbf1cqaTq"
      },
      "execution_count": 276,
      "outputs": []
    },
    {
      "cell_type": "markdown",
      "source": [
        "### PyTorch model building essentials\n",
        "\n",
        "* torch.nn - contains all of the building for computational graphs(a neural network can be a computational graph)\n",
        "* torch.nn.Parameter - what parameters should our model try and learn, oftern a layer from torch.nn will set these for us\n",
        "* torch.nn.Module - The base class for all neural network modules, if you subclass it, you should overwrite forward().\n",
        "* torch.optim - This where the optimizers in PyTorch live, they will help with gradient descent   \n",
        "* def forward() - All; nn.Module subclasses require you to overwrite forward(), this method defines what happens in the forward computation.\n",
        "\n",
        "* torch.utils.data.Datset - Represents a map between key and sample pairs of your data. Such as images and their associated labels.\n",
        "* torch.utils.data.DataLoader - Creates a Python iterable over a torch dataset (allows you to iterate over your data)."
      ],
      "metadata": {
        "id": "0HnhFXR9c6Gs"
      }
    },
    {
      "cell_type": "markdown",
      "source": [
        "Modules used in the PyTorch Workflow\n",
        "\n",
        "1. Get data ready\n",
        "  - torchvision.transforms\n",
        "  - torch.utils.data.Dataset\n",
        "  - torch.utils.data.DataLoader\n",
        "\n",
        "\n",
        "2. Build or pick a pretrained model and Pick a loss function\n",
        "  - torch.nn\n",
        "  - torch.Module\n",
        "  - torchvision.models\n",
        "  \n",
        "   Optimizers\n",
        "   - torch.optim\n",
        "\n",
        "\n",
        "4. Evaluate the model\n",
        "  - torchmetrics\n",
        "\n",
        "5. Improve through experimentation\n",
        "  - torch.utils.tensorboard\n"
      ],
      "metadata": {
        "id": "-SWsNIkaBCbE"
      }
    },
    {
      "cell_type": "markdown",
      "source": [
        "### Checking the contents of Our PyTorch model\n",
        "\n",
        "so we can check our model parameters or what's inside our model using `.parameters()`"
      ],
      "metadata": {
        "id": "YpiiH4GfeQdM"
      }
    },
    {
      "cell_type": "code",
      "source": [
        "torch.manual_seed(42)\n",
        "\n",
        "# create an instance of LinearRegresssionModel class\n",
        "\n",
        "model0 = LinearRegressionModel()\n",
        "\n",
        "# Check out the parameters\n",
        "list(model0.parameters())"
      ],
      "metadata": {
        "colab": {
          "base_uri": "https://localhost:8080/"
        },
        "id": "C4LEmWc-C-6l",
        "outputId": "6dddcb7c-0d73-4337-cc8d-b3bbb3e3028c"
      },
      "execution_count": 342,
      "outputs": [
        {
          "output_type": "execute_result",
          "data": {
            "text/plain": [
              "[Parameter containing:\n",
              " tensor([0.3367], requires_grad=True),\n",
              " Parameter containing:\n",
              " tensor([0.1288], dtype=torch.float64, requires_grad=True)]"
            ]
          },
          "metadata": {},
          "execution_count": 342
        }
      ]
    },
    {
      "cell_type": "code",
      "source": [
        "# Liat named parameters\n",
        "\n",
        "model0.state_dict()"
      ],
      "metadata": {
        "colab": {
          "base_uri": "https://localhost:8080/"
        },
        "id": "GN3sg0UeDgxv",
        "outputId": "c05a95c1-4b0e-4df8-b770-74e94ead59ef"
      },
      "execution_count": 343,
      "outputs": [
        {
          "output_type": "execute_result",
          "data": {
            "text/plain": [
              "OrderedDict([('weights', tensor([0.3367])),\n",
              "             ('bias', tensor([0.1288], dtype=torch.float64))])"
            ]
          },
          "metadata": {},
          "execution_count": 343
        }
      ]
    },
    {
      "cell_type": "markdown",
      "source": [
        "## 3. Making prediction using `torch.infernece_mode()`\n",
        "\n",
        "To check the predictions our model using x_test to predict y_test\n",
        "\n",
        "When we pass out data to our model, it goes through `forward()`"
      ],
      "metadata": {
        "id": "9uOfbHJrEZJs"
      }
    },
    {
      "cell_type": "code",
      "source": [
        "# Making predictions with our model\n",
        "\n",
        "with torch.inference_mode():\n",
        "  ypred = model0(x_test)\n",
        "\n",
        "\n",
        "ypred"
      ],
      "metadata": {
        "colab": {
          "base_uri": "https://localhost:8080/"
        },
        "id": "k54Zw7OwFACI",
        "outputId": "7e528ca8-5e7a-420d-8ca3-ddc3fcf54ec7"
      },
      "execution_count": 344,
      "outputs": [
        {
          "output_type": "execute_result",
          "data": {
            "text/plain": [
              "tensor([[0.3982],\n",
              "        [0.4049],\n",
              "        [0.4116],\n",
              "        [0.4184],\n",
              "        [0.4251],\n",
              "        [0.4318],\n",
              "        [0.4386],\n",
              "        [0.4453],\n",
              "        [0.4520],\n",
              "        [0.4588]], dtype=torch.float64)"
            ]
          },
          "metadata": {},
          "execution_count": 344
        }
      ]
    },
    {
      "cell_type": "code",
      "source": [
        "y_test"
      ],
      "metadata": {
        "colab": {
          "base_uri": "https://localhost:8080/"
        },
        "id": "zK506VVFGZVs",
        "outputId": "29402b7e-930f-493f-b0e8-d8f223bc17b5"
      },
      "execution_count": 345,
      "outputs": [
        {
          "output_type": "execute_result",
          "data": {
            "text/plain": [
              "tensor([[0.8600],\n",
              "        [0.8740],\n",
              "        [0.8880],\n",
              "        [0.9020],\n",
              "        [0.9160],\n",
              "        [0.9300],\n",
              "        [0.9440],\n",
              "        [0.9580],\n",
              "        [0.9720],\n",
              "        [0.9860]])"
            ]
          },
          "metadata": {},
          "execution_count": 345
        }
      ]
    },
    {
      "cell_type": "code",
      "source": [
        "plots_predictions(predictions=ypred)"
      ],
      "metadata": {
        "colab": {
          "base_uri": "https://localhost:8080/",
          "height": 479
        },
        "id": "dq1eGx9yGwnJ",
        "outputId": "a29e385e-87de-46da-b3a6-176562f74392"
      },
      "execution_count": 346,
      "outputs": [
        {
          "output_type": "display_data",
          "data": {
            "text/plain": [
              "<Figure size 1000x700 with 1 Axes>"
            ],
            "image/png": "[encoded data removed]"
          },
          "metadata": {}
        }
      ]
    },
    {
      "cell_type": "code",
      "source": [
        "y_pred = model0(x_test)\n",
        "y_pred\n"
      ],
      "metadata": {
        "colab": {
          "base_uri": "https://localhost:8080/"
        },
        "id": "hhu26E96GpsM",
        "outputId": "dd1e9777-0612-4c64-ed66-f0c9a7dc6fcb"
      },
      "execution_count": 347,
      "outputs": [
        {
          "output_type": "execute_result",
          "data": {
            "text/plain": [
              "tensor([[0.3982],\n",
              "        [0.4049],\n",
              "        [0.4116],\n",
              "        [0.4184],\n",
              "        [0.4251],\n",
              "        [0.4318],\n",
              "        [0.4386],\n",
              "        [0.4453],\n",
              "        [0.4520],\n",
              "        [0.4588]], dtype=torch.float64, grad_fn=<AddBackward0>)"
            ]
          },
          "metadata": {},
          "execution_count": 347
        }
      ]
    },
    {
      "cell_type": "code",
      "source": [
        "with torch.no_grad():\n",
        "  y_pred = model0(x_test)\n",
        "\n",
        "y_pred"
      ],
      "metadata": {
        "colab": {
          "base_uri": "https://localhost:8080/"
        },
        "id": "-YmtedkQHLpX",
        "outputId": "3c72ae74-6370-4105-ac51-74face8ea62f"
      },
      "execution_count": 348,
      "outputs": [
        {
          "output_type": "execute_result",
          "data": {
            "text/plain": [
              "tensor([[0.3982],\n",
              "        [0.4049],\n",
              "        [0.4116],\n",
              "        [0.4184],\n",
              "        [0.4251],\n",
              "        [0.4318],\n",
              "        [0.4386],\n",
              "        [0.4453],\n",
              "        [0.4520],\n",
              "        [0.4588]], dtype=torch.float64)"
            ]
          },
          "metadata": {},
          "execution_count": 348
        }
      ]
    },
    {
      "cell_type": "markdown",
      "source": [
        "## 3. Training the model with PyTorch (Intuition building)\n",
        "\n",
        "Random numbers -> desired numbers\n",
        "\n",
        "\n",
        "We should use **loss function** to measure how poorly model is predicting\n",
        "\n",
        "\n",
        "* Note : Loss function may also be called as cost function or criterion in different areas. For our case, we're going to refer to it as a loss function\n",
        "\n",
        "Things we need to train:\n",
        "* **Loss function:** A function to measure how wrong your model's predictions are to the ideal outputs, lower is better.\n",
        "\n",
        "* **Optimizer:** Takes into account the loss of a model and adjusts the model's parameters. (eg: weight and bias in  our case) to improve the loss function.\n",
        "  - inside the optimizer uou'll often have to set two parameters:\n",
        "     * `params` : the model parameters you'd like to optimize, for example `params = model.parameters()`\n",
        "     * `lr` (learning rate): The learning rate is a hyperparameter that defines how big/small the optimizer changes the parameters with each step (a small `lr` results small changes, a larege `lr` results in large changes).\n",
        "And specifically for PyTorch, we need:\n",
        "\n",
        "* A training loop\n",
        "* A testing loop\n"
      ],
      "metadata": {
        "id": "D0Ymb2A8Kr-X"
      }
    },
    {
      "cell_type": "code",
      "source": [
        " model0.state_dict()"
      ],
      "metadata": {
        "colab": {
          "base_uri": "https://localhost:8080/"
        },
        "id": "vIQixMFQLdtE",
        "outputId": "b496f3a8-f7e4-4163-97af-d2b8af9a9b7c"
      },
      "execution_count": 349,
      "outputs": [
        {
          "output_type": "execute_result",
          "data": {
            "text/plain": [
              "OrderedDict([('weights', tensor([0.3367])),\n",
              "             ('bias', tensor([0.1288], dtype=torch.float64))])"
            ]
          },
          "metadata": {},
          "execution_count": 349
        }
      ]
    },
    {
      "cell_type": "code",
      "source": [
        "# Setup a loss function\n",
        "loss_fn = nn.L1Loss()\n",
        "\n",
        "# Setup an optimizer\n",
        "from torch import optim\n",
        "\n",
        "optimizer = optim.SGD(params= model0.parameters(), lr = 0.01) # learning rate (lr) is a hyperparameter set by ourselves"
      ],
      "metadata": {
        "id": "2eBZqktXLbuS"
      },
      "execution_count": 350,
      "outputs": []
    },
    {
      "cell_type": "markdown",
      "source": [
        "### Building a training loop (and a testing loop) in PyTorch\n",
        "\n",
        "A couple of thinga we need in a training loop:\n",
        "0. Loop through the data.\n",
        "1. Forward pass (this involves dat amoving through our model's `forward()`) also called as forward propagation.\n",
        "2. Calculate the loss (compare forward pass predictions to ground truth labels)\n",
        "3. Optimizer zero grad\n",
        "4. Loss backward - move backwards through network to calculate the gradients of each of the parameters of our model with respect to the loss (**back propagation**)\n",
        "5. Optimizer step - use the optimizer to adjusts our model's parameters to try and improve the loss (**gradient descent**)\n"
      ],
      "metadata": {
        "id": "he09g9j9RqxP"
      }
    },
    {
      "cell_type": "code",
      "source": [
        "model0.state_dict()"
      ],
      "metadata": {
        "colab": {
          "base_uri": "https://localhost:8080/"
        },
        "id": "3igxLdpKhyxe",
        "outputId": "aea8f224-9712-405f-a3c8-b0df75e652fa"
      },
      "execution_count": 351,
      "outputs": [
        {
          "output_type": "execute_result",
          "data": {
            "text/plain": [
              "OrderedDict([('weights', tensor([0.3367])),\n",
              "             ('bias', tensor([0.1288], dtype=torch.float64))])"
            ]
          },
          "metadata": {},
          "execution_count": 351
        }
      ]
    },
    {
      "cell_type": "code",
      "source": [
        "# epoch is one loop through the data\n",
        "epochs = 200\n",
        "\n",
        "# Track different values\n",
        "\n",
        "epochl =[]\n",
        "lossl = []\n",
        "test_loss = []\n",
        "\n",
        "### Training\n",
        "# 0 . Loop through the data\n",
        "for epoch in range(epochs):\n",
        "  # set the model to training mode\n",
        "  model0.train()  # train mode in PyTorch set all parameters that need gradients to `require gradients`\n",
        "\n",
        "  #1. Forward pass\n",
        "  ypred = model0(x_train)\n",
        "\n",
        "  #2. Calculate the loss\n",
        "  loss = loss_fn(ypred, y_train)\n",
        "\n",
        "  #3. Optimmizer zero grad\n",
        "  optimizer.zero_grad() # zero the previous optimizer values\n",
        "\n",
        "  #4. Perform the backpropagation on the loss with repect to the parameters of the model\n",
        "  loss.backward()\n",
        "\n",
        "  #5. Step the optimizer (perform gradient descent)\n",
        "  optimizer.step()\n",
        "\n",
        "  ### Testing\n",
        "  model0.eval() # turns off several settings in the model not needed for the evaluation\n",
        "  with torch.inference_mode():# turns of gradient tracking\n",
        "    #1. forward pass\n",
        "    ypred_test = model0(x_test)\n",
        "\n",
        "    #2. calcualte the loss\n",
        "    loss_test = loss_fn(y_test, ypred_test)\n",
        "\n",
        "    #3. Optimizer zer grad\n",
        "    optimizer.zero_grad()\n",
        "\n",
        "  if epoch % 10 == 0:\n",
        "    print(f\"Epoch: {epoch} | Loss: {loss}  | Test loss: {loss_test}\")\n",
        "\n",
        "    # print the model parameters\n",
        "    #print(f\"{model0.state_dict()}\") ## Simple step\n",
        "    epochl.append(epoch)\n",
        "    test_loss.append(loss_test)\n",
        "    lossl.append(loss)\n",
        "    print(f\"Loss: {loss}\")\n",
        "    print(f\"Weights parameter: {model0.state_dict()['weights'][0]} \\nBias parameter: {model0.state_dict()['bias'][0]}\\n-----------------------------------------------------------------\\n\")"
      ],
      "metadata": {
        "id": "qgzOpoKaVrZJ",
        "colab": {
          "base_uri": "https://localhost:8080/"
        },
        "outputId": "82f300b8-548f-4372-bab5-7e270fc43ba4"
      },
      "execution_count": 352,
      "outputs": [
        {
          "output_type": "stream",
          "name": "stdout",
          "text": [
            "Epoch: 0 | Loss: 0.3128813517678373  | Test loss: 0.4810651795382455\n",
            "Loss: 0.3128813517678373\n",
            "Weights parameter: 0.34059035778045654 \n",
            "Bias parameter: 0.1388094051365897\n",
            "-----------------------------------------------------------------\n",
            "\n",
            "Epoch: 10 | Loss: 0.19767138632506426  | Test loss: 0.346355255078788\n",
            "Loss: 0.19767138632506426\n",
            "Weights parameter: 0.3795902729034424 \n",
            "Bias parameter: 0.2388094051365898\n",
            "-----------------------------------------------------------------\n",
            "\n",
            "Epoch: 20 | Loss: 0.08908726094682914  | Test loss: 0.21729659528684148\n",
            "Loss: 0.08908726094682914\n",
            "Weights parameter: 0.4184202253818512 \n",
            "Bias parameter: 0.33330940513658985\n",
            "-----------------------------------------------------------------\n",
            "\n",
            "Epoch: 30 | Loss: 0.05314853437903411  | Test loss: 0.14464020247411263\n",
            "Loss: 0.05314853437903411\n",
            "Weights parameter: 0.45118021965026855 \n",
            "Bias parameter: 0.3768094051365899\n",
            "-----------------------------------------------------------------\n",
            "\n",
            "Epoch: 40 | Loss: 0.045437965798191725  | Test loss: 0.11360953504991064\n",
            "Loss: 0.045437965798191725\n",
            "Weights parameter: 0.4748101830482483 \n",
            "Bias parameter: 0.3868094051365899\n",
            "-----------------------------------------------------------------\n",
            "\n",
            "Epoch: 50 | Loss: 0.04167863324115598  | Test loss: 0.09919951553296583\n",
            "Loss: 0.04167863324115598\n",
            "Weights parameter: 0.4938102066516876 \n",
            "Bias parameter: 0.3843094051365899\n",
            "-----------------------------------------------------------------\n",
            "\n",
            "Epoch: 60 | Loss: 0.03818932177440422  | Test loss: 0.08886642379712592\n",
            "Loss: 0.03818932177440422\n",
            "Weights parameter: 0.5116001963615417 \n",
            "Bias parameter: 0.3788094051365899\n",
            "-----------------------------------------------------------------\n",
            "\n",
            "Epoch: 70 | Loss: 0.034760872570398914  | Test loss: 0.08059396738957894\n",
            "Loss: 0.034760872570398914\n",
            "Weights parameter: 0.5287602543830872 \n",
            "Bias parameter: 0.3718094051365899\n",
            "-----------------------------------------------------------------\n",
            "\n",
            "Epoch: 80 | Loss: 0.031323813460567805  | Test loss: 0.07232151694249642\n",
            "Loss: 0.031323813460567805\n",
            "Weights parameter: 0.5459203124046326 \n",
            "Bias parameter: 0.3648094051365899\n",
            "-----------------------------------------------------------------\n",
            "\n",
            "Epoch: 90 | Loss: 0.027887361238497978  | Test loss: 0.06473595685910709\n",
            "Loss: 0.027887361238497978\n",
            "Weights parameter: 0.5628703832626343 \n",
            "Bias parameter: 0.3573094051365899\n",
            "-----------------------------------------------------------------\n",
            "\n",
            "Epoch: 100 | Loss: 0.024458912034492648  | Test loss: 0.056463512372489165\n",
            "Loss: 0.024458912034492648\n",
            "Weights parameter: 0.5800304412841797 \n",
            "Bias parameter: 0.35030940513658987\n",
            "-----------------------------------------------------------------\n",
            "\n",
            "Epoch: 110 | Loss: 0.021020179208354882  | Test loss: 0.048191052984709826\n",
            "Loss: 0.021020179208354882\n",
            "Weights parameter: 0.5971904993057251 \n",
            "Bias parameter: 0.34330940513658986\n",
            "-----------------------------------------------------------------\n",
            "\n",
            "Epoch: 120 | Loss: 0.01758540265836911  | Test loss: 0.040605486940856125\n",
            "Loss: 0.01758540265836911\n",
            "Weights parameter: 0.6141405701637268 \n",
            "Bias parameter: 0.33580940513658986\n",
            "-----------------------------------------------------------------\n",
            "\n",
            "Epoch: 130 | Loss: 0.014155357881994759  | Test loss: 0.0323330275530769\n",
            "Loss: 0.014155357881994759\n",
            "Weights parameter: 0.6313006281852722 \n",
            "Bias parameter: 0.32880940513658985\n",
            "-----------------------------------------------------------------\n",
            "\n",
            "Epoch: 140 | Loss: 0.010716548774564513  | Test loss: 0.02406058902692334\n",
            "Loss: 0.010716548774564513\n",
            "Weights parameter: 0.6484606862068176 \n",
            "Bias parameter: 0.32180940513658984\n",
            "-----------------------------------------------------------------\n",
            "\n",
            "Epoch: 150 | Loss: 0.007283442308727353  | Test loss: 0.016475022983069642\n",
            "Loss: 0.007283442308727353\n",
            "Weights parameter: 0.6654107570648193 \n",
            "Bias parameter: 0.31430940513658984\n",
            "-----------------------------------------------------------------\n",
            "\n",
            "Epoch: 160 | Loss: 0.0038517246542366657  | Test loss: 0.008202572535987019\n",
            "Loss: 0.0038517246542366657\n",
            "Weights parameter: 0.6825708150863647 \n",
            "Bias parameter: 0.30730940513658983\n",
            "-----------------------------------------------------------------\n",
            "\n",
            "Epoch: 170 | Loss: 0.008931417997662885  | Test loss: 0.0050241684431983295\n",
            "Loss: 0.008931417997662885\n",
            "Weights parameter: 0.6951308250427246 \n",
            "Bias parameter: 0.2993094051365898\n",
            "-----------------------------------------------------------------\n",
            "\n",
            "Epoch: 180 | Loss: 0.008931417997662885  | Test loss: 0.0050241684431983295\n",
            "Loss: 0.008931417997662885\n",
            "Weights parameter: 0.6951308250427246 \n",
            "Bias parameter: 0.2993094051365898\n",
            "-----------------------------------------------------------------\n",
            "\n",
            "Epoch: 190 | Loss: 0.008931417997662885  | Test loss: 0.0050241684431983295\n",
            "Loss: 0.008931417997662885\n",
            "Weights parameter: 0.6951308250427246 \n",
            "Bias parameter: 0.2993094051365898\n",
            "-----------------------------------------------------------------\n",
            "\n"
          ]
        }
      ]
    },
    {
      "cell_type": "code",
      "source": [
        "print(f\"Loss: {loss}\")\n",
        "print(f\"Weights parameter: {model0.state_dict()['weights'][0]} \\nBias parameter: {model0.state_dict()['bias'][0]}\")"
      ],
      "metadata": {
        "colab": {
          "base_uri": "https://localhost:8080/"
        },
        "id": "bby9Z3iBmztY",
        "outputId": "c6c51012-149f-426d-e472-c2895f447d96"
      },
      "execution_count": 353,
      "outputs": [
        {
          "output_type": "stream",
          "name": "stdout",
          "text": [
            "Loss: 0.002589577798063901\n",
            "Weights parameter: 0.6990308165550232 \n",
            "Bias parameter: 0.30930940513658983\n"
          ]
        }
      ]
    },
    {
      "cell_type": "code",
      "source": [
        "with torch.inference_mode():\n",
        "  ypred_post_training = model0(x_test)\n",
        "\n",
        "\n",
        "\n",
        "plots_predictions(predictions = ypred_test)"
      ],
      "metadata": {
        "colab": {
          "base_uri": "https://localhost:8080/",
          "height": 479
        },
        "id": "u949GgGNhnFK",
        "outputId": "b4c19217-ae02-4ffa-e5ee-29e264eb4fbf"
      },
      "execution_count": 354,
      "outputs": [
        {
          "output_type": "display_data",
          "data": {
            "text/plain": [
              "<Figure size 1000x700 with 1 Axes>"
            ],
            "image/png": "[encoded data removed]"
          },
          "metadata": {}
        }
      ]
    },
    {
      "cell_type": "code",
      "source": [
        "plots_predictions(predictions = ypred_test)"
      ],
      "metadata": {
        "id": "bVIT4sxKkz4u",
        "colab": {
          "base_uri": "https://localhost:8080/",
          "height": 479
        },
        "outputId": "b466aae0-1998-4d15-d042-376d1724e63c"
      },
      "execution_count": 355,
      "outputs": [
        {
          "output_type": "display_data",
          "data": {
            "text/plain": [
              "<Figure size 1000x700 with 1 Axes>"
            ],
            "image/png": "[encoded data removed]"
          },
          "metadata": {}
        }
      ]
    },
    {
      "cell_type": "code",
      "source": [
        "epochl, test_loss, lossl"
      ],
      "metadata": {
        "colab": {
          "base_uri": "https://localhost:8080/"
        },
        "id": "u0IraGAAfBQd",
        "outputId": "fd82abea-bfca-4609-e3ce-147dfa143cb5"
      },
      "execution_count": 356,
      "outputs": [
        {
          "output_type": "execute_result",
          "data": {
            "text/plain": [
              "([0,\n",
              "  10,\n",
              "  20,\n",
              "  30,\n",
              "  40,\n",
              "  50,\n",
              "  60,\n",
              "  70,\n",
              "  80,\n",
              "  90,\n",
              "  100,\n",
              "  110,\n",
              "  120,\n",
              "  130,\n",
              "  140,\n",
              "  150,\n",
              "  160,\n",
              "  170,\n",
              "  180,\n",
              "  190],\n",
              " [tensor(0.4811, dtype=torch.float64),\n",
              "  tensor(0.3464, dtype=torch.float64),\n",
              "  tensor(0.2173, dtype=torch.float64),\n",
              "  tensor(0.1446, dtype=torch.float64),\n",
              "  tensor(0.1136, dtype=torch.float64),\n",
              "  tensor(0.0992, dtype=torch.float64),\n",
              "  tensor(0.0889, dtype=torch.float64),\n",
              "  tensor(0.0806, dtype=torch.float64),\n",
              "  tensor(0.0723, dtype=torch.float64),\n",
              "  tensor(0.0647, dtype=torch.float64),\n",
              "  tensor(0.0565, dtype=torch.float64),\n",
              "  tensor(0.0482, dtype=torch.float64),\n",
              "  tensor(0.0406, dtype=torch.float64),\n",
              "  tensor(0.0323, dtype=torch.float64),\n",
              "  tensor(0.0241, dtype=torch.float64),\n",
              "  tensor(0.0165, dtype=torch.float64),\n",
              "  tensor(0.0082, dtype=torch.float64),\n",
              "  tensor(0.0050, dtype=torch.float64),\n",
              "  tensor(0.0050, dtype=torch.float64),\n",
              "  tensor(0.0050, dtype=torch.float64)],\n",
              " [tensor(0.3129, dtype=torch.float64, grad_fn=<MeanBackward0>),\n",
              "  tensor(0.1977, dtype=torch.float64, grad_fn=<MeanBackward0>),\n",
              "  tensor(0.0891, dtype=torch.float64, grad_fn=<MeanBackward0>),\n",
              "  tensor(0.0531, dtype=torch.float64, grad_fn=<MeanBackward0>),\n",
              "  tensor(0.0454, dtype=torch.float64, grad_fn=<MeanBackward0>),\n",
              "  tensor(0.0417, dtype=torch.float64, grad_fn=<MeanBackward0>),\n",
              "  tensor(0.0382, dtype=torch.float64, grad_fn=<MeanBackward0>),\n",
              "  tensor(0.0348, dtype=torch.float64, grad_fn=<MeanBackward0>),\n",
              "  tensor(0.0313, dtype=torch.float64, grad_fn=<MeanBackward0>),\n",
              "  tensor(0.0279, dtype=torch.float64, grad_fn=<MeanBackward0>),\n",
              "  tensor(0.0245, dtype=torch.float64, grad_fn=<MeanBackward0>),\n",
              "  tensor(0.0210, dtype=torch.float64, grad_fn=<MeanBackward0>),\n",
              "  tensor(0.0176, dtype=torch.float64, grad_fn=<MeanBackward0>),\n",
              "  tensor(0.0142, dtype=torch.float64, grad_fn=<MeanBackward0>),\n",
              "  tensor(0.0107, dtype=torch.float64, grad_fn=<MeanBackward0>),\n",
              "  tensor(0.0073, dtype=torch.float64, grad_fn=<MeanBackward0>),\n",
              "  tensor(0.0039, dtype=torch.float64, grad_fn=<MeanBackward0>),\n",
              "  tensor(0.0089, dtype=torch.float64, grad_fn=<MeanBackward0>),\n",
              "  tensor(0.0089, dtype=torch.float64, grad_fn=<MeanBackward0>),\n",
              "  tensor(0.0089, dtype=torch.float64, grad_fn=<MeanBackward0>)])"
            ]
          },
          "metadata": {},
          "execution_count": 356
        }
      ]
    },
    {
      "cell_type": "code",
      "source": [
        "import numpy as np\n",
        "plt.plot(epochl, np.array(torch.tensor(lossl).cpu().numpy()), label = \"Train loss\")\n",
        "plt.plot(epochl, np.array(torch.tensor(test_loss).cpu().numpy()), label = \"Test loss\")\n",
        "plt.title(\"Training and Testing loss curve\")\n",
        "plt.xlabel(\"Epochs\")\n",
        "plt.ylabel(\"Loss\")"
      ],
      "metadata": {
        "colab": {
          "base_uri": "https://localhost:8080/",
          "height": 489
        },
        "id": "Do7t6SM7ljy3",
        "outputId": "1c85e44b-6933-4116-8dde-b6b52d828317"
      },
      "execution_count": 357,
      "outputs": [
        {
          "output_type": "execute_result",
          "data": {
            "text/plain": [
              "Text(0, 0.5, 'Loss')"
            ]
          },
          "metadata": {},
          "execution_count": 357
        },
        {
          "output_type": "display_data",
          "data": {
            "text/plain": [
              "<Figure size 640x480 with 1 Axes>"
            ],
            "image/png": "[encoded data removed]"
          },
          "metadata": {}
        }
      ]
    },
    {
      "cell_type": "markdown",
      "source": [
        "### Saving a model in PyTorch\n",
        "\n",
        "There are three main methods for saving and loading models PyTorch\n",
        "\n",
        "1. `torch.save()`: allows you save a PyTorch object in Python's pickle format.\n",
        "2. `torch.load()`: allows you load a saved PyTorch object.\n",
        "3. `torch.nn.Module.load_state_dict()`: allows to load a model's saved state dictionary."
      ],
      "metadata": {
        "id": "iXGIhuhLo9oS"
      }
    },
    {
      "cell_type": "code",
      "source": [
        "model0.state_dict()"
      ],
      "metadata": {
        "colab": {
          "base_uri": "https://localhost:8080/"
        },
        "id": "u4f3S5olp2XH",
        "outputId": "f9a07c33-4036-4a67-ebad-aa69c3418919"
      },
      "execution_count": 358,
      "outputs": [
        {
          "output_type": "execute_result",
          "data": {
            "text/plain": [
              "OrderedDict([('weights', tensor([0.6990])),\n",
              "             ('bias', tensor([0.3093], dtype=torch.float64))])"
            ]
          },
          "metadata": {},
          "execution_count": 358
        }
      ]
    },
    {
      "cell_type": "code",
      "source": [
        "# Saving our model\n",
        "from pathlib import Path\n",
        "\n",
        "#1. Create a model's directory\n",
        "MODEL_PATH = Path(\"models\")\n",
        "MODEL_PATH.mkdir(parents = True, exist_ok = True)\n",
        "\n",
        "#2. Create model save path\n",
        "MODEL_NAME= \"first_model.pth\"\n",
        "MODEL_SAVE_PATH = MODEL_PATH/MODEL_NAME\n",
        "\n",
        "#3. Save the model\n",
        "torch.save(obj = model0.state_dict(), f=MODEL_SAVE_PATH)\n",
        "\n",
        "MODEL_SAVE_PATH"
      ],
      "metadata": {
        "colab": {
          "base_uri": "https://localhost:8080/"
        },
        "id": "w5-umf6mp4UY",
        "outputId": "a4a09ffb-8251-48b6-b020-2df38ab549f1"
      },
      "execution_count": 361,
      "outputs": [
        {
          "output_type": "execute_result",
          "data": {
            "text/plain": [
              "PosixPath('models/first_model.pth')"
            ]
          },
          "metadata": {},
          "execution_count": 361
        }
      ]
    },
    {
      "cell_type": "code",
      "source": [
        "!ls -l models"
      ],
      "metadata": {
        "colab": {
          "base_uri": "https://localhost:8080/"
        },
        "id": "ub2KND6lsm2A",
        "outputId": "b9a0937f-61ee-4941-fa12-086a72f11f50"
      },
      "execution_count": 363,
      "outputs": [
        {
          "output_type": "stream",
          "name": "stdout",
          "text": [
            "total 4\n",
            "-rw-r--r-- 1 root root 1520 Mar  5 17:38 first_model.pth\n"
          ]
        }
      ]
    },
    {
      "cell_type": "markdown",
      "source": [
        "### Loading the PyTorch model"
      ],
      "metadata": {
        "id": "rKUx3ShDsoNu"
      }
    },
    {
      "cell_type": "code",
      "source": [
        "model0.state_dict()"
      ],
      "metadata": {
        "colab": {
          "base_uri": "https://localhost:8080/"
        },
        "id": "s4fG-TV2tI1b",
        "outputId": "e3a5e7aa-7374-4562-e864-7fbba09bb7aa"
      },
      "execution_count": 364,
      "outputs": [
        {
          "output_type": "execute_result",
          "data": {
            "text/plain": [
              "OrderedDict([('weights', tensor([0.6990])),\n",
              "             ('bias', tensor([0.3093], dtype=torch.float64))])"
            ]
          },
          "metadata": {},
          "execution_count": 364
        }
      ]
    },
    {
      "cell_type": "code",
      "source": [
        "# To load instantiate the new instance of model\n",
        "\n",
        "loaded = LinearRegressionModel()\n",
        "\n",
        "loaded.load_state_dict(torch.load(f=MODEL_SAVE_PATH))"
      ],
      "metadata": {
        "colab": {
          "base_uri": "https://localhost:8080/"
        },
        "id": "wRklFP_htLjp",
        "outputId": "a9bd2ef3-9847-496f-c6a4-321952940aaa"
      },
      "execution_count": 373,
      "outputs": [
        {
          "output_type": "execute_result",
          "data": {
            "text/plain": [
              "<All keys matched successfully>"
            ]
          },
          "metadata": {},
          "execution_count": 373
        }
      ]
    },
    {
      "cell_type": "code",
      "source": [
        "loaded.state_dict()"
      ],
      "metadata": {
        "colab": {
          "base_uri": "https://localhost:8080/"
        },
        "id": "jDtJLZbstWaz",
        "outputId": "67032428-6758-4298-ea1e-d896221f9c43"
      },
      "execution_count": 374,
      "outputs": [
        {
          "output_type": "execute_result",
          "data": {
            "text/plain": [
              "OrderedDict([('weights', tensor([0.6990])),\n",
              "             ('bias', tensor([0.3093], dtype=torch.float64))])"
            ]
          },
          "metadata": {},
          "execution_count": 374
        }
      ]
    },
    {
      "cell_type": "code",
      "source": [
        "# Make some predictions with loaded model\n",
        "loaded.eval()\n",
        "\n",
        "with torch.inference_mode():\n",
        "  lypred = loaded(x_test)\n",
        "\n",
        "lypred"
      ],
      "metadata": {
        "colab": {
          "base_uri": "https://localhost:8080/"
        },
        "id": "DQDU-9uot_9R",
        "outputId": "351879d5-c21f-4033-cab6-eba974309e66"
      },
      "execution_count": 375,
      "outputs": [
        {
          "output_type": "execute_result",
          "data": {
            "text/plain": [
              "tensor([[0.8685],\n",
              "        [0.8825],\n",
              "        [0.8965],\n",
              "        [0.9105],\n",
              "        [0.9245],\n",
              "        [0.9384],\n",
              "        [0.9524],\n",
              "        [0.9664],\n",
              "        [0.9804],\n",
              "        [0.9944]], dtype=torch.float64)"
            ]
          },
          "metadata": {},
          "execution_count": 375
        }
      ]
    },
    {
      "cell_type": "code",
      "source": [
        "plots_predictions(predictions = lypred)"
      ],
      "metadata": {
        "colab": {
          "base_uri": "https://localhost:8080/",
          "height": 479
        },
        "id": "oNoCoCqxuVei",
        "outputId": "6b4cc4b2-916d-4365-81a2-c44745dcef93"
      },
      "execution_count": 376,
      "outputs": [
        {
          "output_type": "display_data",
          "data": {
            "text/plain": [
              "<Figure size 1000x700 with 1 Axes>"
            ],
            "image/png": "[encoded data removed]"
          },
          "metadata": {}
        }
      ]
    }
  ]
}