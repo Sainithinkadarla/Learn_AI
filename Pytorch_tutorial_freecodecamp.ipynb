{
  "nbformat": 4,
  "nbformat_minor": 0,
  "metadata": {
    "colab": {
      "provenance": [],
      "gpuType": "T4",
      "authorship_tag": "ABX9TyMuzMv4PAscuZ1EZ5h9kJ2S",
      "include_colab_link": true
    },
    "kernelspec": {
      "name": "python3",
      "display_name": "Python 3"
    },
    "language_info": {
      "name": "python"
    }
  },
  "cells": [
    {
      "cell_type": "markdown",
      "metadata": {
        "id": "view-in-github",
        "colab_type": "text"
      },
      "source": [
        "<a href=\"https://colab.research.google.com/github/Sainithinkadarla/Learn_AI/blob/main/Pytorch_tutorial_freecodecamp.ipynb\" target=\"_parent\"><img src=\"https://colab.research.google.com/assets/colab-badge.svg\" alt=\"Open In Colab\"/></a>"
      ]
    },
    {
      "cell_type": "markdown",
      "source": [
        "\n",
        "# PyTorch Tutorial"
      ],
      "metadata": {
        "id": "FSdO5yM-VpMj"
      }
    },
    {
      "cell_type": "markdown",
      "source": [
        "## PyTorch Fundamentals\n"
      ],
      "metadata": {
        "id": "8Teu1Fc8WAYY"
      }
    },
    {
      "cell_type": "code",
      "source": [
        "import torch\n",
        "import pandas as pd\n",
        "import numpy as np\n",
        "import matplotlib.pyplot as plt\n",
        "\n",
        "print(torch.__version__)"
      ],
      "metadata": {
        "id": "JXTmRcXuVzrg",
        "colab": {
          "base_uri": "https://localhost:8080/"
        },
        "outputId": "456443ba-ed3c-4a01-cce9-d2266eadff6f"
      },
      "execution_count": 1,
      "outputs": [
        {
          "output_type": "stream",
          "name": "stdout",
          "text": [
            "2.1.0+cu121\n"
          ]
        }
      ]
    },
    {
      "cell_type": "code",
      "execution_count": 2,
      "metadata": {
        "colab": {
          "base_uri": "https://localhost:8080/"
        },
        "id": "2RHaPD3TT24v",
        "outputId": "41e59a29-26cd-4bd3-9d0f-a448813eb93d"
      },
      "outputs": [
        {
          "output_type": "stream",
          "name": "stdout",
          "text": [
            "/bin/bash: line 1: nvidia-smi: command not found\n"
          ]
        }
      ],
      "source": [
        "!nvidia-smi"
      ]
    },
    {
      "cell_type": "markdown",
      "source": [
        "## Introduction to tensors\n",
        "### Creating tensors"
      ],
      "metadata": {
        "id": "XldrVvcmXbb5"
      }
    },
    {
      "cell_type": "code",
      "source": [
        "# scalar\n",
        "\n",
        "scalar  = torch.tensor(7)\n",
        "scalar"
      ],
      "metadata": {
        "colab": {
          "base_uri": "https://localhost:8080/"
        },
        "id": "RaRYOSjUXodM",
        "outputId": "8033183b-b2a9-4ac2-89c5-a486b80c178f"
      },
      "execution_count": 3,
      "outputs": [
        {
          "output_type": "execute_result",
          "data": {
            "text/plain": [
              "tensor(7)"
            ]
          },
          "metadata": {},
          "execution_count": 3
        }
      ]
    },
    {
      "cell_type": "code",
      "source": [
        "scalar.ndim"
      ],
      "metadata": {
        "colab": {
          "base_uri": "https://localhost:8080/"
        },
        "id": "UxqVvVm4YDku",
        "outputId": "4daa5fd6-8ff0-40da-8d28-10d72b148dbd"
      },
      "execution_count": 4,
      "outputs": [
        {
          "output_type": "execute_result",
          "data": {
            "text/plain": [
              "0"
            ]
          },
          "metadata": {},
          "execution_count": 4
        }
      ]
    },
    {
      "cell_type": "code",
      "source": [
        "scalar.item()"
      ],
      "metadata": {
        "colab": {
          "base_uri": "https://localhost:8080/"
        },
        "id": "c96Z_2LcYhk3",
        "outputId": "982849ad-8130-4bdf-cf80-17d2b4858916"
      },
      "execution_count": 5,
      "outputs": [
        {
          "output_type": "execute_result",
          "data": {
            "text/plain": [
              "7"
            ]
          },
          "metadata": {},
          "execution_count": 5
        }
      ]
    },
    {
      "cell_type": "code",
      "source": [
        "# Vector\n",
        "\n",
        "vector = torch.tensor([7,7])\n",
        "vector"
      ],
      "metadata": {
        "colab": {
          "base_uri": "https://localhost:8080/"
        },
        "id": "WGewnf8aYn_h",
        "outputId": "3982f468-d32f-44f6-9218-0ddd6ef588b7"
      },
      "execution_count": 6,
      "outputs": [
        {
          "output_type": "execute_result",
          "data": {
            "text/plain": [
              "tensor([7, 7])"
            ]
          },
          "metadata": {},
          "execution_count": 6
        }
      ]
    },
    {
      "cell_type": "code",
      "source": [
        "vector.ndim"
      ],
      "metadata": {
        "colab": {
          "base_uri": "https://localhost:8080/"
        },
        "id": "JyKObWMZYxfK",
        "outputId": "0b9bff8f-2b42-4369-a132-b84e68a1f06c"
      },
      "execution_count": 7,
      "outputs": [
        {
          "output_type": "execute_result",
          "data": {
            "text/plain": [
              "1"
            ]
          },
          "metadata": {},
          "execution_count": 7
        }
      ]
    },
    {
      "cell_type": "code",
      "source": [
        "vector.shape"
      ],
      "metadata": {
        "colab": {
          "base_uri": "https://localhost:8080/"
        },
        "id": "LRRotIDPcZyJ",
        "outputId": "8e15cdfd-e14f-42cf-f4bc-9298a0801764"
      },
      "execution_count": 8,
      "outputs": [
        {
          "output_type": "execute_result",
          "data": {
            "text/plain": [
              "torch.Size([2])"
            ]
          },
          "metadata": {},
          "execution_count": 8
        }
      ]
    },
    {
      "cell_type": "code",
      "source": [
        "vector[1]"
      ],
      "metadata": {
        "colab": {
          "base_uri": "https://localhost:8080/"
        },
        "id": "Imn--Dp7c0bL",
        "outputId": "ce4a4da5-8c17-4b0d-cb96-6311a5daa40e"
      },
      "execution_count": 9,
      "outputs": [
        {
          "output_type": "execute_result",
          "data": {
            "text/plain": [
              "tensor(7)"
            ]
          },
          "metadata": {},
          "execution_count": 9
        }
      ]
    },
    {
      "cell_type": "code",
      "source": [
        "MATRIX = torch.tensor([[1,2],[3,4]])\n",
        "MATRIX"
      ],
      "metadata": {
        "colab": {
          "base_uri": "https://localhost:8080/"
        },
        "id": "Uu5909gIch8u",
        "outputId": "b7bb5866-8ce9-4d95-872e-1011d75d350d"
      },
      "execution_count": 10,
      "outputs": [
        {
          "output_type": "execute_result",
          "data": {
            "text/plain": [
              "tensor([[1, 2],\n",
              "        [3, 4]])"
            ]
          },
          "metadata": {},
          "execution_count": 10
        }
      ]
    },
    {
      "cell_type": "code",
      "source": [
        "MATRIX[1]"
      ],
      "metadata": {
        "colab": {
          "base_uri": "https://localhost:8080/"
        },
        "id": "3G9dS-_bcyU3",
        "outputId": "13bb4744-0c75-402a-9871-3a654feb638a"
      },
      "execution_count": 11,
      "outputs": [
        {
          "output_type": "execute_result",
          "data": {
            "text/plain": [
              "tensor([3, 4])"
            ]
          },
          "metadata": {},
          "execution_count": 11
        }
      ]
    },
    {
      "cell_type": "code",
      "source": [
        "MATRIX.shape"
      ],
      "metadata": {
        "colab": {
          "base_uri": "https://localhost:8080/"
        },
        "id": "ypvZsgW7dAOV",
        "outputId": "8bfed0b0-c8fd-481f-875f-ca419dbfb440"
      },
      "execution_count": 12,
      "outputs": [
        {
          "output_type": "execute_result",
          "data": {
            "text/plain": [
              "torch.Size([2, 2])"
            ]
          },
          "metadata": {},
          "execution_count": 12
        }
      ]
    },
    {
      "cell_type": "code",
      "source": [
        "# Tensor\n",
        "\n",
        "TENSOR = torch.tensor([[[1,2,3],[4,5,6],[7,8,9]]])\n",
        "TENSOR"
      ],
      "metadata": {
        "colab": {
          "base_uri": "https://localhost:8080/"
        },
        "id": "ZMJ9dGkgdCTV",
        "outputId": "61acd4e1-2cc6-40a9-b593-9e3354809996"
      },
      "execution_count": 13,
      "outputs": [
        {
          "output_type": "execute_result",
          "data": {
            "text/plain": [
              "tensor([[[1, 2, 3],\n",
              "         [4, 5, 6],\n",
              "         [7, 8, 9]]])"
            ]
          },
          "metadata": {},
          "execution_count": 13
        }
      ]
    },
    {
      "cell_type": "code",
      "source": [
        "TENSOR.ndim"
      ],
      "metadata": {
        "colab": {
          "base_uri": "https://localhost:8080/"
        },
        "id": "nAmZM_CUdSZ3",
        "outputId": "749a78a6-2ac2-4e11-be40-497d45315136"
      },
      "execution_count": 14,
      "outputs": [
        {
          "output_type": "execute_result",
          "data": {
            "text/plain": [
              "3"
            ]
          },
          "metadata": {},
          "execution_count": 14
        }
      ]
    },
    {
      "cell_type": "code",
      "source": [
        "TENSOR.shape"
      ],
      "metadata": {
        "colab": {
          "base_uri": "https://localhost:8080/"
        },
        "id": "xwOrMjSvdjjR",
        "outputId": "73e7276e-bc83-4de0-e6dd-c06a756eecf6"
      },
      "execution_count": 15,
      "outputs": [
        {
          "output_type": "execute_result",
          "data": {
            "text/plain": [
              "torch.Size([1, 3, 3])"
            ]
          },
          "metadata": {},
          "execution_count": 15
        }
      ]
    },
    {
      "cell_type": "code",
      "source": [
        "TENSOR[0]"
      ],
      "metadata": {
        "colab": {
          "base_uri": "https://localhost:8080/"
        },
        "id": "JCKivJypdw4q",
        "outputId": "73b4b9f6-c9cc-4512-f4da-6eeda1afc8a7"
      },
      "execution_count": 16,
      "outputs": [
        {
          "output_type": "execute_result",
          "data": {
            "text/plain": [
              "tensor([[1, 2, 3],\n",
              "        [4, 5, 6],\n",
              "        [7, 8, 9]])"
            ]
          },
          "metadata": {},
          "execution_count": 16
        }
      ]
    },
    {
      "cell_type": "code",
      "source": [
        "# Tensor\n",
        "\n",
        "TENSOR2 = torch.tensor([[[1,2,3],[4,5,6],[4,5,6],[7,8,9]]])\n",
        "TENSOR2"
      ],
      "metadata": {
        "colab": {
          "base_uri": "https://localhost:8080/"
        },
        "outputId": "8b491f87-aa68-4022-d036-446f1e6b85ec",
        "id": "pbfCJ4g2eDC9"
      },
      "execution_count": 17,
      "outputs": [
        {
          "output_type": "execute_result",
          "data": {
            "text/plain": [
              "tensor([[[1, 2, 3],\n",
              "         [4, 5, 6],\n",
              "         [4, 5, 6],\n",
              "         [7, 8, 9]]])"
            ]
          },
          "metadata": {},
          "execution_count": 17
        }
      ]
    },
    {
      "cell_type": "code",
      "source": [
        "TENSOR2.ndim\n"
      ],
      "metadata": {
        "colab": {
          "base_uri": "https://localhost:8080/"
        },
        "id": "Tesyp7D1eHec",
        "outputId": "a4ad94a3-54f5-4a5d-cab8-705e9dd28940"
      },
      "execution_count": 18,
      "outputs": [
        {
          "output_type": "execute_result",
          "data": {
            "text/plain": [
              "3"
            ]
          },
          "metadata": {},
          "execution_count": 18
        }
      ]
    },
    {
      "cell_type": "code",
      "source": [
        "TENSOR2.shape"
      ],
      "metadata": {
        "colab": {
          "base_uri": "https://localhost:8080/"
        },
        "id": "1-YJv3MvePEN",
        "outputId": "ff7d0351-03dd-4cdc-9cf2-e6456ae463d2"
      },
      "execution_count": 19,
      "outputs": [
        {
          "output_type": "execute_result",
          "data": {
            "text/plain": [
              "torch.Size([1, 4, 3])"
            ]
          },
          "metadata": {},
          "execution_count": 19
        }
      ]
    },
    {
      "cell_type": "code",
      "source": [
        "print(TENSOR2[0],\"\\n------------------------------------------\\n\",TENSOR2[0,1],\"\\n------------------------------------------\\n\",TENSOR2[0,1,2])"
      ],
      "metadata": {
        "colab": {
          "base_uri": "https://localhost:8080/"
        },
        "id": "JZ7iMRFTeRmN",
        "outputId": "2df8f05b-20a7-450d-edbd-5fc6848c95f0"
      },
      "execution_count": 20,
      "outputs": [
        {
          "output_type": "stream",
          "name": "stdout",
          "text": [
            "tensor([[1, 2, 3],\n",
            "        [4, 5, 6],\n",
            "        [4, 5, 6],\n",
            "        [7, 8, 9]]) \n",
            "------------------------------------------\n",
            " tensor([4, 5, 6]) \n",
            "------------------------------------------\n",
            " tensor(6)\n"
          ]
        }
      ]
    },
    {
      "cell_type": "markdown",
      "source": [
        "### Random Tensors\n",
        "\n",
        "  Why random tensors\n",
        "\n",
        "  Random tensors are important because the way neural netowrks learn is that they start with tensors full of random numbers and then adjust thise random numbers to bettter represent the data\n",
        "\n",
        "  `start with random numbers -> look at data -> update random numbers -> look at data -> again update random numbers`"
      ],
      "metadata": {
        "id": "ToQ11WJgfI29"
      }
    },
    {
      "cell_type": "code",
      "source": [
        "# Creating the random tensor of suize(3,4)\n",
        "\n",
        "random_tensor = torch.rand(3,4)\n",
        "random_tensor"
      ],
      "metadata": {
        "colab": {
          "base_uri": "https://localhost:8080/"
        },
        "id": "7Cc8M_FHfF9B",
        "outputId": "fffdeedb-59ea-4cfb-da4a-61ee1f3cfe3f"
      },
      "execution_count": 21,
      "outputs": [
        {
          "output_type": "execute_result",
          "data": {
            "text/plain": [
              "tensor([[0.5927, 0.6693, 0.4299, 0.1556],\n",
              "        [0.5466, 0.6780, 0.2523, 0.2343],\n",
              "        [0.8502, 0.3708, 0.0788, 0.1496]])"
            ]
          },
          "metadata": {},
          "execution_count": 21
        }
      ]
    },
    {
      "cell_type": "code",
      "source": [
        "random_tensor.ndim"
      ],
      "metadata": {
        "colab": {
          "base_uri": "https://localhost:8080/"
        },
        "id": "eIEMLM8igbLM",
        "outputId": "f2a994ef-2028-4742-fe08-ca98fdfc7a25"
      },
      "execution_count": 22,
      "outputs": [
        {
          "output_type": "execute_result",
          "data": {
            "text/plain": [
              "2"
            ]
          },
          "metadata": {},
          "execution_count": 22
        }
      ]
    },
    {
      "cell_type": "code",
      "source": [
        "# Creating a random tensor which similar to image tensor\n",
        "random_image_tensor = torch.rand((244,244,3))\n",
        "random_image_tensor.shape, \"shape \\nndim \",random_image_tensor.ndim"
      ],
      "metadata": {
        "colab": {
          "base_uri": "https://localhost:8080/"
        },
        "id": "ul9ZPpd7giIE",
        "outputId": "e02c633e-b903-4f64-a7ca-205882c8c522"
      },
      "execution_count": 23,
      "outputs": [
        {
          "output_type": "execute_result",
          "data": {
            "text/plain": [
              "(torch.Size([244, 244, 3]), 'shape \\nndim ', 3)"
            ]
          },
          "metadata": {},
          "execution_count": 23
        }
      ]
    },
    {
      "cell_type": "markdown",
      "source": [
        "### Zeros and Ones"
      ],
      "metadata": {
        "id": "OrnazJJDhH9o"
      }
    },
    {
      "cell_type": "code",
      "source": [
        "zeros = torch.zeros(3,4)\n",
        "zeros\n"
      ],
      "metadata": {
        "colab": {
          "base_uri": "https://localhost:8080/"
        },
        "id": "fZNNHsxSEKIz",
        "outputId": "0a08154f-98a9-4533-f9fb-843e4de2f0d2"
      },
      "execution_count": 24,
      "outputs": [
        {
          "output_type": "execute_result",
          "data": {
            "text/plain": [
              "tensor([[0., 0., 0., 0.],\n",
              "        [0., 0., 0., 0.],\n",
              "        [0., 0., 0., 0.]])"
            ]
          },
          "metadata": {},
          "execution_count": 24
        }
      ]
    },
    {
      "cell_type": "code",
      "source": [
        "ones = torch.ones(3,4)\n",
        "ones"
      ],
      "metadata": {
        "colab": {
          "base_uri": "https://localhost:8080/"
        },
        "id": "1adYdaLtEUf6",
        "outputId": "2a932868-5e45-48b9-ed90-3e8e9f457060"
      },
      "execution_count": 25,
      "outputs": [
        {
          "output_type": "execute_result",
          "data": {
            "text/plain": [
              "tensor([[1., 1., 1., 1.],\n",
              "        [1., 1., 1., 1.],\n",
              "        [1., 1., 1., 1.]])"
            ]
          },
          "metadata": {},
          "execution_count": 25
        }
      ]
    },
    {
      "cell_type": "code",
      "source": [
        "ones.dtype"
      ],
      "metadata": {
        "colab": {
          "base_uri": "https://localhost:8080/"
        },
        "id": "moMjbjotEZZ8",
        "outputId": "100e432f-29e5-4080-9abb-bbedd3978cba"
      },
      "execution_count": 26,
      "outputs": [
        {
          "output_type": "execute_result",
          "data": {
            "text/plain": [
              "torch.float32"
            ]
          },
          "metadata": {},
          "execution_count": 26
        }
      ]
    },
    {
      "cell_type": "code",
      "source": [
        "random_tensor.dtype"
      ],
      "metadata": {
        "colab": {
          "base_uri": "https://localhost:8080/"
        },
        "id": "OIrJ_e46EbcM",
        "outputId": "60ee69cd-58f4-4cd1-808f-602425f7ff79"
      },
      "execution_count": 27,
      "outputs": [
        {
          "output_type": "execute_result",
          "data": {
            "text/plain": [
              "torch.float32"
            ]
          },
          "metadata": {},
          "execution_count": 27
        }
      ]
    },
    {
      "cell_type": "markdown",
      "source": [
        "### Creating a range of tensors and tensors-like"
      ],
      "metadata": {
        "id": "mtYSsbv8Ezom"
      }
    },
    {
      "cell_type": "code",
      "source": [
        "one_to_ten = torch.arange(1,11)\n",
        "even = torch.arange(2,11,2)\n",
        "\n",
        "one_to_ten, even"
      ],
      "metadata": {
        "colab": {
          "base_uri": "https://localhost:8080/"
        },
        "id": "b0_Tra_0E5uH",
        "outputId": "9fd3c953-dbf4-4306-c458-f7b2e3689f29"
      },
      "execution_count": 28,
      "outputs": [
        {
          "output_type": "execute_result",
          "data": {
            "text/plain": [
              "(tensor([ 1,  2,  3,  4,  5,  6,  7,  8,  9, 10]),\n",
              " tensor([ 2,  4,  6,  8, 10]))"
            ]
          },
          "metadata": {},
          "execution_count": 28
        }
      ]
    },
    {
      "cell_type": "code",
      "source": [
        "ten_zeros = torch.zeros_like(one_to_ten)\n",
        "ten_ones = torch.ones_like(ten_zeros)\n",
        "\n",
        "ten_zeros,ten_ones"
      ],
      "metadata": {
        "colab": {
          "base_uri": "https://localhost:8080/"
        },
        "id": "FKL9BWjOFOA4",
        "outputId": "1de372d1-2b04-4e70-b413-8ef5b2b55fd2"
      },
      "execution_count": 29,
      "outputs": [
        {
          "output_type": "execute_result",
          "data": {
            "text/plain": [
              "(tensor([0, 0, 0, 0, 0, 0, 0, 0, 0, 0]),\n",
              " tensor([1, 1, 1, 1, 1, 1, 1, 1, 1, 1]))"
            ]
          },
          "metadata": {},
          "execution_count": 29
        }
      ]
    },
    {
      "cell_type": "markdown",
      "source": [
        "### Tensor Datatypes\n",
        "\n",
        "**Note:** Tensor datatypes is one of the 3 big errors you'll run into pytorch & deep learning:\n",
        "  1. Tensors not right datatype\n",
        "  2. Tensors not right shape\n",
        "  3. Tensors not on the right device"
      ],
      "metadata": {
        "id": "V5J4KzZWGXm3"
      }
    },
    {
      "cell_type": "code",
      "source": [
        "# Float32 tensor\n",
        "\n",
        "f32_tensor = torch.tensor([3.0,6.0,9.0],dtype = None)\n",
        "f16_tensor = torch.tensor([3.0,6.0,9.0],dtype = torch.float16)\n",
        "\n",
        "f_other_options = torch.tensor([3,2,1,1], dtype=None, device=None, requires_grad= False)\n",
        "\n",
        "f32_tensor, f32_tensor.dtype, f16_tensor, f16_tensor.dtype"
      ],
      "metadata": {
        "colab": {
          "base_uri": "https://localhost:8080/"
        },
        "id": "BjiCnqScGa_4",
        "outputId": "e3a067ca-a230-4b36-870c-942b5b7db83b"
      },
      "execution_count": 30,
      "outputs": [
        {
          "output_type": "execute_result",
          "data": {
            "text/plain": [
              "(tensor([3., 6., 9.]),\n",
              " torch.float32,\n",
              " tensor([3., 6., 9.], dtype=torch.float16),\n",
              " torch.float16)"
            ]
          },
          "metadata": {},
          "execution_count": 30
        }
      ]
    },
    {
      "cell_type": "code",
      "source": [
        "exp_f16_tensor = f32_tensor.type(torch.half)\n",
        "exp_f16_tensor"
      ],
      "metadata": {
        "colab": {
          "base_uri": "https://localhost:8080/"
        },
        "id": "fX2dy9DJGnhc",
        "outputId": "0f7fb760-e37b-4d72-e0fd-a5dbc0c39578"
      },
      "execution_count": 31,
      "outputs": [
        {
          "output_type": "execute_result",
          "data": {
            "text/plain": [
              "tensor([3., 6., 9.], dtype=torch.float16)"
            ]
          },
          "metadata": {},
          "execution_count": 31
        }
      ]
    },
    {
      "cell_type": "code",
      "source": [
        "exp_f16_tensor * f32_tensor"
      ],
      "metadata": {
        "colab": {
          "base_uri": "https://localhost:8080/"
        },
        "id": "KlOMtWzLMic4",
        "outputId": "22e64248-862c-4e00-9e09-fbd52baf51a2"
      },
      "execution_count": 32,
      "outputs": [
        {
          "output_type": "execute_result",
          "data": {
            "text/plain": [
              "tensor([ 9., 36., 81.])"
            ]
          },
          "metadata": {},
          "execution_count": 32
        }
      ]
    },
    {
      "cell_type": "code",
      "source": [
        "i32_tensor = torch.tensor([1,2,34], dtype= torch.int32)"
      ],
      "metadata": {
        "id": "2BDMQ01UN82a"
      },
      "execution_count": 33,
      "outputs": []
    },
    {
      "cell_type": "code",
      "source": [
        "exp_f16_tensor * i32_tensor"
      ],
      "metadata": {
        "colab": {
          "base_uri": "https://localhost:8080/"
        },
        "id": "xTOh4glROD21",
        "outputId": "83114179-19f4-482f-fcca-aa2fa62655af"
      },
      "execution_count": 34,
      "outputs": [
        {
          "output_type": "execute_result",
          "data": {
            "text/plain": [
              "tensor([  3.,  12., 306.], dtype=torch.float16)"
            ]
          },
          "metadata": {},
          "execution_count": 34
        }
      ]
    },
    {
      "cell_type": "code",
      "source": [
        "long_tensor = torch.tensor([1,2,3], dtype= torch.long)\n",
        "\n",
        "exp_f16_tensor * long_tensor"
      ],
      "metadata": {
        "colab": {
          "base_uri": "https://localhost:8080/"
        },
        "id": "eodbsbm2OHU7",
        "outputId": "ca8a239a-d67e-45eb-e304-49835133aff2"
      },
      "execution_count": 35,
      "outputs": [
        {
          "output_type": "execute_result",
          "data": {
            "text/plain": [
              "tensor([ 3., 12., 27.], dtype=torch.float16)"
            ]
          },
          "metadata": {},
          "execution_count": 35
        }
      ]
    },
    {
      "cell_type": "markdown",
      "source": [
        "\n",
        "### Getting information from tensors\n",
        "\n",
        "  1. Shape\n",
        "  2. Dtype\n",
        "  3. Device"
      ],
      "metadata": {
        "id": "Lu8NP0p6O3To"
      }
    },
    {
      "cell_type": "code",
      "source": [
        "test = torch.tensor([1,2,3])\n",
        "test"
      ],
      "metadata": {
        "colab": {
          "base_uri": "https://localhost:8080/"
        },
        "id": "lYNlOGZLO6_B",
        "outputId": "3a986bbd-d4b0-47aa-9256-8237e6c5a3a1"
      },
      "execution_count": 36,
      "outputs": [
        {
          "output_type": "execute_result",
          "data": {
            "text/plain": [
              "tensor([1, 2, 3])"
            ]
          },
          "metadata": {},
          "execution_count": 36
        }
      ]
    },
    {
      "cell_type": "code",
      "source": [
        "print(f\"shape : {test.shape} \\ndtype : {test.dtype}\\ndevice : {test.device}\")"
      ],
      "metadata": {
        "colab": {
          "base_uri": "https://localhost:8080/"
        },
        "id": "Fuudv5jYPOXT",
        "outputId": "d5acc3ae-c72f-465b-f52c-5581e0d13541"
      },
      "execution_count": 37,
      "outputs": [
        {
          "output_type": "stream",
          "name": "stdout",
          "text": [
            "shape : torch.Size([3]) \n",
            "dtype : torch.int64\n",
            "device : cpu\n"
          ]
        }
      ]
    },
    {
      "cell_type": "markdown",
      "source": [
        "### Manipulating tensors\n",
        "\n",
        "Tensors operations like:\n",
        "* Addition\n",
        "* Subtraction\n",
        "* Multiplication (element-wise)\n",
        "* Division\n",
        "* Matrix multiplication"
      ],
      "metadata": {
        "id": "V8M56_NQP6AN"
      }
    },
    {
      "cell_type": "code",
      "source": [
        "tensor = torch.tensor([1,2,3])\n",
        "tensor, tensor+10, tensor*10, tensor - 10"
      ],
      "metadata": {
        "colab": {
          "base_uri": "https://localhost:8080/"
        },
        "id": "TzVIZMAQQEEr",
        "outputId": "971b1177-9f48-471f-c106-a4aa2bf7497b"
      },
      "execution_count": 38,
      "outputs": [
        {
          "output_type": "execute_result",
          "data": {
            "text/plain": [
              "(tensor([1, 2, 3]),\n",
              " tensor([11, 12, 13]),\n",
              " tensor([10, 20, 30]),\n",
              " tensor([-9, -8, -7]))"
            ]
          },
          "metadata": {},
          "execution_count": 38
        }
      ]
    },
    {
      "cell_type": "code",
      "source": [
        "# Tryin PyTorch in-bulit functions\n",
        "torch.mul(tensor, 10 )"
      ],
      "metadata": {
        "colab": {
          "base_uri": "https://localhost:8080/"
        },
        "id": "EBlkyW1lP9Nu",
        "outputId": "5d805b0f-b8fa-490d-fd88-d34b2d634333"
      },
      "execution_count": 39,
      "outputs": [
        {
          "output_type": "execute_result",
          "data": {
            "text/plain": [
              "tensor([10, 20, 30])"
            ]
          },
          "metadata": {},
          "execution_count": 39
        }
      ]
    },
    {
      "cell_type": "code",
      "source": [
        "torch.add(tensor, 10 )"
      ],
      "metadata": {
        "colab": {
          "base_uri": "https://localhost:8080/"
        },
        "id": "zZCzL0XVRXOw",
        "outputId": "e97ce89c-f02c-4401-af04-a8f0ee44a3a8"
      },
      "execution_count": 40,
      "outputs": [
        {
          "output_type": "execute_result",
          "data": {
            "text/plain": [
              "tensor([11, 12, 13])"
            ]
          },
          "metadata": {},
          "execution_count": 40
        }
      ]
    },
    {
      "cell_type": "code",
      "source": [
        "torch.div(tensor,2)"
      ],
      "metadata": {
        "colab": {
          "base_uri": "https://localhost:8080/"
        },
        "id": "o_hKD2fPXefd",
        "outputId": "f72e8f3e-dbd7-4a84-8de4-26f67a0fa93e"
      },
      "execution_count": 41,
      "outputs": [
        {
          "output_type": "execute_result",
          "data": {
            "text/plain": [
              "tensor([0.5000, 1.0000, 1.5000])"
            ]
          },
          "metadata": {},
          "execution_count": 41
        }
      ]
    },
    {
      "cell_type": "code",
      "source": [
        "tensor, torch.sub(tensor, 1), torch.sub(tensor, -1)"
      ],
      "metadata": {
        "colab": {
          "base_uri": "https://localhost:8080/"
        },
        "id": "sJj-Wv7bXjAP",
        "outputId": "a3fde849-cf4b-47e6-e86d-664b92d4b317"
      },
      "execution_count": 42,
      "outputs": [
        {
          "output_type": "execute_result",
          "data": {
            "text/plain": [
              "(tensor([1, 2, 3]), tensor([0, 1, 2]), tensor([2, 3, 4]))"
            ]
          },
          "metadata": {},
          "execution_count": 42
        }
      ]
    },
    {
      "cell_type": "markdown",
      "source": [
        "### Matrix Multiplication\n",
        "\n",
        "Two ways of multipication in neural networks and deep learning:\n",
        "\n",
        "1. Element-wise multiplication\n",
        "2. Matrix multiplication (Dot product)\n",
        "\n",
        "Rules to matrix multiplication:\n",
        "1. **Inner dimensions** must match\n",
        "* `(3,2) @ (3,2)` will not work\n",
        "* `(3,2) @ (2,3)` will work\n",
        "* `(2,3) @ (3,2)` will work\n",
        "2. The resulting matrix has the shape of the **outer dimensions**\n",
        "* `(2,3) @ (3,2) => (2,2)`\n",
        "* `(3,2) @ (2,3) => (3,3)`\n",
        "\n"
      ],
      "metadata": {
        "id": "f90zeR95JcCU"
      }
    },
    {
      "cell_type": "code",
      "source": [
        "### Element-wise multiplication\n",
        "\n",
        "tensor * tensor"
      ],
      "metadata": {
        "colab": {
          "base_uri": "https://localhost:8080/"
        },
        "id": "wbJSdBnyJejj",
        "outputId": "c8d1d717-c99c-4502-c1e0-d5ad0bd078ed"
      },
      "execution_count": 43,
      "outputs": [
        {
          "output_type": "execute_result",
          "data": {
            "text/plain": [
              "tensor([1, 4, 9])"
            ]
          },
          "metadata": {},
          "execution_count": 43
        }
      ]
    },
    {
      "cell_type": "code",
      "source": [
        "### Matrix multiplication\n",
        "\n",
        "torch.matmul(tensor, tensor)"
      ],
      "metadata": {
        "colab": {
          "base_uri": "https://localhost:8080/"
        },
        "id": "FBHUIirtKjqK",
        "outputId": "42aae41a-92fa-49cf-87c4-d637d6a1ab27"
      },
      "execution_count": 44,
      "outputs": [
        {
          "output_type": "execute_result",
          "data": {
            "text/plain": [
              "tensor(14)"
            ]
          },
          "metadata": {},
          "execution_count": 44
        }
      ]
    },
    {
      "cell_type": "markdown",
      "source": [
        "### One of the most common errors is shape errors"
      ],
      "metadata": {
        "id": "3eApaJZhTN1Q"
      }
    },
    {
      "cell_type": "code",
      "source": [
        "\n",
        "torch.matmul(torch.rand(3,2), torch.rand(2,3))"
      ],
      "metadata": {
        "colab": {
          "base_uri": "https://localhost:8080/"
        },
        "id": "CMsFRkT2Tn6n",
        "outputId": "f1a7e60b-e626-49d0-c136-2227229c9079"
      },
      "execution_count": 45,
      "outputs": [
        {
          "output_type": "execute_result",
          "data": {
            "text/plain": [
              "tensor([[0.2292, 0.3977, 0.2781],\n",
              "        [0.2876, 0.3091, 0.3805],\n",
              "        [0.2355, 0.2592, 0.3105]])"
            ]
          },
          "metadata": {},
          "execution_count": 45
        }
      ]
    },
    {
      "cell_type": "code",
      "source": [
        "A = torch.tensor([[1,2],\n",
        "                 [3,4],\n",
        "                 [5,6]])\n",
        "\n",
        "B = torch.tensor([[7,8],\n",
        "                 [9,10],\n",
        "                 [11,12]])\n",
        "\n",
        "torch.mm(A,B)  #short form of matmul"
      ],
      "metadata": {
        "colab": {
          "base_uri": "https://localhost:8080/",
          "height": 176
        },
        "id": "rFA_U5_eWby1",
        "outputId": "e8acb95e-ec2e-4a43-bd45-79c6298505ff"
      },
      "execution_count": 46,
      "outputs": [
        {
          "output_type": "error",
          "ename": "RuntimeError",
          "evalue": "mat1 and mat2 shapes cannot be multiplied (3x2 and 3x2)",
          "traceback": [
            "\u001b[0;31m---------------------------------------------------------------------------\u001b[0m",
            "\u001b[0;31mRuntimeError\u001b[0m                              Traceback (most recent call last)",
            "\u001b[0;32m<ipython-input-46-c51200c19e32>\u001b[0m in \u001b[0;36m<cell line: 9>\u001b[0;34m()\u001b[0m\n\u001b[1;32m      7\u001b[0m                  [11,12]])\n\u001b[1;32m      8\u001b[0m \u001b[0;34m\u001b[0m\u001b[0m\n\u001b[0;32m----> 9\u001b[0;31m \u001b[0mtorch\u001b[0m\u001b[0;34m.\u001b[0m\u001b[0mmm\u001b[0m\u001b[0;34m(\u001b[0m\u001b[0mA\u001b[0m\u001b[0;34m,\u001b[0m\u001b[0mB\u001b[0m\u001b[0;34m)\u001b[0m  \u001b[0;31m#short form of matmul\u001b[0m\u001b[0;34m\u001b[0m\u001b[0;34m\u001b[0m\u001b[0m\n\u001b[0m",
            "\u001b[0;31mRuntimeError\u001b[0m: mat1 and mat2 shapes cannot be multiplied (3x2 and 3x2)"
          ]
        }
      ]
    },
    {
      "cell_type": "code",
      "source": [
        "B"
      ],
      "metadata": {
        "colab": {
          "base_uri": "https://localhost:8080/"
        },
        "id": "ctG18tseXa4D",
        "outputId": "f80ff191-e69f-4812-953f-6d125ffaf42c"
      },
      "execution_count": 47,
      "outputs": [
        {
          "output_type": "execute_result",
          "data": {
            "text/plain": [
              "tensor([[ 7,  8],\n",
              "        [ 9, 10],\n",
              "        [11, 12]])"
            ]
          },
          "metadata": {},
          "execution_count": 47
        }
      ]
    },
    {
      "cell_type": "code",
      "source": [
        "A.shape, B.shape"
      ],
      "metadata": {
        "colab": {
          "base_uri": "https://localhost:8080/"
        },
        "id": "intACr9WW7Od",
        "outputId": "4adc41ee-7f69-40ed-c9aa-cff1c6f9229a"
      },
      "execution_count": 48,
      "outputs": [
        {
          "output_type": "execute_result",
          "data": {
            "text/plain": [
              "(torch.Size([3, 2]), torch.Size([3, 2]))"
            ]
          },
          "metadata": {},
          "execution_count": 48
        }
      ]
    },
    {
      "cell_type": "markdown",
      "source": [
        "To fix the above error, we should transpose the matrix"
      ],
      "metadata": {
        "id": "C_cwMcgTW-9k"
      }
    },
    {
      "cell_type": "code",
      "source": [
        "B.T, B.T.shape # Transposing B matrix"
      ],
      "metadata": {
        "colab": {
          "base_uri": "https://localhost:8080/"
        },
        "id": "aesQf9aSXE6i",
        "outputId": "af1c5925-8fac-437f-8131-9e31359f230b"
      },
      "execution_count": 49,
      "outputs": [
        {
          "output_type": "execute_result",
          "data": {
            "text/plain": [
              "(tensor([[ 7,  9, 11],\n",
              "         [ 8, 10, 12]]),\n",
              " torch.Size([2, 3]))"
            ]
          },
          "metadata": {},
          "execution_count": 49
        }
      ]
    },
    {
      "cell_type": "code",
      "source": [
        "output = torch.mm(A,B.T) # B matrix is given asa transpose matrix\n",
        "\n",
        "output, output.shape"
      ],
      "metadata": {
        "colab": {
          "base_uri": "https://localhost:8080/"
        },
        "id": "2sh_Y6ipXHnx",
        "outputId": "246a7724-f513-4a0b-c08d-29db3b6dadcc"
      },
      "execution_count": 50,
      "outputs": [
        {
          "output_type": "execute_result",
          "data": {
            "text/plain": [
              "(tensor([[ 23,  29,  35],\n",
              "         [ 53,  67,  81],\n",
              "         [ 83, 105, 127]]),\n",
              " torch.Size([3, 3]))"
            ]
          },
          "metadata": {},
          "execution_count": 50
        }
      ]
    },
    {
      "cell_type": "markdown",
      "source": [
        "FInding min, max, mean and sum"
      ],
      "metadata": {
        "id": "IWidUCpHYFzj"
      }
    },
    {
      "cell_type": "code",
      "source": [
        "x = torch.arange(0,100,10)\n",
        "x\n"
      ],
      "metadata": {
        "id": "AGXxcUHiZXTE",
        "colab": {
          "base_uri": "https://localhost:8080/"
        },
        "outputId": "e56a0391-f336-4581-faa2-84b599a77b3b"
      },
      "execution_count": 51,
      "outputs": [
        {
          "output_type": "execute_result",
          "data": {
            "text/plain": [
              "tensor([ 0, 10, 20, 30, 40, 50, 60, 70, 80, 90])"
            ]
          },
          "metadata": {},
          "execution_count": 51
        }
      ]
    },
    {
      "cell_type": "code",
      "source": [
        "# Maximumm value of the tensor\n",
        "torch.max(x), x.max()"
      ],
      "metadata": {
        "colab": {
          "base_uri": "https://localhost:8080/"
        },
        "id": "YM4EJzJiiy9a",
        "outputId": "69a50bdb-922a-4690-a821-dfd1f53573ce"
      },
      "execution_count": 52,
      "outputs": [
        {
          "output_type": "execute_result",
          "data": {
            "text/plain": [
              "(tensor(90), tensor(90))"
            ]
          },
          "metadata": {},
          "execution_count": 52
        }
      ]
    },
    {
      "cell_type": "code",
      "source": [
        "# Minimumm value of the tensor\n",
        "torch.min(x), x.min()"
      ],
      "metadata": {
        "colab": {
          "base_uri": "https://localhost:8080/"
        },
        "outputId": "f816a257-cb18-4223-f1dd-01efa244a0b2",
        "id": "0ddpPvf7jwQZ"
      },
      "execution_count": 53,
      "outputs": [
        {
          "output_type": "execute_result",
          "data": {
            "text/plain": [
              "(tensor(0), tensor(0))"
            ]
          },
          "metadata": {},
          "execution_count": 53
        }
      ]
    },
    {
      "cell_type": "code",
      "source": [
        "# Mean of the tensor\n",
        "torch.mean(x.type(torch.float32)), x.type(torch.float32).mean()"
      ],
      "metadata": {
        "colab": {
          "base_uri": "https://localhost:8080/"
        },
        "id": "wIdR8643i2Ge",
        "outputId": "4a5fd5ba-5bbd-418d-c5f2-4a59cd297447"
      },
      "execution_count": 54,
      "outputs": [
        {
          "output_type": "execute_result",
          "data": {
            "text/plain": [
              "(tensor(45.), tensor(45.))"
            ]
          },
          "metadata": {},
          "execution_count": 54
        }
      ]
    },
    {
      "cell_type": "markdown",
      "source": [
        "### Finding the position of the maximum and minimum value"
      ],
      "metadata": {
        "id": "JLjvuJc3kiyV"
      }
    },
    {
      "cell_type": "code",
      "source": [
        "### Finding the position of the maximum and minimum value\n",
        "\n",
        "x.argmin(), x[x.argmin()], x.argmax(), x[x.argmax()]"
      ],
      "metadata": {
        "colab": {
          "base_uri": "https://localhost:8080/"
        },
        "id": "9rUI56IRi7d8",
        "outputId": "a5b0ee69-1fb2-4a03-d8ec-60c7d7753392"
      },
      "execution_count": 55,
      "outputs": [
        {
          "output_type": "execute_result",
          "data": {
            "text/plain": [
              "(tensor(0), tensor(0), tensor(9), tensor(90))"
            ]
          },
          "metadata": {},
          "execution_count": 55
        }
      ]
    },
    {
      "cell_type": "markdown",
      "source": [
        "### Reshaping, stacking, squeezing and unsqueezing tensors\n",
        "\n",
        "* Reshaping: reshapes an input tensor to a defined shape.\n",
        "* Viewing; Return a view of an input tensor of certain shape but keep the same memory as the original tensor.\n",
        "* Stacking: combine multiple tensors on top of each other(vstack) or side by side(hstack).\n",
        "* Squeeze: removes all `1` dimensions from a tensor.\n",
        "* Unsqueeze: add a `1` dimension to a target tensor.\n",
        "* permute: Retuirn a view of input with dimensions permuted (swapped) in a certain way.\n",
        "\n"
      ],
      "metadata": {
        "id": "aan8urnUkWsM"
      }
    },
    {
      "cell_type": "code",
      "source": [
        "# creating a tensor\n",
        "x = torch.arange(1.,9.)\n",
        "x, x.shape"
      ],
      "metadata": {
        "colab": {
          "base_uri": "https://localhost:8080/"
        },
        "id": "sagQCOaEkfzt",
        "outputId": "9a9899fc-e5ab-429f-e691-a8b1d9aaeaab"
      },
      "execution_count": 56,
      "outputs": [
        {
          "output_type": "execute_result",
          "data": {
            "text/plain": [
              "(tensor([1., 2., 3., 4., 5., 6., 7., 8.]), torch.Size([8]))"
            ]
          },
          "metadata": {},
          "execution_count": 56
        }
      ]
    },
    {
      "cell_type": "code",
      "source": [
        "x_reshape = x.reshape(1,8)\n",
        "x_reshape, x_reshape.shape"
      ],
      "metadata": {
        "colab": {
          "base_uri": "https://localhost:8080/"
        },
        "id": "tkxceWX8m95V",
        "outputId": "b93001b1-f5e0-4133-9e38-d3826b7cc2e9"
      },
      "execution_count": 57,
      "outputs": [
        {
          "output_type": "execute_result",
          "data": {
            "text/plain": [
              "(tensor([[1., 2., 3., 4., 5., 6., 7., 8.]]), torch.Size([1, 8]))"
            ]
          },
          "metadata": {},
          "execution_count": 57
        }
      ]
    },
    {
      "cell_type": "code",
      "source": [
        "# Creating and changing the view\n",
        "z = x.view(1,8)\n",
        "z, z.shape"
      ],
      "metadata": {
        "colab": {
          "base_uri": "https://localhost:8080/"
        },
        "id": "VU1lYNLynI_2",
        "outputId": "c98fa73d-d670-44e4-86f9-527fb7cfa204"
      },
      "execution_count": 58,
      "outputs": [
        {
          "output_type": "execute_result",
          "data": {
            "text/plain": [
              "(tensor([[1., 2., 3., 4., 5., 6., 7., 8.]]), torch.Size([1, 8]))"
            ]
          },
          "metadata": {},
          "execution_count": 58
        }
      ]
    },
    {
      "cell_type": "code",
      "source": [
        "# changing z changes x (because view shares same memory of x)\n",
        "\n",
        "z[0][0] = 5\n",
        "z, x"
      ],
      "metadata": {
        "colab": {
          "base_uri": "https://localhost:8080/"
        },
        "id": "dnzxSQ_Qntez",
        "outputId": "45a072e3-af8d-4194-f4cd-352f19cb3d34"
      },
      "execution_count": 59,
      "outputs": [
        {
          "output_type": "execute_result",
          "data": {
            "text/plain": [
              "(tensor([[5., 2., 3., 4., 5., 6., 7., 8.]]),\n",
              " tensor([5., 2., 3., 4., 5., 6., 7., 8.]))"
            ]
          },
          "metadata": {},
          "execution_count": 59
        }
      ]
    },
    {
      "cell_type": "code",
      "source": [
        "# Stacking the tensor\n",
        "\n",
        "x_stackedh = torch.stack([x,x,x,x], dim = 0)\n",
        "x_stackedv = torch.stack([x,x,x,x], dim = 1)\n",
        "\n",
        "x_stackedh, x_stackedv"
      ],
      "metadata": {
        "colab": {
          "base_uri": "https://localhost:8080/"
        },
        "id": "JjvFKzSIoORl",
        "outputId": "b2fcfa82-df67-47cb-f908-fe1a396b6718"
      },
      "execution_count": 60,
      "outputs": [
        {
          "output_type": "execute_result",
          "data": {
            "text/plain": [
              "(tensor([[5., 2., 3., 4., 5., 6., 7., 8.],\n",
              "         [5., 2., 3., 4., 5., 6., 7., 8.],\n",
              "         [5., 2., 3., 4., 5., 6., 7., 8.],\n",
              "         [5., 2., 3., 4., 5., 6., 7., 8.]]),\n",
              " tensor([[5., 5., 5., 5.],\n",
              "         [2., 2., 2., 2.],\n",
              "         [3., 3., 3., 3.],\n",
              "         [4., 4., 4., 4.],\n",
              "         [5., 5., 5., 5.],\n",
              "         [6., 6., 6., 6.],\n",
              "         [7., 7., 7., 7.],\n",
              "         [8., 8., 8., 8.]]))"
            ]
          },
          "metadata": {},
          "execution_count": 60
        }
      ]
    },
    {
      "cell_type": "markdown",
      "source": [
        "### Squeezing and unsqueezing"
      ],
      "metadata": {
        "id": "41uJDnrOo3q9"
      }
    },
    {
      "cell_type": "code",
      "source": [
        "x_reshape, x_reshape.shape, x_reshape.squeeze(), x_reshape.squeeze().shape"
      ],
      "metadata": {
        "colab": {
          "base_uri": "https://localhost:8080/"
        },
        "id": "JWIUc0JBoo-u",
        "outputId": "0b660185-c548-4ffe-bca7-b7b83482ca14"
      },
      "execution_count": 61,
      "outputs": [
        {
          "output_type": "execute_result",
          "data": {
            "text/plain": [
              "(tensor([[5., 2., 3., 4., 5., 6., 7., 8.]]),\n",
              " torch.Size([1, 8]),\n",
              " tensor([5., 2., 3., 4., 5., 6., 7., 8.]),\n",
              " torch.Size([8]))"
            ]
          },
          "metadata": {},
          "execution_count": 61
        }
      ]
    },
    {
      "cell_type": "code",
      "source": [
        "x = torch.zeros(2, 1, 2, 1, 2)\n",
        "x, x.shape"
      ],
      "metadata": {
        "colab": {
          "base_uri": "https://localhost:8080/"
        },
        "id": "14XPK-tOqWYE",
        "outputId": "9802f62f-3a66-4358-9a47-2a7b1b06a291"
      },
      "execution_count": 62,
      "outputs": [
        {
          "output_type": "execute_result",
          "data": {
            "text/plain": [
              "(tensor([[[[[0., 0.]],\n",
              " \n",
              "           [[0., 0.]]]],\n",
              " \n",
              " \n",
              " \n",
              "         [[[[0., 0.]],\n",
              " \n",
              "           [[0., 0.]]]]]),\n",
              " torch.Size([2, 1, 2, 1, 2]))"
            ]
          },
          "metadata": {},
          "execution_count": 62
        }
      ]
    },
    {
      "cell_type": "code",
      "source": [
        "y = torch.squeeze(x)\n",
        "y, y.size()"
      ],
      "metadata": {
        "colab": {
          "base_uri": "https://localhost:8080/"
        },
        "id": "E8b1OJ1Pq-oY",
        "outputId": "7de69626-70d0-4c6a-86ef-360d57656930"
      },
      "execution_count": 63,
      "outputs": [
        {
          "output_type": "execute_result",
          "data": {
            "text/plain": [
              "(tensor([[[0., 0.],\n",
              "          [0., 0.]],\n",
              " \n",
              "         [[0., 0.],\n",
              "          [0., 0.]]]),\n",
              " torch.Size([2, 2, 2]))"
            ]
          },
          "metadata": {},
          "execution_count": 63
        }
      ]
    },
    {
      "cell_type": "code",
      "source": [
        "y = torch.squeeze(x,0)\n",
        "y.size()"
      ],
      "metadata": {
        "colab": {
          "base_uri": "https://localhost:8080/"
        },
        "id": "lEGGTrKZrEBf",
        "outputId": "eda5f5e3-1aef-497d-92e9-a8450af57cad"
      },
      "execution_count": 64,
      "outputs": [
        {
          "output_type": "execute_result",
          "data": {
            "text/plain": [
              "torch.Size([2, 1, 2, 1, 2])"
            ]
          },
          "metadata": {},
          "execution_count": 64
        }
      ]
    },
    {
      "cell_type": "code",
      "source": [
        "y=torch.squeeze(x,1)\n",
        "y.size()"
      ],
      "metadata": {
        "colab": {
          "base_uri": "https://localhost:8080/"
        },
        "id": "VbfsPu5PrE2g",
        "outputId": "658b9293-9159-432d-e70a-64b376c16d41"
      },
      "execution_count": 65,
      "outputs": [
        {
          "output_type": "execute_result",
          "data": {
            "text/plain": [
              "torch.Size([2, 2, 1, 2])"
            ]
          },
          "metadata": {},
          "execution_count": 65
        }
      ]
    },
    {
      "cell_type": "code",
      "source": [
        "y = torch.squeeze(x, (1, 2, 3))\n",
        "y.shape"
      ],
      "metadata": {
        "colab": {
          "base_uri": "https://localhost:8080/"
        },
        "id": "YLyePNYzrO-R",
        "outputId": "2327ed07-0623-4824-aa1b-6b7443bca61f"
      },
      "execution_count": 66,
      "outputs": [
        {
          "output_type": "execute_result",
          "data": {
            "text/plain": [
              "torch.Size([2, 2, 2])"
            ]
          },
          "metadata": {},
          "execution_count": 66
        }
      ]
    },
    {
      "cell_type": "code",
      "source": [
        "y, torch.unsqueeze(y, dim=2), torch.unsqueeze(y, dim = 2).shape"
      ],
      "metadata": {
        "colab": {
          "base_uri": "https://localhost:8080/"
        },
        "id": "QBOGh5wirTky",
        "outputId": "96dd2b41-1a45-49e8-defe-74781732011b"
      },
      "execution_count": 67,
      "outputs": [
        {
          "output_type": "execute_result",
          "data": {
            "text/plain": [
              "(tensor([[[0., 0.],\n",
              "          [0., 0.]],\n",
              " \n",
              "         [[0., 0.],\n",
              "          [0., 0.]]]),\n",
              " tensor([[[[0., 0.]],\n",
              " \n",
              "          [[0., 0.]]],\n",
              " \n",
              " \n",
              "         [[[0., 0.]],\n",
              " \n",
              "          [[0., 0.]]]]),\n",
              " torch.Size([2, 2, 1, 2]))"
            ]
          },
          "metadata": {},
          "execution_count": 67
        }
      ]
    },
    {
      "cell_type": "code",
      "source": [
        "# torch.permute - rearranges the dimensions of a target tensor in a specified order\n",
        "\n",
        "x_original = torch.rand(size= (244,244, 3))\n",
        "\n",
        "# permuting the tensor\n",
        "x_permuted = x_original.permute(2,0,1)\n",
        "x_original.shape, x_permuted.shape"
      ],
      "metadata": {
        "colab": {
          "base_uri": "https://localhost:8080/"
        },
        "id": "YF5brkqQr5B4",
        "outputId": "c2d8dc1c-8a32-496a-fe69-464861537027"
      },
      "execution_count": 68,
      "outputs": [
        {
          "output_type": "execute_result",
          "data": {
            "text/plain": [
              "(torch.Size([244, 244, 3]), torch.Size([3, 244, 244]))"
            ]
          },
          "metadata": {},
          "execution_count": 68
        }
      ]
    },
    {
      "cell_type": "code",
      "source": [
        "x_original[0, 0, 0] = 0.21\n",
        "x_original"
      ],
      "metadata": {
        "colab": {
          "base_uri": "https://localhost:8080/"
        },
        "id": "wLTgkW_KtZpH",
        "outputId": "4c044bc8-4fd1-4549-ac9f-fab8f6bcdc60"
      },
      "execution_count": 69,
      "outputs": [
        {
          "output_type": "execute_result",
          "data": {
            "text/plain": [
              "tensor([[[0.2100, 0.4146, 0.4738],\n",
              "         [0.0293, 0.0263, 0.9810],\n",
              "         [0.2992, 0.0450, 0.2868],\n",
              "         ...,\n",
              "         [0.4808, 0.1951, 0.6533],\n",
              "         [0.2605, 0.0058, 0.0916],\n",
              "         [0.1559, 0.7075, 0.4493]],\n",
              "\n",
              "        [[0.5399, 0.7953, 0.6637],\n",
              "         [0.7868, 0.2238, 0.0144],\n",
              "         [0.8310, 0.5199, 0.7941],\n",
              "         ...,\n",
              "         [0.0038, 0.2378, 0.9685],\n",
              "         [0.2494, 0.0017, 0.8167],\n",
              "         [0.3568, 0.1072, 0.6238]],\n",
              "\n",
              "        [[0.8005, 0.6995, 0.8086],\n",
              "         [0.6654, 0.5989, 0.3190],\n",
              "         [0.6080, 0.3172, 0.5438],\n",
              "         ...,\n",
              "         [0.8855, 0.9018, 0.3093],\n",
              "         [0.8799, 0.9741, 0.2480],\n",
              "         [0.2348, 0.8861, 0.9066]],\n",
              "\n",
              "        ...,\n",
              "\n",
              "        [[0.5528, 0.6031, 0.8447],\n",
              "         [0.3443, 0.6820, 0.7674],\n",
              "         [0.9054, 0.2513, 0.4198],\n",
              "         ...,\n",
              "         [0.1914, 0.3911, 0.2705],\n",
              "         [0.6852, 0.5990, 0.1470],\n",
              "         [0.0173, 0.3752, 0.9130]],\n",
              "\n",
              "        [[0.0961, 0.0940, 0.9679],\n",
              "         [0.6967, 0.6619, 0.9624],\n",
              "         [0.0029, 0.4264, 0.3886],\n",
              "         ...,\n",
              "         [0.0463, 0.8826, 0.5264],\n",
              "         [0.1707, 0.0022, 0.4640],\n",
              "         [0.1881, 0.0730, 0.7009]],\n",
              "\n",
              "        [[0.9848, 0.8045, 0.3654],\n",
              "         [0.1869, 0.4366, 0.2398],\n",
              "         [0.3398, 0.2633, 0.4239],\n",
              "         ...,\n",
              "         [0.3001, 0.7320, 0.0994],\n",
              "         [0.0670, 0.3142, 0.4615],\n",
              "         [0.1225, 0.4169, 0.5531]]])"
            ]
          },
          "metadata": {},
          "execution_count": 69
        }
      ]
    },
    {
      "cell_type": "markdown",
      "source": [
        "### Indexing\n",
        "\n",
        "Same as numpy\n"
      ],
      "metadata": {
        "id": "uPSc4JJ5uCIU"
      }
    },
    {
      "cell_type": "code",
      "source": [
        "import torch\n",
        "x = torch.arange(1,10).reshape(1,3,3)\n",
        "x, x.shape\n"
      ],
      "metadata": {
        "colab": {
          "base_uri": "https://localhost:8080/"
        },
        "id": "7UN1bvR9uVIf",
        "outputId": "6ed1c772-b7c9-4d75-e88d-63276d854026"
      },
      "execution_count": 70,
      "outputs": [
        {
          "output_type": "execute_result",
          "data": {
            "text/plain": [
              "(tensor([[[1, 2, 3],\n",
              "          [4, 5, 6],\n",
              "          [7, 8, 9]]]),\n",
              " torch.Size([1, 3, 3]))"
            ]
          },
          "metadata": {},
          "execution_count": 70
        }
      ]
    },
    {
      "cell_type": "code",
      "source": [
        "x[0], x[0,0], x[0][0], x[0][0][0], x[0,0,0]"
      ],
      "metadata": {
        "colab": {
          "base_uri": "https://localhost:8080/"
        },
        "id": "bLMJV776uj1y",
        "outputId": "bfe84b37-3948-4a63-ce82-cae953ae7c58"
      },
      "execution_count": 71,
      "outputs": [
        {
          "output_type": "execute_result",
          "data": {
            "text/plain": [
              "(tensor([[1, 2, 3],\n",
              "         [4, 5, 6],\n",
              "         [7, 8, 9]]),\n",
              " tensor([1, 2, 3]),\n",
              " tensor([1, 2, 3]),\n",
              " tensor(1),\n",
              " tensor(1))"
            ]
          },
          "metadata": {},
          "execution_count": 71
        }
      ]
    },
    {
      "cell_type": "code",
      "source": [
        "x[:]"
      ],
      "metadata": {
        "colab": {
          "base_uri": "https://localhost:8080/"
        },
        "id": "_hjSdUuhv78A",
        "outputId": "95bd1d0e-a576-415a-c7b6-bf7f84b98ddf"
      },
      "execution_count": 72,
      "outputs": [
        {
          "output_type": "execute_result",
          "data": {
            "text/plain": [
              "tensor([[[1, 2, 3],\n",
              "         [4, 5, 6],\n",
              "         [7, 8, 9]]])"
            ]
          },
          "metadata": {},
          "execution_count": 72
        }
      ]
    },
    {
      "cell_type": "code",
      "source": [
        "x[:,0]"
      ],
      "metadata": {
        "colab": {
          "base_uri": "https://localhost:8080/"
        },
        "id": "7-gJKuPbuwG2",
        "outputId": "964de25b-08c6-44be-eb7e-9ce41918ddcd"
      },
      "execution_count": 73,
      "outputs": [
        {
          "output_type": "execute_result",
          "data": {
            "text/plain": [
              "tensor([[1, 2, 3]])"
            ]
          },
          "metadata": {},
          "execution_count": 73
        }
      ]
    },
    {
      "cell_type": "code",
      "source": [
        "# Get all values of 0th and 1st dimensions but only index 1 of 2nd dimension\n",
        "x[:, :, 1]"
      ],
      "metadata": {
        "colab": {
          "base_uri": "https://localhost:8080/"
        },
        "id": "4SztpK39vtrY",
        "outputId": "67cfe980-8906-4cd6-cc70-f28000ae918b"
      },
      "execution_count": 74,
      "outputs": [
        {
          "output_type": "execute_result",
          "data": {
            "text/plain": [
              "tensor([[2, 5, 8]])"
            ]
          },
          "metadata": {},
          "execution_count": 74
        }
      ]
    },
    {
      "cell_type": "code",
      "source": [
        "# Get all values of the 0 dimension but only the 1 index value of 1st and 2nd dimension\n",
        "x[:, 1,1 ]"
      ],
      "metadata": {
        "colab": {
          "base_uri": "https://localhost:8080/"
        },
        "id": "ODM1AzXLwDA5",
        "outputId": "0bfd4ad8-df70-4a1e-9849-43d651898679"
      },
      "execution_count": 75,
      "outputs": [
        {
          "output_type": "execute_result",
          "data": {
            "text/plain": [
              "tensor([5])"
            ]
          },
          "metadata": {},
          "execution_count": 75
        }
      ]
    },
    {
      "cell_type": "code",
      "source": [
        "# Get index 0 of 0th and 1st dimension and all values of 2nd dimension\n",
        "x[0,0,:]"
      ],
      "metadata": {
        "colab": {
          "base_uri": "https://localhost:8080/"
        },
        "id": "E3pXjwC2wbl0",
        "outputId": "99ae3ecd-e8db-4079-eefa-33ac4c81a5be"
      },
      "execution_count": 76,
      "outputs": [
        {
          "output_type": "execute_result",
          "data": {
            "text/plain": [
              "tensor([1, 2, 3])"
            ]
          },
          "metadata": {},
          "execution_count": 76
        }
      ]
    },
    {
      "cell_type": "code",
      "source": [
        "#Index on x to return 9, Index on x to return 3, 6, 9\n",
        "x[0,2,2], x[0, :, 2]"
      ],
      "metadata": {
        "colab": {
          "base_uri": "https://localhost:8080/"
        },
        "id": "O9D7j6ylw6Qe",
        "outputId": "54f0dbae-2cb0-4957-d7d9-505117d3219f"
      },
      "execution_count": 77,
      "outputs": [
        {
          "output_type": "execute_result",
          "data": {
            "text/plain": [
              "(tensor(9), tensor([3, 6, 9]))"
            ]
          },
          "metadata": {},
          "execution_count": 77
        }
      ]
    },
    {
      "cell_type": "markdown",
      "source": [
        "  ## PyTorch tesnors and NumPy\n",
        "  PyTorch has functionality to interact with NumPy array\n",
        "\n",
        "  NumPy -> PyTorch`torch.from_numpy(ndarray)`\n",
        "  \n",
        "  PyTorch -> NumPy `torch.Tensor.numpy()`"
      ],
      "metadata": {
        "id": "nbyfSMl5xPyR"
      }
    },
    {
      "cell_type": "code",
      "source": [
        "import torch, numpy\n",
        "\n",
        "array = numpy.arange(1,10)\n",
        "tensor = torch.arange(1,10)\n",
        "\n",
        "array, tensor"
      ],
      "metadata": {
        "colab": {
          "base_uri": "https://localhost:8080/"
        },
        "id": "sesbLykQ5BPr",
        "outputId": "cea5e8b4-a01e-4971-c6a6-bd13f328cc62"
      },
      "execution_count": 78,
      "outputs": [
        {
          "output_type": "execute_result",
          "data": {
            "text/plain": [
              "(array([1, 2, 3, 4, 5, 6, 7, 8, 9]), tensor([1, 2, 3, 4, 5, 6, 7, 8, 9]))"
            ]
          },
          "metadata": {},
          "execution_count": 78
        }
      ]
    },
    {
      "cell_type": "code",
      "source": [
        "array_tensor = torch.from_numpy(array) # it reflects numpy's default float32 dtype\n",
        "\n",
        "tensor_array = tensor.numpy()\n",
        "\n",
        "array_tensor, tensor_array"
      ],
      "metadata": {
        "colab": {
          "base_uri": "https://localhost:8080/"
        },
        "id": "cRZIVsrK5oyY",
        "outputId": "09102557-c06d-46e2-dfae-0fcefda00a88"
      },
      "execution_count": 79,
      "outputs": [
        {
          "output_type": "execute_result",
          "data": {
            "text/plain": [
              "(tensor([1, 2, 3, 4, 5, 6, 7, 8, 9]), array([1, 2, 3, 4, 5, 6, 7, 8, 9]))"
            ]
          },
          "metadata": {},
          "execution_count": 79
        }
      ]
    },
    {
      "cell_type": "markdown",
      "source": [
        "# Reproducbility (trying to take random out of random)\n",
        "In short how a neural network learns :\n",
        "\n",
        "`start with random numbers —> tensor operations —> update random numbers to try and\n",
        "make them better representations of the data —> again —> again —> again...`\n",
        "\n",
        "To reduce the randomness in neural networks and Pytorch comes the concept of a **random seed**\n",
        "\n",
        "Essentially what the random seed does in \"flavour\" the randomness\n"
      ],
      "metadata": {
        "id": "sNR8lzYN51U6"
      }
    },
    {
      "cell_type": "code",
      "source": [
        "import torch\n",
        "\n",
        "## two random tensors\n",
        "\n",
        "rand_a = torch.rand(3,4)\n",
        "rand_b = torch.rand(3,4)\n",
        "\n",
        "rand_a, rand_b, rand_a == rand_b"
      ],
      "metadata": {
        "colab": {
          "base_uri": "https://localhost:8080/"
        },
        "id": "NrVwpprj7d-9",
        "outputId": "0e7d8861-6973-4c6d-e1ff-42942e1707c7"
      },
      "execution_count": 80,
      "outputs": [
        {
          "output_type": "execute_result",
          "data": {
            "text/plain": [
              "(tensor([[0.1731, 0.3941, 0.8851, 0.3209],\n",
              "         [0.3167, 0.1745, 0.4602, 0.8928],\n",
              "         [0.4685, 0.4641, 0.6562, 0.2746]]),\n",
              " tensor([[0.1876, 0.0616, 0.0822, 0.0082],\n",
              "         [0.2862, 0.5241, 0.4287, 0.0397],\n",
              "         [0.5094, 0.4005, 0.2687, 0.8807]]),\n",
              " tensor([[False, False, False, False],\n",
              "         [False, False, False, False],\n",
              "         [False, False, False, False]]))"
            ]
          },
          "metadata": {},
          "execution_count": 80
        }
      ]
    },
    {
      "cell_type": "code",
      "source": [
        "# Make some reproducible random tensors\n",
        "\n",
        "random_seed = 32\n",
        "\n",
        "torch.manual_seed(random_seed)\n",
        "rand_c = torch.rand(3,4)\n",
        "\n",
        "torch.manual_seed(random_seed)\n",
        "rand_d = torch.rand(3,4)\n",
        "\n",
        "rand_c, rand_d, rand_c == rand_d"
      ],
      "metadata": {
        "colab": {
          "base_uri": "https://localhost:8080/"
        },
        "id": "2SZv889e71ub",
        "outputId": "9bfb34cc-6a6f-41a2-b1e4-14eb8c78f8a0"
      },
      "execution_count": 81,
      "outputs": [
        {
          "output_type": "execute_result",
          "data": {
            "text/plain": [
              "(tensor([[0.8757, 0.2721, 0.4141, 0.7857],\n",
              "         [0.1130, 0.5793, 0.6481, 0.0229],\n",
              "         [0.5874, 0.3254, 0.9485, 0.5219]]),\n",
              " tensor([[0.8757, 0.2721, 0.4141, 0.7857],\n",
              "         [0.1130, 0.5793, 0.6481, 0.0229],\n",
              "         [0.5874, 0.3254, 0.9485, 0.5219]]),\n",
              " tensor([[True, True, True, True],\n",
              "         [True, True, True, True],\n",
              "         [True, True, True, True]]))"
            ]
          },
          "metadata": {},
          "execution_count": 81
        }
      ]
    },
    {
      "cell_type": "markdown",
      "source": [
        "## Running tensors and PyTorch objects on the GPU and making faster computations\n",
        "\n",
        "### 1.  Getting the GPU\n",
        "  1. Google colab\n",
        "  2. Local GPU\n",
        "  3. On cloud"
      ],
      "metadata": {
        "id": "-TLuNVpm9NMR"
      }
    },
    {
      "cell_type": "code",
      "source": [
        "!nvidia-smi"
      ],
      "metadata": {
        "colab": {
          "base_uri": "https://localhost:8080/"
        },
        "id": "aTrIrLAc_J-7",
        "outputId": "5e18869f-91fd-4e36-b516-07ea7bf9a5eb"
      },
      "execution_count": 82,
      "outputs": [
        {
          "output_type": "stream",
          "name": "stdout",
          "text": [
            "/bin/bash: line 1: nvidia-smi: command not found\n"
          ]
        }
      ]
    },
    {
      "cell_type": "markdown",
      "source": [
        "### 2. Check GPU access with PyTorch"
      ],
      "metadata": {
        "id": "u7a2rUL8_Rzd"
      }
    },
    {
      "cell_type": "code",
      "source": [
        "# Checking for GPU acces with PyTorch\n",
        "\n",
        "import torch\n",
        "torch.cuda.is_available()"
      ],
      "metadata": {
        "colab": {
          "base_uri": "https://localhost:8080/"
        },
        "id": "WIwfNwmM_mDK",
        "outputId": "5831ada5-e711-4ae1-8075-90ff78c24965"
      },
      "execution_count": 83,
      "outputs": [
        {
          "output_type": "execute_result",
          "data": {
            "text/plain": [
              "False"
            ]
          },
          "metadata": {},
          "execution_count": 83
        }
      ]
    },
    {
      "cell_type": "markdown",
      "source": [
        "For PyTorch since it's capable of running compute on the CPU or GPU, it's best practice to setup device agnostic code"
      ],
      "metadata": {
        "id": "gkm1JPM2AW0D"
      }
    },
    {
      "cell_type": "code",
      "source": [
        "# Setup device agnostic code\n",
        "\n",
        "device = \"cuda\" if torch.cuda.is_available() else \"cpu\"\n",
        "device"
      ],
      "metadata": {
        "colab": {
          "base_uri": "https://localhost:8080/",
          "height": 35
        },
        "id": "VssJRzyx_t3g",
        "outputId": "d04f0630-c384-43f3-9b1c-714735e5b082"
      },
      "execution_count": 84,
      "outputs": [
        {
          "output_type": "execute_result",
          "data": {
            "text/plain": [
              "'cpu'"
            ],
            "application/vnd.google.colaboratory.intrinsic+json": {
              "type": "string"
            }
          },
          "metadata": {},
          "execution_count": 84
        }
      ]
    },
    {
      "cell_type": "code",
      "source": [
        "# Count the nuber of devices\n",
        "torch.cuda.device_count()"
      ],
      "metadata": {
        "colab": {
          "base_uri": "https://localhost:8080/"
        },
        "id": "mchajz7OAEjb",
        "outputId": "27ffcb01-ffbc-4889-930e-ca6766db92b8"
      },
      "execution_count": 85,
      "outputs": [
        {
          "output_type": "execute_result",
          "data": {
            "text/plain": [
              "0"
            ]
          },
          "metadata": {},
          "execution_count": 85
        }
      ]
    },
    {
      "cell_type": "markdown",
      "source": [
        "### 3. Putting tensors on the GPU"
      ],
      "metadata": {
        "id": "PpafvOHfAKy8"
      }
    },
    {
      "cell_type": "code",
      "source": [
        "tensor = torch.tensor([1,2,3])\n",
        "\n",
        "tensor, tensor.device"
      ],
      "metadata": {
        "colab": {
          "base_uri": "https://localhost:8080/"
        },
        "id": "E3-s8GwjBHM6",
        "outputId": "3b9f7512-2437-49e3-bbd9-10985b3ba535"
      },
      "execution_count": 86,
      "outputs": [
        {
          "output_type": "execute_result",
          "data": {
            "text/plain": [
              "(tensor([1, 2, 3]), device(type='cpu'))"
            ]
          },
          "metadata": {},
          "execution_count": 86
        }
      ]
    },
    {
      "cell_type": "code",
      "source": [
        "tensor_gpu = tensor.to(device)\n",
        "\n",
        "tensor_gpu"
      ],
      "metadata": {
        "colab": {
          "base_uri": "https://localhost:8080/"
        },
        "id": "T5Z8w6mRBS00",
        "outputId": "cd0f8717-7258-48df-90a2-9a12dc345eed"
      },
      "execution_count": 87,
      "outputs": [
        {
          "output_type": "execute_result",
          "data": {
            "text/plain": [
              "tensor([1, 2, 3])"
            ]
          },
          "metadata": {},
          "execution_count": 87
        }
      ]
    },
    {
      "cell_type": "markdown",
      "source": [
        "### 4. Moving tensors back to CPU"
      ],
      "metadata": {
        "id": "WgyAcdCYCAz0"
      }
    },
    {
      "cell_type": "code",
      "source": [
        "tensor_gpu.numpy()"
      ],
      "metadata": {
        "colab": {
          "base_uri": "https://localhost:8080/"
        },
        "id": "rcHZCaFLBcrU",
        "outputId": "04f4fe16-bffd-415e-98a9-24ad7a6c5393"
      },
      "execution_count": 88,
      "outputs": [
        {
          "output_type": "execute_result",
          "data": {
            "text/plain": [
              "array([1, 2, 3])"
            ]
          },
          "metadata": {},
          "execution_count": 88
        }
      ]
    },
    {
      "cell_type": "code",
      "source": [
        "tensor_back_cpu = tensor_gpu.cpu()\n",
        "\n",
        "tensor_back_cpu.numpy()"
      ],
      "metadata": {
        "colab": {
          "base_uri": "https://localhost:8080/"
        },
        "id": "NQqCYZoDB9LO",
        "outputId": "d4459681-06a6-4656-c2e4-17641bc14253"
      },
      "execution_count": 89,
      "outputs": [
        {
          "output_type": "execute_result",
          "data": {
            "text/plain": [
              "array([1, 2, 3])"
            ]
          },
          "metadata": {},
          "execution_count": 89
        }
      ]
    },
    {
      "cell_type": "markdown",
      "source": [
        "# PyTorch Workflow\n",
        "\n",
        "Let's explore a an example PyTorch ene-to-end Workflow\n"
      ],
      "metadata": {
        "id": "hHndicHXZRSo"
      }
    },
    {
      "cell_type": "code",
      "source": [
        "workflow  = {1: \"Data preparation\",\n",
        "             2: \"Build model\",\n",
        "             3: \"Fitting the model to data\",\n",
        "             4: \"making predictions and evaluating a model\",\n",
        "             5: \"saving and loading a model\",\n",
        "             6: \"Putting it all together\"}\n",
        "workflow"
      ],
      "metadata": {
        "colab": {
          "base_uri": "https://localhost:8080/"
        },
        "id": "JNkw1ShlZT4I",
        "outputId": "0cdb4d3a-007f-4374-a7b7-81f6505d3613"
      },
      "execution_count": 90,
      "outputs": [
        {
          "output_type": "execute_result",
          "data": {
            "text/plain": [
              "{1: 'Data preparation',\n",
              " 2: 'Build model',\n",
              " 3: 'Fitting the model to data',\n",
              " 4: 'making predictions and evaluating a model',\n",
              " 5: 'saving and loading a model',\n",
              " 6: 'Putting it all together'}"
            ]
          },
          "metadata": {},
          "execution_count": 90
        }
      ]
    },
    {
      "cell_type": "code",
      "source": [
        "import torch\n",
        "from torch import nn\n",
        "import matplotlib.pyplot as plt\n",
        "\n",
        "torch.__version__"
      ],
      "metadata": {
        "colab": {
          "base_uri": "https://localhost:8080/",
          "height": 35
        },
        "id": "1UrGvlQ1bQD9",
        "outputId": "4df1e185-5583-4fdf-e130-4223b4087a28"
      },
      "execution_count": 91,
      "outputs": [
        {
          "output_type": "execute_result",
          "data": {
            "text/plain": [
              "'2.1.0+cu121'"
            ],
            "application/vnd.google.colaboratory.intrinsic+json": {
              "type": "string"
            }
          },
          "metadata": {},
          "execution_count": 91
        }
      ]
    },
    {
      "cell_type": "markdown",
      "source": [
        "\n",
        "##1. Data Preparation\n",
        "\n",
        "Data can be anything\n",
        "\n",
        "* Excel\n",
        "* Images\n",
        "* Videos\n",
        "* Audio\n",
        "* DNA\n",
        "* Text\n",
        "\n",
        "Machine learning is a game of two parts:\n",
        "1. Get data into a numerical representation.\n",
        "2. Build a model to learn patterns in that numerical representation.\n"
      ],
      "metadata": {
        "id": "ErHdkTy8dOLC"
      }
    },
    {
      "cell_type": "markdown",
      "source": [
        "Creating some data using the linear regression formula.\n",
        "\n",
        "We'll use a linear regression formaula to make a straight line with known parameters.\n"
      ],
      "metadata": {
        "id": "jQU46BrdfJiA"
      }
    },
    {
      "cell_type": "code",
      "source": [
        "weight = 0.7 #intercept\n",
        "bias = 0.3 #slope\n",
        "\n",
        "x= torch.arange(0, 1, 0.02).unsqueeze(dim=1)\n",
        "y= weight*x + bias\n",
        "\n",
        "x[:10], y[:10], len(x), len(y)\n"
      ],
      "metadata": {
        "colab": {
          "base_uri": "https://localhost:8080/"
        },
        "id": "O7ciw8qAdcPy",
        "outputId": "74978d4e-f57f-44a3-aac2-75021815b53b"
      },
      "execution_count": 92,
      "outputs": [
        {
          "output_type": "execute_result",
          "data": {
            "text/plain": [
              "(tensor([[0.0000],\n",
              "         [0.0200],\n",
              "         [0.0400],\n",
              "         [0.0600],\n",
              "         [0.0800],\n",
              "         [0.1000],\n",
              "         [0.1200],\n",
              "         [0.1400],\n",
              "         [0.1600],\n",
              "         [0.1800]]),\n",
              " tensor([[0.3000],\n",
              "         [0.3140],\n",
              "         [0.3280],\n",
              "         [0.3420],\n",
              "         [0.3560],\n",
              "         [0.3700],\n",
              "         [0.3840],\n",
              "         [0.3980],\n",
              "         [0.4120],\n",
              "         [0.4260]]),\n",
              " 50,\n",
              " 50)"
            ]
          },
          "metadata": {},
          "execution_count": 92
        }
      ]
    },
    {
      "cell_type": "markdown",
      "source": [
        " ### Splitting data into training and test sets"
      ],
      "metadata": {
        "id": "ANAkoFrDgjqJ"
      }
    },
    {
      "cell_type": "code",
      "source": [
        "# Creating train and test sets\n",
        "\n",
        "train_split = int(0.8*len(x))\n",
        "\n",
        "x_train, y_train = x[:train_split], y[:train_split]\n",
        "x_test, y_test = x[train_split:], y[train_split:]\n",
        "\n",
        "\n",
        "len(x_train), len(y_train), len(y_train), len(y_test)"
      ],
      "metadata": {
        "colab": {
          "base_uri": "https://localhost:8080/"
        },
        "id": "xpn_AwB1m4cx",
        "outputId": "a98b719e-a8e2-428d-b255-8074f9d2deb0"
      },
      "execution_count": 93,
      "outputs": [
        {
          "output_type": "execute_result",
          "data": {
            "text/plain": [
              "(40, 40, 40, 10)"
            ]
          },
          "metadata": {},
          "execution_count": 93
        }
      ]
    },
    {
      "cell_type": "markdown",
      "source": [
        "How might we better visualize our data?\n",
        "\n",
        "This is where the data explorer's motto comes in!\n",
        "\n",
        "\"Visualize, visualize, visualize!\""
      ],
      "metadata": {
        "id": "8XwdMWppnkDm"
      }
    },
    {
      "cell_type": "code",
      "source": [
        "def plots_predictions(train_data = x_train,\n",
        "                      train_labels = y_train,\n",
        "                      test_data = x_test,\n",
        "                      test_labels = y_test,\n",
        "                      predictions = None):\n",
        "  \"\"\"\n",
        "  Plots training data, test data\n",
        "  \"\"\"\n",
        "\n",
        "  plt.figure(figsize=(10,7))\n",
        "  plt.scatter(train_data, train_labels, c='b', s= 4, label = \"Training data\")\n",
        "\n",
        "  plt.scatter(test_data, test_labels, c= 'g', s=4, label = \"Testing data\")\n",
        "\n",
        "  if predictions is not None:\n",
        "    plt.scatter(test_data, predictions, c= 'r', s= 4, label = \"Predictions\")\n",
        "  plt.legend(prop = {\"size\":14})"
      ],
      "metadata": {
        "id": "G187bQP5n8CC"
      },
      "execution_count": 94,
      "outputs": []
    },
    {
      "cell_type": "code",
      "source": [
        "plots_predictions()"
      ],
      "metadata": {
        "colab": {
          "base_uri": "https://localhost:8080/",
          "height": 599
        },
        "id": "L08DWc8qpcfj",
        "outputId": "473c8ee2-3b71-4db9-c9e2-729cf794e9f0"
      },
      "execution_count": 95,
      "outputs": [
        {
          "output_type": "display_data",
          "data": {
            "text/plain": [
              "<Figure size 1000x700 with 1 Axes>"
            ],
            "image/png": "[encoded data removed]"
          },
          "metadata": {}
        }
      ]
    },
    {
      "cell_type": "markdown",
      "source": [
        "##2.  Build model\n",
        "Our first PyTorch model\n",
        "\n",
        "What our model does :\n",
        "* Start with random values (weight & bias )\n",
        "* Look at training data and adjust the random values to better represent (or get closer to) the ideal values (the weight & bias values we used to create the data)\n",
        "\n",
        "To do so, we use two main algorithms:\n",
        "1. Gradient descent\n",
        "2. Back propgation"
      ],
      "metadata": {
        "id": "UJ8ftKTBpegK"
      }
    },
    {
      "cell_type": "code",
      "source": [
        "# Creating linear regression model class\n",
        "\n",
        "class LinearRegressionModel(nn.Module): # Inheriting nn.module class\n",
        "  def __init__(self):\n",
        "    super().__init__()\n",
        "    self.weights = nn.Parameter(torch.randn(1, requires_grad = True, dtype = torch.float))\n",
        "    self.bias = nn.Parameter(torch.randn(1, requires_grad = True, dtype = float))\n",
        "\n",
        "    # Forward method\n",
        "  def forward(self, x:torch.Tensor) -> torch.Tensor:\n",
        "    return self.weights * x + self.bias"
      ],
      "metadata": {
        "id": "4uJUbf1cqaTq"
      },
      "execution_count": 96,
      "outputs": []
    },
    {
      "cell_type": "markdown",
      "source": [
        "### PyTorch model building essentials\n",
        "\n",
        "* torch.nn - contains all of the building for computational graphs(a neural network can be a computational graph)\n",
        "* torch.nn.Parameter - what parameters should our model try and learn, oftern a layer from torch.nn will set these for us\n",
        "* torch.nn.Module - The base class for all neural network modules, if you subclass it, you should overwrite forward().\n",
        "* torch.optim - This where the optimizers in PyTorch live, they will help with gradient descent   \n",
        "* def forward() - All; nn.Module subclasses require you to overwrite forward(), this method defines what happens in the forward computation.\n",
        "\n",
        "* torch.utils.data.Datset - Represents a map between key and sample pairs of your data. Such as images and their associated labels.\n",
        "* torch.utils.data.DataLoader - Creates a Python iterable over a torch dataset (allows you to iterate over your data)."
      ],
      "metadata": {
        "id": "0HnhFXR9c6Gs"
      }
    },
    {
      "cell_type": "markdown",
      "source": [
        "Modules used in the PyTorch Workflow\n",
        "\n",
        "1. Get data ready\n",
        "  - torchvision.transforms\n",
        "  - torch.utils.data.Dataset\n",
        "  - torch.utils.data.DataLoader\n",
        "\n",
        "\n",
        "2. Build or pick a pretrained model and Pick a loss function\n",
        "  - torch.nn\n",
        "  - torch.Module\n",
        "  - torchvision.models\n",
        "  \n",
        "   Optimizers\n",
        "   - torch.optim\n",
        "\n",
        "\n",
        "4. Evaluate the model\n",
        "  - torchmetrics\n",
        "\n",
        "5. Improve through experimentation\n",
        "  - torch.utils.tensorboard\n"
      ],
      "metadata": {
        "id": "-SWsNIkaBCbE"
      }
    },
    {
      "cell_type": "markdown",
      "source": [
        "### Checking the contents of Our PyTorch model\n",
        "\n",
        "so we can check our model parameters or what's inside our model using `.parameters()`"
      ],
      "metadata": {
        "id": "YpiiH4GfeQdM"
      }
    },
    {
      "cell_type": "code",
      "source": [
        "torch.manual_seed(42)\n",
        "\n",
        "# create an instance of LinearRegresssionModel class\n",
        "\n",
        "model0 = LinearRegressionModel()\n",
        "\n",
        "# Check out the parameters\n",
        "list(model0.parameters())"
      ],
      "metadata": {
        "colab": {
          "base_uri": "https://localhost:8080/"
        },
        "id": "C4LEmWc-C-6l",
        "outputId": "6b458900-ee4b-464e-e648-76f42e8b26dc"
      },
      "execution_count": 97,
      "outputs": [
        {
          "output_type": "execute_result",
          "data": {
            "text/plain": [
              "[Parameter containing:\n",
              " tensor([0.3367], requires_grad=True),\n",
              " Parameter containing:\n",
              " tensor([0.1288], dtype=torch.float64, requires_grad=True)]"
            ]
          },
          "metadata": {},
          "execution_count": 97
        }
      ]
    },
    {
      "cell_type": "code",
      "source": [
        "# Liat named parameters\n",
        "\n",
        "model0.state_dict()"
      ],
      "metadata": {
        "colab": {
          "base_uri": "https://localhost:8080/"
        },
        "id": "GN3sg0UeDgxv",
        "outputId": "f48d4747-4cfa-4cbd-a551-b29dd0986430"
      },
      "execution_count": 98,
      "outputs": [
        {
          "output_type": "execute_result",
          "data": {
            "text/plain": [
              "OrderedDict([('weights', tensor([0.3367])),\n",
              "             ('bias', tensor([0.1288], dtype=torch.float64))])"
            ]
          },
          "metadata": {},
          "execution_count": 98
        }
      ]
    },
    {
      "cell_type": "markdown",
      "source": [
        "## 3. Making prediction using `torch.infernece_mode()`\n",
        "\n",
        "To check the predictions our model using x_test to predict y_test\n",
        "\n",
        "When we pass out data to our model, it goes through `forward()`"
      ],
      "metadata": {
        "id": "9uOfbHJrEZJs"
      }
    },
    {
      "cell_type": "code",
      "source": [
        "# Making predictions with our model\n",
        "\n",
        "with torch.inference_mode():\n",
        "  ypred = model0(x_test)\n",
        "\n",
        "\n",
        "ypred"
      ],
      "metadata": {
        "colab": {
          "base_uri": "https://localhost:8080/"
        },
        "id": "k54Zw7OwFACI",
        "outputId": "00387d72-d188-4bb7-98a8-1cfdbedf8f18"
      },
      "execution_count": 99,
      "outputs": [
        {
          "output_type": "execute_result",
          "data": {
            "text/plain": [
              "tensor([[0.3982],\n",
              "        [0.4049],\n",
              "        [0.4116],\n",
              "        [0.4184],\n",
              "        [0.4251],\n",
              "        [0.4318],\n",
              "        [0.4386],\n",
              "        [0.4453],\n",
              "        [0.4520],\n",
              "        [0.4588]], dtype=torch.float64)"
            ]
          },
          "metadata": {},
          "execution_count": 99
        }
      ]
    },
    {
      "cell_type": "code",
      "source": [
        "y_test"
      ],
      "metadata": {
        "colab": {
          "base_uri": "https://localhost:8080/"
        },
        "id": "zK506VVFGZVs",
        "outputId": "931d7ce7-bb9c-4cbb-9347-3368c8687623"
      },
      "execution_count": 100,
      "outputs": [
        {
          "output_type": "execute_result",
          "data": {
            "text/plain": [
              "tensor([[0.8600],\n",
              "        [0.8740],\n",
              "        [0.8880],\n",
              "        [0.9020],\n",
              "        [0.9160],\n",
              "        [0.9300],\n",
              "        [0.9440],\n",
              "        [0.9580],\n",
              "        [0.9720],\n",
              "        [0.9860]])"
            ]
          },
          "metadata": {},
          "execution_count": 100
        }
      ]
    },
    {
      "cell_type": "code",
      "source": [
        "plots_predictions(predictions=ypred)"
      ],
      "metadata": {
        "colab": {
          "base_uri": "https://localhost:8080/",
          "height": 599
        },
        "id": "dq1eGx9yGwnJ",
        "outputId": "86b1ba96-c90c-4e00-c05d-5da921e7e6e5"
      },
      "execution_count": 101,
      "outputs": [
        {
          "output_type": "display_data",
          "data": {
            "text/plain": [
              "<Figure size 1000x700 with 1 Axes>"
            ],
            "image/png": "[encoded data removed]"
          },
          "metadata": {}
        }
      ]
    },
    {
      "cell_type": "code",
      "source": [
        "y_pred = model0(x_test)\n",
        "y_pred\n"
      ],
      "metadata": {
        "colab": {
          "base_uri": "https://localhost:8080/"
        },
        "id": "hhu26E96GpsM",
        "outputId": "cf06196e-ecd1-4751-c906-241c2d0e8723"
      },
      "execution_count": 102,
      "outputs": [
        {
          "output_type": "execute_result",
          "data": {
            "text/plain": [
              "tensor([[0.3982],\n",
              "        [0.4049],\n",
              "        [0.4116],\n",
              "        [0.4184],\n",
              "        [0.4251],\n",
              "        [0.4318],\n",
              "        [0.4386],\n",
              "        [0.4453],\n",
              "        [0.4520],\n",
              "        [0.4588]], dtype=torch.float64, grad_fn=<AddBackward0>)"
            ]
          },
          "metadata": {},
          "execution_count": 102
        }
      ]
    },
    {
      "cell_type": "code",
      "source": [
        "with torch.no_grad():\n",
        "  y_pred = model0(x_test)\n",
        "\n",
        "y_pred"
      ],
      "metadata": {
        "colab": {
          "base_uri": "https://localhost:8080/"
        },
        "id": "-YmtedkQHLpX",
        "outputId": "93958853-ba66-4cd1-936a-6b99e66a6408"
      },
      "execution_count": 103,
      "outputs": [
        {
          "output_type": "execute_result",
          "data": {
            "text/plain": [
              "tensor([[0.3982],\n",
              "        [0.4049],\n",
              "        [0.4116],\n",
              "        [0.4184],\n",
              "        [0.4251],\n",
              "        [0.4318],\n",
              "        [0.4386],\n",
              "        [0.4453],\n",
              "        [0.4520],\n",
              "        [0.4588]], dtype=torch.float64)"
            ]
          },
          "metadata": {},
          "execution_count": 103
        }
      ]
    },
    {
      "cell_type": "markdown",
      "source": [
        "## 3. Training the model with PyTorch (Intuition building)\n",
        "\n",
        "Random numbers -> desired numbers\n",
        "\n",
        "\n",
        "We should use **loss function** to measure how poorly model is predicting\n",
        "\n",
        "\n",
        "* Note : Loss function may also be called as cost function or criterion in different areas. For our case, we're going to refer to it as a loss function\n",
        "\n",
        "Things we need to train:\n",
        "* **Loss function:** A function to measure how wrong your model's predictions are to the ideal outputs, lower is better.\n",
        "\n",
        "* **Optimizer:** Takes into account the loss of a model and adjusts the model's parameters. (eg: weight and bias in  our case) to improve the loss function.\n",
        "  - inside the optimizer uou'll often have to set two parameters:\n",
        "     * `params` : the model parameters you'd like to optimize, for example `params = model.parameters()`\n",
        "     * `lr` (learning rate): The learning rate is a hyperparameter that defines how big/small the optimizer changes the parameters with each step (a small `lr` results small changes, a larege `lr` results in large changes).\n",
        "And specifically for PyTorch, we need:\n",
        "\n",
        "* A training loop\n",
        "* A testing loop\n"
      ],
      "metadata": {
        "id": "D0Ymb2A8Kr-X"
      }
    },
    {
      "cell_type": "code",
      "source": [
        " model0.state_dict()"
      ],
      "metadata": {
        "colab": {
          "base_uri": "https://localhost:8080/"
        },
        "id": "vIQixMFQLdtE",
        "outputId": "3e33f956-b76b-440c-9b2f-5e8586601c04"
      },
      "execution_count": 104,
      "outputs": [
        {
          "output_type": "execute_result",
          "data": {
            "text/plain": [
              "OrderedDict([('weights', tensor([0.3367])),\n",
              "             ('bias', tensor([0.1288], dtype=torch.float64))])"
            ]
          },
          "metadata": {},
          "execution_count": 104
        }
      ]
    },
    {
      "cell_type": "code",
      "source": [
        "# Setup a loss function\n",
        "loss_fn = nn.L1Loss()\n",
        "\n",
        "# Setup an optimizer\n",
        "from torch import optim\n",
        "\n",
        "optimizer = optim.SGD(params= model0.parameters(), lr = 0.01) # learning rate (lr) is a hyperparameter set by ourselves"
      ],
      "metadata": {
        "id": "2eBZqktXLbuS"
      },
      "execution_count": 105,
      "outputs": []
    },
    {
      "cell_type": "markdown",
      "source": [
        "### Building a training loop (and a testing loop) in PyTorch\n",
        "\n",
        "A couple of thinga we need in a training loop:\n",
        "0. Loop through the data.\n",
        "1. Forward pass (this involves dat amoving through our model's `forward()`) also called as forward propagation.\n",
        "2. Calculate the loss (compare forward pass predictions to ground truth labels)\n",
        "3. Optimizer zero grad\n",
        "4. Loss backward - move backwards through network to calculate the gradients of each of the parameters of our model with respect to the loss (**back propagation**)\n",
        "5. Optimizer step - use the optimizer to adjusts our model's parameters to try and improve the loss (**gradient descent**)\n"
      ],
      "metadata": {
        "id": "he09g9j9RqxP"
      }
    },
    {
      "cell_type": "code",
      "source": [
        "model0.state_dict()"
      ],
      "metadata": {
        "colab": {
          "base_uri": "https://localhost:8080/"
        },
        "id": "3igxLdpKhyxe",
        "outputId": "732e6dd8-763c-4542-c648-8da5ca2cef63"
      },
      "execution_count": 106,
      "outputs": [
        {
          "output_type": "execute_result",
          "data": {
            "text/plain": [
              "OrderedDict([('weights', tensor([0.3367])),\n",
              "             ('bias', tensor([0.1288], dtype=torch.float64))])"
            ]
          },
          "metadata": {},
          "execution_count": 106
        }
      ]
    },
    {
      "cell_type": "code",
      "source": [
        "# epoch is one loop through the data\n",
        "epochs = 200\n",
        "\n",
        "# Track different values\n",
        "\n",
        "epochl =[]\n",
        "lossl = []\n",
        "test_loss = []\n",
        "\n",
        "### Training\n",
        "# 0 . Loop through the data\n",
        "for epoch in range(epochs):\n",
        "  # set the model to training mode\n",
        "  model0.train()  # train mode in PyTorch set all parameters that need gradients to `require gradients`\n",
        "\n",
        "  #1. Forward pass\n",
        "  ypred = model0(x_train)\n",
        "\n",
        "  #2. Calculate the loss\n",
        "  loss = loss_fn(ypred, y_train)\n",
        "\n",
        "  #3. Optimmizer zero grad\n",
        "  optimizer.zero_grad() # zero the previous optimizer values\n",
        "\n",
        "  #4. Perform the backpropagation on the loss with repect to the parameters of the model\n",
        "  loss.backward()\n",
        "\n",
        "  #5. Step the optimizer (perform gradient descent)\n",
        "  optimizer.step()\n",
        "\n",
        "  ### Testing\n",
        "  model0.eval() # turns off several settings in the model not needed for the evaluation\n",
        "  with torch.inference_mode():# turns of gradient tracking\n",
        "    #1. forward pass\n",
        "    ypred_test = model0(x_test)\n",
        "\n",
        "    #2. calcualte the loss\n",
        "    loss_test = loss_fn(y_test, ypred_test)\n",
        "\n",
        "    #3. Optimizer zer grad\n",
        "    optimizer.zero_grad()\n",
        "\n",
        "  if epoch % 10 == 0:\n",
        "    print(f\"Epoch: {epoch} | Loss: {loss}  | Test loss: {loss_test}\")\n",
        "\n",
        "    # print the model parameters\n",
        "    #print(f\"{model0.state_dict()}\") ## Simple step\n",
        "    epochl.append(epoch)\n",
        "    test_loss.append(loss_test)\n",
        "    lossl.append(loss)\n",
        "    print(f\"Loss: {loss}\")\n",
        "    print(f\"Weights parameter: {model0.state_dict()['weights'][0]} \\nBias parameter: {model0.state_dict()['bias'][0]}\\n-----------------------------------------------------------------\\n\")"
      ],
      "metadata": {
        "id": "qgzOpoKaVrZJ",
        "colab": {
          "base_uri": "https://localhost:8080/"
        },
        "outputId": "9af0255f-6b33-44c8-de7a-ff55e3bcd7b8"
      },
      "execution_count": 107,
      "outputs": [
        {
          "output_type": "stream",
          "name": "stdout",
          "text": [
            "Epoch: 0 | Loss: 0.3128813517678373  | Test loss: 0.4810651795382455\n",
            "Loss: 0.3128813517678373\n",
            "Weights parameter: 0.34059035778045654 \n",
            "Bias parameter: 0.1388094051365897\n",
            "-----------------------------------------------------------------\n",
            "\n",
            "Epoch: 10 | Loss: 0.19767138632506426  | Test loss: 0.346355255078788\n",
            "Loss: 0.19767138632506426\n",
            "Weights parameter: 0.3795902729034424 \n",
            "Bias parameter: 0.2388094051365898\n",
            "-----------------------------------------------------------------\n",
            "\n",
            "Epoch: 20 | Loss: 0.08908726094682914  | Test loss: 0.21729659528684148\n",
            "Loss: 0.08908726094682914\n",
            "Weights parameter: 0.4184202253818512 \n",
            "Bias parameter: 0.33330940513658985\n",
            "-----------------------------------------------------------------\n",
            "\n",
            "Epoch: 30 | Loss: 0.05314853437903411  | Test loss: 0.14464020247411263\n",
            "Loss: 0.05314853437903411\n",
            "Weights parameter: 0.45118021965026855 \n",
            "Bias parameter: 0.3768094051365899\n",
            "-----------------------------------------------------------------\n",
            "\n",
            "Epoch: 40 | Loss: 0.045437965798191725  | Test loss: 0.11360953504991064\n",
            "Loss: 0.045437965798191725\n",
            "Weights parameter: 0.4748101830482483 \n",
            "Bias parameter: 0.3868094051365899\n",
            "-----------------------------------------------------------------\n",
            "\n",
            "Epoch: 50 | Loss: 0.04167863324115598  | Test loss: 0.09919951553296583\n",
            "Loss: 0.04167863324115598\n",
            "Weights parameter: 0.4938102066516876 \n",
            "Bias parameter: 0.3843094051365899\n",
            "-----------------------------------------------------------------\n",
            "\n",
            "Epoch: 60 | Loss: 0.03818932177440422  | Test loss: 0.08886642379712592\n",
            "Loss: 0.03818932177440422\n",
            "Weights parameter: 0.5116001963615417 \n",
            "Bias parameter: 0.3788094051365899\n",
            "-----------------------------------------------------------------\n",
            "\n",
            "Epoch: 70 | Loss: 0.034760872570398914  | Test loss: 0.08059396738957894\n",
            "Loss: 0.034760872570398914\n",
            "Weights parameter: 0.5287602543830872 \n",
            "Bias parameter: 0.3718094051365899\n",
            "-----------------------------------------------------------------\n",
            "\n",
            "Epoch: 80 | Loss: 0.031323813460567805  | Test loss: 0.07232151694249642\n",
            "Loss: 0.031323813460567805\n",
            "Weights parameter: 0.5459203124046326 \n",
            "Bias parameter: 0.3648094051365899\n",
            "-----------------------------------------------------------------\n",
            "\n",
            "Epoch: 90 | Loss: 0.027887361238497978  | Test loss: 0.06473595685910709\n",
            "Loss: 0.027887361238497978\n",
            "Weights parameter: 0.5628703832626343 \n",
            "Bias parameter: 0.3573094051365899\n",
            "-----------------------------------------------------------------\n",
            "\n",
            "Epoch: 100 | Loss: 0.024458912034492648  | Test loss: 0.056463512372489165\n",
            "Loss: 0.024458912034492648\n",
            "Weights parameter: 0.5800304412841797 \n",
            "Bias parameter: 0.35030940513658987\n",
            "-----------------------------------------------------------------\n",
            "\n",
            "Epoch: 110 | Loss: 0.021020179208354882  | Test loss: 0.048191052984709826\n",
            "Loss: 0.021020179208354882\n",
            "Weights parameter: 0.5971904993057251 \n",
            "Bias parameter: 0.34330940513658986\n",
            "-----------------------------------------------------------------\n",
            "\n",
            "Epoch: 120 | Loss: 0.01758540265836911  | Test loss: 0.040605486940856125\n",
            "Loss: 0.01758540265836911\n",
            "Weights parameter: 0.6141405701637268 \n",
            "Bias parameter: 0.33580940513658986\n",
            "-----------------------------------------------------------------\n",
            "\n",
            "Epoch: 130 | Loss: 0.014155357881994759  | Test loss: 0.0323330275530769\n",
            "Loss: 0.014155357881994759\n",
            "Weights parameter: 0.6313006281852722 \n",
            "Bias parameter: 0.32880940513658985\n",
            "-----------------------------------------------------------------\n",
            "\n",
            "Epoch: 140 | Loss: 0.010716548774564513  | Test loss: 0.02406058902692334\n",
            "Loss: 0.010716548774564513\n",
            "Weights parameter: 0.6484606862068176 \n",
            "Bias parameter: 0.32180940513658984\n",
            "-----------------------------------------------------------------\n",
            "\n",
            "Epoch: 150 | Loss: 0.007283442308727353  | Test loss: 0.016475022983069642\n",
            "Loss: 0.007283442308727353\n",
            "Weights parameter: 0.6654107570648193 \n",
            "Bias parameter: 0.31430940513658984\n",
            "-----------------------------------------------------------------\n",
            "\n",
            "Epoch: 160 | Loss: 0.0038517246542366657  | Test loss: 0.008202572535987019\n",
            "Loss: 0.0038517246542366657\n",
            "Weights parameter: 0.6825708150863647 \n",
            "Bias parameter: 0.30730940513658983\n",
            "-----------------------------------------------------------------\n",
            "\n",
            "Epoch: 170 | Loss: 0.008931417997662885  | Test loss: 0.0050241684431983295\n",
            "Loss: 0.008931417997662885\n",
            "Weights parameter: 0.6951308250427246 \n",
            "Bias parameter: 0.2993094051365898\n",
            "-----------------------------------------------------------------\n",
            "\n",
            "Epoch: 180 | Loss: 0.008931417997662885  | Test loss: 0.0050241684431983295\n",
            "Loss: 0.008931417997662885\n",
            "Weights parameter: 0.6951308250427246 \n",
            "Bias parameter: 0.2993094051365898\n",
            "-----------------------------------------------------------------\n",
            "\n",
            "Epoch: 190 | Loss: 0.008931417997662885  | Test loss: 0.0050241684431983295\n",
            "Loss: 0.008931417997662885\n",
            "Weights parameter: 0.6951308250427246 \n",
            "Bias parameter: 0.2993094051365898\n",
            "-----------------------------------------------------------------\n",
            "\n"
          ]
        }
      ]
    },
    {
      "cell_type": "code",
      "source": [
        "print(f\"Loss: {loss}\")\n",
        "print(f\"Weights parameter: {model0.state_dict()['weights'][0]} \\nBias parameter: {model0.state_dict()['bias'][0]}\")"
      ],
      "metadata": {
        "colab": {
          "base_uri": "https://localhost:8080/"
        },
        "id": "bby9Z3iBmztY",
        "outputId": "6c705790-7daf-4463-fbce-6a0489c08384"
      },
      "execution_count": 108,
      "outputs": [
        {
          "output_type": "stream",
          "name": "stdout",
          "text": [
            "Loss: 0.002589577798063901\n",
            "Weights parameter: 0.6990308165550232 \n",
            "Bias parameter: 0.30930940513658983\n"
          ]
        }
      ]
    },
    {
      "cell_type": "code",
      "source": [
        "with torch.inference_mode():\n",
        "  ypred_post_training = model0(x_test)\n",
        "\n",
        "\n",
        "\n",
        "plots_predictions(predictions = ypred_post_training)"
      ],
      "metadata": {
        "colab": {
          "base_uri": "https://localhost:8080/",
          "height": 599
        },
        "id": "u949GgGNhnFK",
        "outputId": "2dfd5737-5c9b-4c83-ebf0-ed3880f92f96"
      },
      "execution_count": 109,
      "outputs": [
        {
          "output_type": "display_data",
          "data": {
            "text/plain": [
              "<Figure size 1000x700 with 1 Axes>"
            ],
            "image/png": "[encoded data removed]"
          },
          "metadata": {}
        }
      ]
    },
    {
      "cell_type": "code",
      "source": [
        "plots_predictions(predictions = ypred_test)"
      ],
      "metadata": {
        "id": "bVIT4sxKkz4u",
        "colab": {
          "base_uri": "https://localhost:8080/",
          "height": 599
        },
        "outputId": "bed5ab98-e650-43aa-ad24-3cd061918807"
      },
      "execution_count": 110,
      "outputs": [
        {
          "output_type": "display_data",
          "data": {
            "text/plain": [
              "<Figure size 1000x700 with 1 Axes>"
            ],
            "image/png": "[encoded data removed]"
          },
          "metadata": {}
        }
      ]
    },
    {
      "cell_type": "code",
      "source": [
        "epochl, test_loss, lossl"
      ],
      "metadata": {
        "colab": {
          "base_uri": "https://localhost:8080/"
        },
        "id": "u0IraGAAfBQd",
        "outputId": "557b03a6-940c-403b-db67-8773b3c828bb"
      },
      "execution_count": 111,
      "outputs": [
        {
          "output_type": "execute_result",
          "data": {
            "text/plain": [
              "([0,\n",
              "  10,\n",
              "  20,\n",
              "  30,\n",
              "  40,\n",
              "  50,\n",
              "  60,\n",
              "  70,\n",
              "  80,\n",
              "  90,\n",
              "  100,\n",
              "  110,\n",
              "  120,\n",
              "  130,\n",
              "  140,\n",
              "  150,\n",
              "  160,\n",
              "  170,\n",
              "  180,\n",
              "  190],\n",
              " [tensor(0.4811, dtype=torch.float64),\n",
              "  tensor(0.3464, dtype=torch.float64),\n",
              "  tensor(0.2173, dtype=torch.float64),\n",
              "  tensor(0.1446, dtype=torch.float64),\n",
              "  tensor(0.1136, dtype=torch.float64),\n",
              "  tensor(0.0992, dtype=torch.float64),\n",
              "  tensor(0.0889, dtype=torch.float64),\n",
              "  tensor(0.0806, dtype=torch.float64),\n",
              "  tensor(0.0723, dtype=torch.float64),\n",
              "  tensor(0.0647, dtype=torch.float64),\n",
              "  tensor(0.0565, dtype=torch.float64),\n",
              "  tensor(0.0482, dtype=torch.float64),\n",
              "  tensor(0.0406, dtype=torch.float64),\n",
              "  tensor(0.0323, dtype=torch.float64),\n",
              "  tensor(0.0241, dtype=torch.float64),\n",
              "  tensor(0.0165, dtype=torch.float64),\n",
              "  tensor(0.0082, dtype=torch.float64),\n",
              "  tensor(0.0050, dtype=torch.float64),\n",
              "  tensor(0.0050, dtype=torch.float64),\n",
              "  tensor(0.0050, dtype=torch.float64)],\n",
              " [tensor(0.3129, dtype=torch.float64, grad_fn=<MeanBackward0>),\n",
              "  tensor(0.1977, dtype=torch.float64, grad_fn=<MeanBackward0>),\n",
              "  tensor(0.0891, dtype=torch.float64, grad_fn=<MeanBackward0>),\n",
              "  tensor(0.0531, dtype=torch.float64, grad_fn=<MeanBackward0>),\n",
              "  tensor(0.0454, dtype=torch.float64, grad_fn=<MeanBackward0>),\n",
              "  tensor(0.0417, dtype=torch.float64, grad_fn=<MeanBackward0>),\n",
              "  tensor(0.0382, dtype=torch.float64, grad_fn=<MeanBackward0>),\n",
              "  tensor(0.0348, dtype=torch.float64, grad_fn=<MeanBackward0>),\n",
              "  tensor(0.0313, dtype=torch.float64, grad_fn=<MeanBackward0>),\n",
              "  tensor(0.0279, dtype=torch.float64, grad_fn=<MeanBackward0>),\n",
              "  tensor(0.0245, dtype=torch.float64, grad_fn=<MeanBackward0>),\n",
              "  tensor(0.0210, dtype=torch.float64, grad_fn=<MeanBackward0>),\n",
              "  tensor(0.0176, dtype=torch.float64, grad_fn=<MeanBackward0>),\n",
              "  tensor(0.0142, dtype=torch.float64, grad_fn=<MeanBackward0>),\n",
              "  tensor(0.0107, dtype=torch.float64, grad_fn=<MeanBackward0>),\n",
              "  tensor(0.0073, dtype=torch.float64, grad_fn=<MeanBackward0>),\n",
              "  tensor(0.0039, dtype=torch.float64, grad_fn=<MeanBackward0>),\n",
              "  tensor(0.0089, dtype=torch.float64, grad_fn=<MeanBackward0>),\n",
              "  tensor(0.0089, dtype=torch.float64, grad_fn=<MeanBackward0>),\n",
              "  tensor(0.0089, dtype=torch.float64, grad_fn=<MeanBackward0>)])"
            ]
          },
          "metadata": {},
          "execution_count": 111
        }
      ]
    },
    {
      "cell_type": "code",
      "source": [
        "import numpy as np\n",
        "plt.plot(epochl, np.array(torch.tensor(lossl).cpu().numpy()), label = \"Train loss\")\n",
        "plt.plot(epochl, np.array(torch.tensor(test_loss).cpu().numpy()), label = \"Test loss\")\n",
        "plt.title(\"Training and Testing loss curve\")\n",
        "plt.xlabel(\"Epochs\")\n",
        "plt.ylabel(\"Loss\")"
      ],
      "metadata": {
        "colab": {
          "base_uri": "https://localhost:8080/",
          "height": 489
        },
        "id": "Do7t6SM7ljy3",
        "outputId": "fac2fed1-f470-4682-eacb-83daa390e081"
      },
      "execution_count": 112,
      "outputs": [
        {
          "output_type": "execute_result",
          "data": {
            "text/plain": [
              "Text(0, 0.5, 'Loss')"
            ]
          },
          "metadata": {},
          "execution_count": 112
        },
        {
          "output_type": "display_data",
          "data": {
            "text/plain": [
              "<Figure size 640x480 with 1 Axes>"
            ],
            "image/png": "[encoded data removed]"
          },
          "metadata": {}
        }
      ]
    },
    {
      "cell_type": "markdown",
      "source": [
        "### Saving a model in PyTorch\n",
        "\n",
        "There are three main methods for saving and loading models PyTorch\n",
        "\n",
        "1. `torch.save()`: allows you save a PyTorch object in Python's pickle format.\n",
        "2. `torch.load()`: allows you load a saved PyTorch object.\n",
        "3. `torch.nn.Module.load_state_dict()`: allows to load a model's saved state dictionary."
      ],
      "metadata": {
        "id": "iXGIhuhLo9oS"
      }
    },
    {
      "cell_type": "code",
      "source": [
        "model0.state_dict()"
      ],
      "metadata": {
        "colab": {
          "base_uri": "https://localhost:8080/"
        },
        "id": "u4f3S5olp2XH",
        "outputId": "f215c109-2617-46e1-d482-ed2026f48c83"
      },
      "execution_count": 113,
      "outputs": [
        {
          "output_type": "execute_result",
          "data": {
            "text/plain": [
              "OrderedDict([('weights', tensor([0.6990])),\n",
              "             ('bias', tensor([0.3093], dtype=torch.float64))])"
            ]
          },
          "metadata": {},
          "execution_count": 113
        }
      ]
    },
    {
      "cell_type": "code",
      "source": [
        "# Saving our model\n",
        "from pathlib import Path\n",
        "\n",
        "#1. Create a model's directory\n",
        "MODEL_PATH = Path(\"models\")\n",
        "MODEL_PATH.mkdir(parents = True, exist_ok = True)\n",
        "\n",
        "#2. Create model save path\n",
        "MODEL_NAME= \"first_model.pth\"\n",
        "MODEL_SAVE_PATH = MODEL_PATH/MODEL_NAME\n",
        "\n",
        "#3. Save the model\n",
        "torch.save(obj = model0.state_dict(), f=MODEL_SAVE_PATH)\n",
        "\n",
        "MODEL_SAVE_PATH"
      ],
      "metadata": {
        "colab": {
          "base_uri": "https://localhost:8080/"
        },
        "id": "w5-umf6mp4UY",
        "outputId": "66d8f12d-110c-4762-ac38-f27a79c5a60c"
      },
      "execution_count": 114,
      "outputs": [
        {
          "output_type": "execute_result",
          "data": {
            "text/plain": [
              "PosixPath('models/first_model.pth')"
            ]
          },
          "metadata": {},
          "execution_count": 114
        }
      ]
    },
    {
      "cell_type": "code",
      "source": [
        "!ls -l models"
      ],
      "metadata": {
        "colab": {
          "base_uri": "https://localhost:8080/"
        },
        "id": "ub2KND6lsm2A",
        "outputId": "779db141-8203-41f7-85c6-7da88208bc22"
      },
      "execution_count": 115,
      "outputs": [
        {
          "output_type": "stream",
          "name": "stdout",
          "text": [
            "total 4\n",
            "-rw-r--r-- 1 root root 1520 Mar  7 14:31 first_model.pth\n"
          ]
        }
      ]
    },
    {
      "cell_type": "markdown",
      "source": [
        "### Loading the PyTorch model"
      ],
      "metadata": {
        "id": "rKUx3ShDsoNu"
      }
    },
    {
      "cell_type": "code",
      "source": [
        "model0.state_dict()"
      ],
      "metadata": {
        "colab": {
          "base_uri": "https://localhost:8080/"
        },
        "id": "s4fG-TV2tI1b",
        "outputId": "2198306d-237b-4679-aa43-2724ad7d40e4"
      },
      "execution_count": 116,
      "outputs": [
        {
          "output_type": "execute_result",
          "data": {
            "text/plain": [
              "OrderedDict([('weights', tensor([0.6990])),\n",
              "             ('bias', tensor([0.3093], dtype=torch.float64))])"
            ]
          },
          "metadata": {},
          "execution_count": 116
        }
      ]
    },
    {
      "cell_type": "code",
      "source": [
        "# To load instantiate the new instance of model\n",
        "\n",
        "loaded = LinearRegressionModel()\n",
        "\n",
        "loaded.load_state_dict(torch.load(f=MODEL_SAVE_PATH))"
      ],
      "metadata": {
        "colab": {
          "base_uri": "https://localhost:8080/"
        },
        "id": "wRklFP_htLjp",
        "outputId": "f8181172-2b7f-4342-a52b-a2f2b1c58c57"
      },
      "execution_count": 117,
      "outputs": [
        {
          "output_type": "execute_result",
          "data": {
            "text/plain": [
              "<All keys matched successfully>"
            ]
          },
          "metadata": {},
          "execution_count": 117
        }
      ]
    },
    {
      "cell_type": "code",
      "source": [
        "loaded.state_dict()"
      ],
      "metadata": {
        "colab": {
          "base_uri": "https://localhost:8080/"
        },
        "id": "jDtJLZbstWaz",
        "outputId": "733267d8-76cb-40e5-b446-f0129b1f92db"
      },
      "execution_count": 118,
      "outputs": [
        {
          "output_type": "execute_result",
          "data": {
            "text/plain": [
              "OrderedDict([('weights', tensor([0.6990])),\n",
              "             ('bias', tensor([0.3093], dtype=torch.float64))])"
            ]
          },
          "metadata": {},
          "execution_count": 118
        }
      ]
    },
    {
      "cell_type": "code",
      "source": [
        "# Make some predictions with loaded model\n",
        "loaded.eval()\n",
        "\n",
        "with torch.inference_mode():\n",
        "  lypred = loaded(x_test)\n",
        "\n",
        "lypred"
      ],
      "metadata": {
        "colab": {
          "base_uri": "https://localhost:8080/"
        },
        "id": "DQDU-9uot_9R",
        "outputId": "acd97ec2-cebc-4274-8903-61baf47aea09"
      },
      "execution_count": 119,
      "outputs": [
        {
          "output_type": "execute_result",
          "data": {
            "text/plain": [
              "tensor([[0.8685],\n",
              "        [0.8825],\n",
              "        [0.8965],\n",
              "        [0.9105],\n",
              "        [0.9245],\n",
              "        [0.9384],\n",
              "        [0.9524],\n",
              "        [0.9664],\n",
              "        [0.9804],\n",
              "        [0.9944]], dtype=torch.float64)"
            ]
          },
          "metadata": {},
          "execution_count": 119
        }
      ]
    },
    {
      "cell_type": "code",
      "source": [
        "plots_predictions(predictions = lypred)"
      ],
      "metadata": {
        "colab": {
          "base_uri": "https://localhost:8080/",
          "height": 599
        },
        "id": "oNoCoCqxuVei",
        "outputId": "12f7bb3b-3616-40f1-8cff-c93bb36372d9"
      },
      "execution_count": 120,
      "outputs": [
        {
          "output_type": "display_data",
          "data": {
            "text/plain": [
              "<Figure size 1000x700 with 1 Axes>"
            ],
            "image/png": "[encoded data removed]"
          },
          "metadata": {}
        }
      ]
    },
    {
      "cell_type": "markdown",
      "source": [
        "## Putting all together\n"
      ],
      "metadata": {
        "id": "zS18RyQaFKzV"
      }
    },
    {
      "cell_type": "code",
      "source": [
        "import torch\n",
        "from torch import nn\n",
        "#from torch import optim\n",
        "import matplotlib.pyplot as plt"
      ],
      "metadata": {
        "id": "3pQf6sg1FbAJ"
      },
      "execution_count": 121,
      "outputs": []
    },
    {
      "cell_type": "markdown",
      "source": [
        "### Creating a device agnostic code"
      ],
      "metadata": {
        "id": "5IPp8o6PFoVL"
      }
    },
    {
      "cell_type": "code",
      "source": [
        "device = \"cuda\" if torch.cuda.is_available() else \"cpu\"\n",
        "device"
      ],
      "metadata": {
        "colab": {
          "base_uri": "https://localhost:8080/",
          "height": 35
        },
        "id": "9xxnLcGsFswC",
        "outputId": "47b31c16-a433-41d8-c836-d7489e6e2e03"
      },
      "execution_count": 122,
      "outputs": [
        {
          "output_type": "execute_result",
          "data": {
            "text/plain": [
              "'cpu'"
            ],
            "application/vnd.google.colaboratory.intrinsic+json": {
              "type": "string"
            }
          },
          "metadata": {},
          "execution_count": 122
        }
      ]
    },
    {
      "cell_type": "markdown",
      "source": [
        "\n",
        "### Data preprocessing"
      ],
      "metadata": {
        "id": "vRtlyFgiF3jo"
      }
    },
    {
      "cell_type": "code",
      "source": [
        "# create some data using linear regression formula\n",
        "\n",
        "weight = 0.7\n",
        "bias = 0.3\n",
        "\n",
        "# create range values\n",
        "x = torch.arange(0,1, 0.02).unsqueeze(dim= 1)\n",
        "y = bias + weight * x\n",
        "\n",
        "x[:10], y[:10]"
      ],
      "metadata": {
        "colab": {
          "base_uri": "https://localhost:8080/"
        },
        "id": "Zr38fD-dF9JR",
        "outputId": "39efa59a-9f97-4ba4-bf0a-844b325ef930"
      },
      "execution_count": 123,
      "outputs": [
        {
          "output_type": "execute_result",
          "data": {
            "text/plain": [
              "(tensor([[0.0000],\n",
              "         [0.0200],\n",
              "         [0.0400],\n",
              "         [0.0600],\n",
              "         [0.0800],\n",
              "         [0.1000],\n",
              "         [0.1200],\n",
              "         [0.1400],\n",
              "         [0.1600],\n",
              "         [0.1800]]),\n",
              " tensor([[0.3000],\n",
              "         [0.3140],\n",
              "         [0.3280],\n",
              "         [0.3420],\n",
              "         [0.3560],\n",
              "         [0.3700],\n",
              "         [0.3840],\n",
              "         [0.3980],\n",
              "         [0.4120],\n",
              "         [0.4260]]))"
            ]
          },
          "metadata": {},
          "execution_count": 123
        }
      ]
    },
    {
      "cell_type": "code",
      "source": [
        "# split data into train and test data sets\n",
        "\n",
        "split = int(len(x) * 0.8)\n",
        "x_train, y_train = x[:split], y[:split]\n",
        "x_test, y_test = x[split:], y[split:]\n",
        "\n",
        "len(x_train), len(x_test), len(y_train), len(y_test)"
      ],
      "metadata": {
        "colab": {
          "base_uri": "https://localhost:8080/"
        },
        "id": "WJislKpfHCJU",
        "outputId": "fb3b4899-b4fd-45e7-f2b1-ac00f93df116"
      },
      "execution_count": 124,
      "outputs": [
        {
          "output_type": "execute_result",
          "data": {
            "text/plain": [
              "(40, 10, 40, 10)"
            ]
          },
          "metadata": {},
          "execution_count": 124
        }
      ]
    },
    {
      "cell_type": "code",
      "source": [
        "# plot the data\n",
        "plots_predictions(train_data = x_train, train_labels = y_train, test_data=x_test, test_labels = y_test)"
      ],
      "metadata": {
        "colab": {
          "base_uri": "https://localhost:8080/",
          "height": 599
        },
        "id": "BrMBp7sEHxry",
        "outputId": "48623b38-424f-4044-929b-8b826131af0c"
      },
      "execution_count": 125,
      "outputs": [
        {
          "output_type": "display_data",
          "data": {
            "text/plain": [
              "<Figure size 1000x700 with 1 Axes>"
            ],
            "image/png": "[encoded data removed]"
          },
          "metadata": {}
        }
      ]
    },
    {
      "cell_type": "code",
      "source": [
        "class Linearv2(nn.Module):\n",
        "  def __init__(self):\n",
        "    super().__init__()\n",
        "    # Using nn.Linear() to create the model parameters / also called  lInear transformation, probing layer, fully connected layer, dense layer\n",
        "    self.linear_layer = nn.Linear(in_features = 1, out_features =1)\n",
        "\n",
        "  def forward(self, x:torch.Tensor) -> torch.Tensor:\n",
        "    return self.linear_layer(x)\n",
        "\n",
        "\n",
        "torch.manual_seed(42)\n",
        "\n",
        "model1 = Linearv2()\n",
        "\n",
        "model1, model1.state_dict()"
      ],
      "metadata": {
        "colab": {
          "base_uri": "https://localhost:8080/"
        },
        "id": "XyqpFYM1IDfF",
        "outputId": "7235f6fe-1ee9-4ef7-cba3-d54c9141d16d"
      },
      "execution_count": 126,
      "outputs": [
        {
          "output_type": "execute_result",
          "data": {
            "text/plain": [
              "(Linearv2(\n",
              "   (linear_layer): Linear(in_features=1, out_features=1, bias=True)\n",
              " ),\n",
              " OrderedDict([('linear_layer.weight', tensor([[0.7645]])),\n",
              "              ('linear_layer.bias', tensor([0.8300]))]))"
            ]
          },
          "metadata": {},
          "execution_count": 126
        }
      ]
    },
    {
      "cell_type": "code",
      "source": [
        "next(model1.parameters()).device"
      ],
      "metadata": {
        "colab": {
          "base_uri": "https://localhost:8080/"
        },
        "id": "xPXrFNUpNlez",
        "outputId": "0c021fa5-7da1-4861-c67e-0143a3157731"
      },
      "execution_count": 127,
      "outputs": [
        {
          "output_type": "execute_result",
          "data": {
            "text/plain": [
              "device(type='cpu')"
            ]
          },
          "metadata": {},
          "execution_count": 127
        }
      ]
    },
    {
      "cell_type": "code",
      "source": [
        "model1.to(device)\n",
        "next(model1.parameters()).device"
      ],
      "metadata": {
        "colab": {
          "base_uri": "https://localhost:8080/"
        },
        "id": "Z-38W7ccO1-O",
        "outputId": "595d1964-31db-4359-aa67-fd83e2fffb9a"
      },
      "execution_count": 128,
      "outputs": [
        {
          "output_type": "execute_result",
          "data": {
            "text/plain": [
              "device(type='cpu')"
            ]
          },
          "metadata": {},
          "execution_count": 128
        }
      ]
    },
    {
      "cell_type": "markdown",
      "source": [
        "### Training\n",
        "\n",
        "* Loss function\n",
        "* Optimizer\n",
        "* Training loop\n",
        "* Testing loop\n"
      ],
      "metadata": {
        "id": "Sshh1j2rx0_u"
      }
    },
    {
      "cell_type": "code",
      "source": [
        "# Setting up loss function\n",
        "loss_fn = torch.nn.L1Loss()\n",
        "\n",
        "# Setting optimizer\n",
        "\n",
        "optimizer = torch.optim.SGD(params = model1.parameters(), lr= 0.01)"
      ],
      "metadata": {
        "id": "VdhimmoDyGjf"
      },
      "execution_count": 129,
      "outputs": []
    },
    {
      "cell_type": "code",
      "source": [
        "# training loop\n",
        "\n",
        "torch.manual_seed(42)\n",
        "\n",
        "epochs = 230\n",
        "\n",
        "for epoch in range(epochs):\n",
        "  model1.train()\n",
        "\n",
        "  #Forward pass\n",
        "  ypred = model1(x_train)\n",
        "\n",
        "  #Calculate the loss\n",
        "  loss_m1 = loss_fn(ypred, y_train)\n",
        "\n",
        "  #Optimizer zero grad\n",
        "  optimizer.zero_grad()\n",
        "\n",
        "  #loss backward\n",
        "  loss_m1.backward()\n",
        "\n",
        "  #Optimizer step\n",
        "  optimizer.step()\n",
        "\n",
        "  # Testing\n",
        "\n",
        "  model1.eval()\n",
        "  with torch.inference_mode():\n",
        "    #Forward pass\n",
        "    test_pred = model1(x_test)\n",
        "\n",
        "    #Calculate the loss\n",
        "    loss_test = loss_fn(test_pred, y_test)\n",
        "\n",
        "    # optmizer zero grad\n",
        "    optimizer.zero_grad()\n",
        "\n",
        "  if epoch%10 == 0:\n",
        "    print(f\"Epoch: {epoch} | Loss: {loss} | Test Loss: {loss_test}\")"
      ],
      "metadata": {
        "colab": {
          "base_uri": "https://localhost:8080/"
        },
        "id": "Lxb1qzXyyLsI",
        "outputId": "472d05b4-eb3a-4146-820e-3c8e9f1387f5"
      },
      "execution_count": 130,
      "outputs": [
        {
          "output_type": "stream",
          "name": "stdout",
          "text": [
            "Epoch: 0 | Loss: 0.002589577798063901 | Test Loss: 0.5739762187004089\n",
            "Epoch: 10 | Loss: 0.002589577798063901 | Test Loss: 0.4392663538455963\n",
            "Epoch: 20 | Loss: 0.002589577798063901 | Test Loss: 0.30455657839775085\n",
            "Epoch: 30 | Loss: 0.002589577798063901 | Test Loss: 0.16984674334526062\n",
            "Epoch: 40 | Loss: 0.002589577798063901 | Test Loss: 0.03513689711689949\n",
            "Epoch: 50 | Loss: 0.002589577798063901 | Test Loss: 0.04784906655550003\n",
            "Epoch: 60 | Loss: 0.002589577798063901 | Test Loss: 0.04580312222242355\n",
            "Epoch: 70 | Loss: 0.002589577798063901 | Test Loss: 0.0375305712223053\n",
            "Epoch: 80 | Loss: 0.002589577798063901 | Test Loss: 0.029944902285933495\n",
            "Epoch: 90 | Loss: 0.002589577798063901 | Test Loss: 0.02167237363755703\n",
            "Epoch: 100 | Loss: 0.002589577798063901 | Test Loss: 0.014086711220443249\n",
            "Epoch: 110 | Loss: 0.002589577798063901 | Test Loss: 0.005814164876937866\n",
            "Epoch: 120 | Loss: 0.002589577798063901 | Test Loss: 0.013801807537674904\n",
            "Epoch: 130 | Loss: 0.002589577798063901 | Test Loss: 0.013801807537674904\n",
            "Epoch: 140 | Loss: 0.002589577798063901 | Test Loss: 0.013801807537674904\n",
            "Epoch: 150 | Loss: 0.002589577798063901 | Test Loss: 0.013801807537674904\n",
            "Epoch: 160 | Loss: 0.002589577798063901 | Test Loss: 0.013801807537674904\n",
            "Epoch: 170 | Loss: 0.002589577798063901 | Test Loss: 0.013801807537674904\n",
            "Epoch: 180 | Loss: 0.002589577798063901 | Test Loss: 0.013801807537674904\n",
            "Epoch: 190 | Loss: 0.002589577798063901 | Test Loss: 0.013801807537674904\n",
            "Epoch: 200 | Loss: 0.002589577798063901 | Test Loss: 0.013801807537674904\n",
            "Epoch: 210 | Loss: 0.002589577798063901 | Test Loss: 0.013801807537674904\n",
            "Epoch: 220 | Loss: 0.002589577798063901 | Test Loss: 0.013801807537674904\n"
          ]
        }
      ]
    },
    {
      "cell_type": "code",
      "source": [
        "model1.state_dict()"
      ],
      "metadata": {
        "colab": {
          "base_uri": "https://localhost:8080/"
        },
        "id": "jGbj3s7N5HO_",
        "outputId": "21e0268c-9443-4636-e276-7e22447a1519"
      },
      "execution_count": 131,
      "outputs": [
        {
          "output_type": "execute_result",
          "data": {
            "text/plain": [
              "OrderedDict([('linear_layer.weight', tensor([[0.6968]])),\n",
              "             ('linear_layer.bias', tensor([0.3025]))])"
            ]
          },
          "metadata": {},
          "execution_count": 131
        }
      ]
    },
    {
      "cell_type": "code",
      "source": [
        "with torch.inference_mode():\n",
        "  pred = model1(x_test)\n",
        "\n",
        "pred"
      ],
      "metadata": {
        "colab": {
          "base_uri": "https://localhost:8080/"
        },
        "id": "UpGfoo7k3jC1",
        "outputId": "4f9d0402-024d-41aa-f1e1-8805db603396"
      },
      "execution_count": 132,
      "outputs": [
        {
          "output_type": "execute_result",
          "data": {
            "text/plain": [
              "tensor([[0.8600],\n",
              "        [0.8739],\n",
              "        [0.8878],\n",
              "        [0.9018],\n",
              "        [0.9157],\n",
              "        [0.9296],\n",
              "        [0.9436],\n",
              "        [0.9575],\n",
              "        [0.9714],\n",
              "        [0.9854]])"
            ]
          },
          "metadata": {},
          "execution_count": 132
        }
      ]
    },
    {
      "cell_type": "code",
      "source": [
        "plots_predictions(train_data = x_train, train_labels = y_train, test_data=x_test, test_labels = y_test, predictions = test_pred.detach().numpy())"
      ],
      "metadata": {
        "colab": {
          "base_uri": "https://localhost:8080/",
          "height": 599
        },
        "id": "ubmGCQjKzfEh",
        "outputId": "c0e11541-3fff-4a17-e836-9b9ac04fd079"
      },
      "execution_count": 133,
      "outputs": [
        {
          "output_type": "display_data",
          "data": {
            "text/plain": [
              "<Figure size 1000x700 with 1 Axes>"
            ],
            "image/png": "[encoded data removed]"
          },
          "metadata": {}
        }
      ]
    },
    {
      "source": [
        "print(\"Shape of test_data:\", x_test.shape)\n",
        "print(\"Shape of predictions:\", ypred.detach().numpy().shape)"
      ],
      "cell_type": "code",
      "metadata": {
        "colab": {
          "base_uri": "https://localhost:8080/"
        },
        "id": "wbzG0z8r4bzu",
        "outputId": "aa32d80a-d9f3-49f0-f620-7362e079dbd4"
      },
      "execution_count": 134,
      "outputs": [
        {
          "output_type": "stream",
          "name": "stdout",
          "text": [
            "Shape of test_data: torch.Size([10, 1])\n",
            "Shape of predictions: (40, 1)\n"
          ]
        }
      ]
    },
    {
      "cell_type": "markdown",
      "source": [
        "### Making and evaluating predictions"
      ],
      "metadata": {
        "id": "xcWFiy95272_"
      }
    },
    {
      "cell_type": "code",
      "source": [
        "model1.eval()\n",
        "with torch.inference_mode():\n",
        "  ypreds = model1(x_test)\n",
        "ypreds"
      ],
      "metadata": {
        "colab": {
          "base_uri": "https://localhost:8080/"
        },
        "id": "I7sRlyyB7FEC",
        "outputId": "0ef6a5dc-dc18-4c14-9276-decb63a6dd09"
      },
      "execution_count": 135,
      "outputs": [
        {
          "output_type": "execute_result",
          "data": {
            "text/plain": [
              "tensor([[0.8600],\n",
              "        [0.8739],\n",
              "        [0.8878],\n",
              "        [0.9018],\n",
              "        [0.9157],\n",
              "        [0.9296],\n",
              "        [0.9436],\n",
              "        [0.9575],\n",
              "        [0.9714],\n",
              "        [0.9854]])"
            ]
          },
          "metadata": {},
          "execution_count": 135
        }
      ]
    },
    {
      "cell_type": "code",
      "source": [
        "plots_predictions(predictions = ypreds.detach())"
      ],
      "metadata": {
        "colab": {
          "base_uri": "https://localhost:8080/",
          "height": 599
        },
        "id": "035t7U1N7Rc9",
        "outputId": "fefd311a-123b-45b2-9ea6-146e2456bdd9"
      },
      "execution_count": 136,
      "outputs": [
        {
          "output_type": "display_data",
          "data": {
            "text/plain": [
              "<Figure size 1000x700 with 1 Axes>"
            ],
            "image/png": "[encoded data removed]"
          },
          "metadata": {}
        }
      ]
    },
    {
      "cell_type": "markdown",
      "source": [
        "### Saving and loading model"
      ],
      "metadata": {
        "id": "YOSYu61r7htF"
      }
    },
    {
      "cell_type": "code",
      "source": [
        "from pathlib import Path\n",
        "\n",
        "modeldir = Path(\"models\")\n",
        "\n",
        "modeldir.mkdir(parents = True, exist_ok = True)\n",
        "\n",
        "model_name = \"practice.pt\"\n",
        "model_savepath = modeldir / model_name\n",
        "\n",
        "\n",
        "torch.save(obj = model1.state_dict(), f= model_savepath)"
      ],
      "metadata": {
        "id": "bUdd4Cvw7s7W"
      },
      "execution_count": 137,
      "outputs": []
    },
    {
      "cell_type": "code",
      "source": [
        "# Load Model\n",
        "\n",
        "# creating instance of model\n",
        "loaded1 = Linearv2()\n",
        "\n",
        "loaded1.load_state_dict(torch.load(model_savepath))\n",
        "\n",
        "loaded1(x_test), loaded1.state_dict()\n",
        "\n",
        "\n",
        "\n"
      ],
      "metadata": {
        "colab": {
          "base_uri": "https://localhost:8080/"
        },
        "id": "-qjq-qxL8SHq",
        "outputId": "7e1620cc-4501-4009-f44e-c8deef1c81ff"
      },
      "execution_count": 138,
      "outputs": [
        {
          "output_type": "execute_result",
          "data": {
            "text/plain": [
              "(tensor([[0.8600],\n",
              "         [0.8739],\n",
              "         [0.8878],\n",
              "         [0.9018],\n",
              "         [0.9157],\n",
              "         [0.9296],\n",
              "         [0.9436],\n",
              "         [0.9575],\n",
              "         [0.9714],\n",
              "         [0.9854]], grad_fn=<AddmmBackward0>),\n",
              " OrderedDict([('linear_layer.weight', tensor([[0.6968]])),\n",
              "              ('linear_layer.bias', tensor([0.3025]))]))"
            ]
          },
          "metadata": {},
          "execution_count": 138
        }
      ]
    },
    {
      "cell_type": "markdown",
      "source": [
        "# Machine learning **classification** problem"
      ],
      "metadata": {
        "id": "FFeJ9XRb89un"
      }
    },
    {
      "cell_type": "code",
      "source": [],
      "metadata": {
        "id": "K3U2qPtcBUhf",
        "colab": {
          "base_uri": "https://localhost:8080/"
        },
        "outputId": "3d2217e6-2a55-41c4-fe90-c3a6a140368a"
      },
      "execution_count": 139,
      "outputs": [
        {
          "output_type": "stream",
          "name": "stdout",
          "text": [
            "/content\n"
          ]
        }
      ]
    },
    {
      "cell_type": "code",
      "source": [],
      "metadata": {
        "id": "ybE6Is3nmtZ3"
      },
      "execution_count": null,
      "outputs": []
    }
  ]
}