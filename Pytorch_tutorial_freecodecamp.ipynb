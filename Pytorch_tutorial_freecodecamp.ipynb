{
  "nbformat": 4,
  "nbformat_minor": 0,
  "metadata": {
    "colab": {
      "provenance": [],
      "toc_visible": true,
      "gpuType": "T4",
      "authorship_tag": "ABX9TyMQjltDYadxEuGq4hqJsnIq",
      "include_colab_link": true
    },
    "kernelspec": {
      "name": "python3",
      "display_name": "Python 3"
    },
    "language_info": {
      "name": "python"
    }
  },
  "cells": [
    {
      "cell_type": "markdown",
      "metadata": {
        "id": "view-in-github",
        "colab_type": "text"
      },
      "source": [
        "<a href=\"https://colab.research.google.com/github/Sainithinkadarla/Learn_AI/blob/main/Pytorch_tutorial_freecodecamp.ipynb\" target=\"_parent\"><img src=\"https://colab.research.google.com/assets/colab-badge.svg\" alt=\"Open In Colab\"/></a>"
      ]
    },
    {
      "cell_type": "markdown",
      "source": [
        "\n",
        "# PyTorch Tutorial"
      ],
      "metadata": {
        "id": "FSdO5yM-VpMj"
      }
    },
    {
      "cell_type": "markdown",
      "source": [
        "## PyTorch Fundamentals\n"
      ],
      "metadata": {
        "id": "8Teu1Fc8WAYY"
      }
    },
    {
      "cell_type": "code",
      "source": [
        "import torch\n",
        "import pandas as pd\n",
        "import numpy as np\n",
        "import matplotlib.pyplot as plt\n",
        "\n",
        "print(torch.__version__)"
      ],
      "metadata": {
        "id": "JXTmRcXuVzrg",
        "colab": {
          "base_uri": "https://localhost:8080/"
        },
        "outputId": "40aa5606-f99d-4516-b109-742acadc705b"
      },
      "execution_count": 1,
      "outputs": [
        {
          "output_type": "stream",
          "name": "stdout",
          "text": [
            "2.1.0+cu121\n"
          ]
        }
      ]
    },
    {
      "cell_type": "code",
      "execution_count": 2,
      "metadata": {
        "colab": {
          "base_uri": "https://localhost:8080/"
        },
        "id": "2RHaPD3TT24v",
        "outputId": "d1503a5a-0fbe-4399-d3a0-6378b4228c04"
      },
      "outputs": [
        {
          "output_type": "stream",
          "name": "stdout",
          "text": [
            "/bin/bash: line 1: nvidia-smi: command not found\n"
          ]
        }
      ],
      "source": [
        "!nvidia-smi"
      ]
    },
    {
      "cell_type": "markdown",
      "source": [
        "## Introduction to tensors\n",
        "### Creating tensors"
      ],
      "metadata": {
        "id": "XldrVvcmXbb5"
      }
    },
    {
      "cell_type": "code",
      "source": [
        "# scalar\n",
        "\n",
        "scalar  = torch.tensor(7)\n",
        "scalar"
      ],
      "metadata": {
        "colab": {
          "base_uri": "https://localhost:8080/"
        },
        "id": "RaRYOSjUXodM",
        "outputId": "6acc7b04-d2cc-4e8d-f99b-3cf8244ad624"
      },
      "execution_count": 3,
      "outputs": [
        {
          "output_type": "execute_result",
          "data": {
            "text/plain": [
              "tensor(7)"
            ]
          },
          "metadata": {},
          "execution_count": 3
        }
      ]
    },
    {
      "cell_type": "code",
      "source": [
        "scalar.ndim"
      ],
      "metadata": {
        "colab": {
          "base_uri": "https://localhost:8080/"
        },
        "id": "UxqVvVm4YDku",
        "outputId": "0a360a46-04a2-4a93-ccc2-724d9850ba1b"
      },
      "execution_count": 4,
      "outputs": [
        {
          "output_type": "execute_result",
          "data": {
            "text/plain": [
              "0"
            ]
          },
          "metadata": {},
          "execution_count": 4
        }
      ]
    },
    {
      "cell_type": "code",
      "source": [
        "scalar.item()"
      ],
      "metadata": {
        "colab": {
          "base_uri": "https://localhost:8080/"
        },
        "id": "c96Z_2LcYhk3",
        "outputId": "9cdb25f0-2bdc-4dd7-d863-10d44d3a6129"
      },
      "execution_count": 5,
      "outputs": [
        {
          "output_type": "execute_result",
          "data": {
            "text/plain": [
              "7"
            ]
          },
          "metadata": {},
          "execution_count": 5
        }
      ]
    },
    {
      "cell_type": "code",
      "source": [
        "# Vector\n",
        "\n",
        "vector = torch.tensor([7,7])\n",
        "vector"
      ],
      "metadata": {
        "colab": {
          "base_uri": "https://localhost:8080/"
        },
        "id": "WGewnf8aYn_h",
        "outputId": "57aa31dc-a651-4061-86cb-edbe44fb97f4"
      },
      "execution_count": 6,
      "outputs": [
        {
          "output_type": "execute_result",
          "data": {
            "text/plain": [
              "tensor([7, 7])"
            ]
          },
          "metadata": {},
          "execution_count": 6
        }
      ]
    },
    {
      "cell_type": "code",
      "source": [
        "vector.ndim"
      ],
      "metadata": {
        "colab": {
          "base_uri": "https://localhost:8080/"
        },
        "id": "JyKObWMZYxfK",
        "outputId": "fc3349d5-b8ab-48d4-aadb-2570761d1d2c"
      },
      "execution_count": 7,
      "outputs": [
        {
          "output_type": "execute_result",
          "data": {
            "text/plain": [
              "1"
            ]
          },
          "metadata": {},
          "execution_count": 7
        }
      ]
    },
    {
      "cell_type": "code",
      "source": [
        "vector.shape"
      ],
      "metadata": {
        "colab": {
          "base_uri": "https://localhost:8080/"
        },
        "id": "LRRotIDPcZyJ",
        "outputId": "f44f1d30-3e29-4ed8-d1da-31f1e6f35d53"
      },
      "execution_count": 8,
      "outputs": [
        {
          "output_type": "execute_result",
          "data": {
            "text/plain": [
              "torch.Size([2])"
            ]
          },
          "metadata": {},
          "execution_count": 8
        }
      ]
    },
    {
      "cell_type": "code",
      "source": [
        "vector[1]"
      ],
      "metadata": {
        "colab": {
          "base_uri": "https://localhost:8080/"
        },
        "id": "Imn--Dp7c0bL",
        "outputId": "e98022e1-0a10-40a2-ba38-bd9b328d88b8"
      },
      "execution_count": 9,
      "outputs": [
        {
          "output_type": "execute_result",
          "data": {
            "text/plain": [
              "tensor(7)"
            ]
          },
          "metadata": {},
          "execution_count": 9
        }
      ]
    },
    {
      "cell_type": "code",
      "source": [
        "MATRIX = torch.tensor([[1,2],[3,4]])\n",
        "MATRIX"
      ],
      "metadata": {
        "colab": {
          "base_uri": "https://localhost:8080/"
        },
        "id": "Uu5909gIch8u",
        "outputId": "04938c13-87c7-43c9-c2de-71dbbfee0751"
      },
      "execution_count": 10,
      "outputs": [
        {
          "output_type": "execute_result",
          "data": {
            "text/plain": [
              "tensor([[1, 2],\n",
              "        [3, 4]])"
            ]
          },
          "metadata": {},
          "execution_count": 10
        }
      ]
    },
    {
      "cell_type": "code",
      "source": [
        "MATRIX[1]"
      ],
      "metadata": {
        "colab": {
          "base_uri": "https://localhost:8080/"
        },
        "id": "3G9dS-_bcyU3",
        "outputId": "39ad04be-3f06-40e6-fd5f-aa700b0fc7c1"
      },
      "execution_count": 11,
      "outputs": [
        {
          "output_type": "execute_result",
          "data": {
            "text/plain": [
              "tensor([3, 4])"
            ]
          },
          "metadata": {},
          "execution_count": 11
        }
      ]
    },
    {
      "cell_type": "code",
      "source": [
        "MATRIX.shape"
      ],
      "metadata": {
        "colab": {
          "base_uri": "https://localhost:8080/"
        },
        "id": "ypvZsgW7dAOV",
        "outputId": "4e7ad5d9-5c37-4433-a97b-50fccbcca9dc"
      },
      "execution_count": 12,
      "outputs": [
        {
          "output_type": "execute_result",
          "data": {
            "text/plain": [
              "torch.Size([2, 2])"
            ]
          },
          "metadata": {},
          "execution_count": 12
        }
      ]
    },
    {
      "cell_type": "code",
      "source": [
        "# Tensor\n",
        "\n",
        "TENSOR = torch.tensor([[[1,2,3],[4,5,6],[7,8,9]]])\n",
        "TENSOR"
      ],
      "metadata": {
        "colab": {
          "base_uri": "https://localhost:8080/"
        },
        "id": "ZMJ9dGkgdCTV",
        "outputId": "b151ca81-6962-439a-a4b1-925a8bbe5414"
      },
      "execution_count": 13,
      "outputs": [
        {
          "output_type": "execute_result",
          "data": {
            "text/plain": [
              "tensor([[[1, 2, 3],\n",
              "         [4, 5, 6],\n",
              "         [7, 8, 9]]])"
            ]
          },
          "metadata": {},
          "execution_count": 13
        }
      ]
    },
    {
      "cell_type": "code",
      "source": [
        "TENSOR.ndim"
      ],
      "metadata": {
        "colab": {
          "base_uri": "https://localhost:8080/"
        },
        "id": "nAmZM_CUdSZ3",
        "outputId": "8da4895a-960b-45f1-90d5-eb0a1cf53d3d"
      },
      "execution_count": 14,
      "outputs": [
        {
          "output_type": "execute_result",
          "data": {
            "text/plain": [
              "3"
            ]
          },
          "metadata": {},
          "execution_count": 14
        }
      ]
    },
    {
      "cell_type": "code",
      "source": [
        "TENSOR.shape"
      ],
      "metadata": {
        "colab": {
          "base_uri": "https://localhost:8080/"
        },
        "id": "xwOrMjSvdjjR",
        "outputId": "436b40af-17a2-4830-888e-f7db9c03ebbf"
      },
      "execution_count": 15,
      "outputs": [
        {
          "output_type": "execute_result",
          "data": {
            "text/plain": [
              "torch.Size([1, 3, 3])"
            ]
          },
          "metadata": {},
          "execution_count": 15
        }
      ]
    },
    {
      "cell_type": "code",
      "source": [
        "TENSOR[0]"
      ],
      "metadata": {
        "colab": {
          "base_uri": "https://localhost:8080/"
        },
        "id": "JCKivJypdw4q",
        "outputId": "7031f497-4d23-4074-e284-2fc416669f2b"
      },
      "execution_count": 16,
      "outputs": [
        {
          "output_type": "execute_result",
          "data": {
            "text/plain": [
              "tensor([[1, 2, 3],\n",
              "        [4, 5, 6],\n",
              "        [7, 8, 9]])"
            ]
          },
          "metadata": {},
          "execution_count": 16
        }
      ]
    },
    {
      "cell_type": "code",
      "source": [
        "# Tensor\n",
        "\n",
        "TENSOR2 = torch.tensor([[[1,2,3],[4,5,6],[4,5,6],[7,8,9]]])\n",
        "TENSOR2"
      ],
      "metadata": {
        "colab": {
          "base_uri": "https://localhost:8080/"
        },
        "outputId": "6818f37f-f623-4988-87e9-5b91cdaa68aa",
        "id": "pbfCJ4g2eDC9"
      },
      "execution_count": 17,
      "outputs": [
        {
          "output_type": "execute_result",
          "data": {
            "text/plain": [
              "tensor([[[1, 2, 3],\n",
              "         [4, 5, 6],\n",
              "         [4, 5, 6],\n",
              "         [7, 8, 9]]])"
            ]
          },
          "metadata": {},
          "execution_count": 17
        }
      ]
    },
    {
      "cell_type": "code",
      "source": [
        "TENSOR2.ndim\n"
      ],
      "metadata": {
        "colab": {
          "base_uri": "https://localhost:8080/"
        },
        "id": "Tesyp7D1eHec",
        "outputId": "0bc9ae1e-627a-457a-ebf3-5a49e44360bf"
      },
      "execution_count": 18,
      "outputs": [
        {
          "output_type": "execute_result",
          "data": {
            "text/plain": [
              "3"
            ]
          },
          "metadata": {},
          "execution_count": 18
        }
      ]
    },
    {
      "cell_type": "code",
      "source": [
        "TENSOR2.shape"
      ],
      "metadata": {
        "colab": {
          "base_uri": "https://localhost:8080/"
        },
        "id": "1-YJv3MvePEN",
        "outputId": "b00e5ffd-0130-4d5b-f31e-da6d28748bdc"
      },
      "execution_count": 19,
      "outputs": [
        {
          "output_type": "execute_result",
          "data": {
            "text/plain": [
              "torch.Size([1, 4, 3])"
            ]
          },
          "metadata": {},
          "execution_count": 19
        }
      ]
    },
    {
      "cell_type": "code",
      "source": [
        "print(TENSOR2[0],\"\\n------------------------------------------\\n\",TENSOR2[0,1],\"\\n------------------------------------------\\n\",TENSOR2[0,1,2])"
      ],
      "metadata": {
        "colab": {
          "base_uri": "https://localhost:8080/"
        },
        "id": "JZ7iMRFTeRmN",
        "outputId": "9eee0ee0-97e7-4483-c0ac-c6f1cb13f4b6"
      },
      "execution_count": 20,
      "outputs": [
        {
          "output_type": "stream",
          "name": "stdout",
          "text": [
            "tensor([[1, 2, 3],\n",
            "        [4, 5, 6],\n",
            "        [4, 5, 6],\n",
            "        [7, 8, 9]]) \n",
            "------------------------------------------\n",
            " tensor([4, 5, 6]) \n",
            "------------------------------------------\n",
            " tensor(6)\n"
          ]
        }
      ]
    },
    {
      "cell_type": "markdown",
      "source": [
        "### Random Tensors\n",
        "\n",
        "  Why random tensors\n",
        "\n",
        "  Random tensors are important because the way neural netowrks learn is that they start with tensors full of random numbers and then adjust thise random numbers to bettter represent the data\n",
        "\n",
        "  `start with random numbers -> look at data -> update random numbers -> look at data -> again update random numbers`"
      ],
      "metadata": {
        "id": "ToQ11WJgfI29"
      }
    },
    {
      "cell_type": "code",
      "source": [
        "# Creating the random tensor of suize(3,4)\n",
        "\n",
        "random_tensor = torch.rand(3,4)\n",
        "random_tensor"
      ],
      "metadata": {
        "colab": {
          "base_uri": "https://localhost:8080/"
        },
        "id": "7Cc8M_FHfF9B",
        "outputId": "40c59c16-d847-43b5-99a5-10ea3f5568ac"
      },
      "execution_count": 21,
      "outputs": [
        {
          "output_type": "execute_result",
          "data": {
            "text/plain": [
              "tensor([[0.7459, 0.3363, 0.9069, 0.4130],\n",
              "        [0.2938, 0.6087, 0.1595, 0.2867],\n",
              "        [0.1201, 0.7862, 0.9350, 0.1489]])"
            ]
          },
          "metadata": {},
          "execution_count": 21
        }
      ]
    },
    {
      "cell_type": "code",
      "source": [
        "random_tensor.ndim"
      ],
      "metadata": {
        "colab": {
          "base_uri": "https://localhost:8080/"
        },
        "id": "eIEMLM8igbLM",
        "outputId": "052d40be-2a2a-4841-bc59-425da3b0d297"
      },
      "execution_count": 22,
      "outputs": [
        {
          "output_type": "execute_result",
          "data": {
            "text/plain": [
              "2"
            ]
          },
          "metadata": {},
          "execution_count": 22
        }
      ]
    },
    {
      "cell_type": "code",
      "source": [
        "# Creating a random tensor which similar to image tensor\n",
        "random_image_tensor = torch.rand((244,244,3))\n",
        "random_image_tensor.shape, \"shape \\nndim \",random_image_tensor.ndim"
      ],
      "metadata": {
        "colab": {
          "base_uri": "https://localhost:8080/"
        },
        "id": "ul9ZPpd7giIE",
        "outputId": "ca8e2a94-4d64-41d9-b473-2109cbb8d2b3"
      },
      "execution_count": 23,
      "outputs": [
        {
          "output_type": "execute_result",
          "data": {
            "text/plain": [
              "(torch.Size([244, 244, 3]), 'shape \\nndim ', 3)"
            ]
          },
          "metadata": {},
          "execution_count": 23
        }
      ]
    },
    {
      "cell_type": "markdown",
      "source": [
        "### Zeros and Ones"
      ],
      "metadata": {
        "id": "OrnazJJDhH9o"
      }
    },
    {
      "cell_type": "code",
      "source": [
        "zeros = torch.zeros(3,4)\n",
        "zeros\n"
      ],
      "metadata": {
        "colab": {
          "base_uri": "https://localhost:8080/"
        },
        "id": "fZNNHsxSEKIz",
        "outputId": "abe843ea-50d9-4272-adee-f6a05fd37e2a"
      },
      "execution_count": 24,
      "outputs": [
        {
          "output_type": "execute_result",
          "data": {
            "text/plain": [
              "tensor([[0., 0., 0., 0.],\n",
              "        [0., 0., 0., 0.],\n",
              "        [0., 0., 0., 0.]])"
            ]
          },
          "metadata": {},
          "execution_count": 24
        }
      ]
    },
    {
      "cell_type": "code",
      "source": [
        "ones = torch.ones(3,4)\n",
        "ones"
      ],
      "metadata": {
        "colab": {
          "base_uri": "https://localhost:8080/"
        },
        "id": "1adYdaLtEUf6",
        "outputId": "9a29dafd-6b45-4c85-fb6e-ff130f1615ab"
      },
      "execution_count": 25,
      "outputs": [
        {
          "output_type": "execute_result",
          "data": {
            "text/plain": [
              "tensor([[1., 1., 1., 1.],\n",
              "        [1., 1., 1., 1.],\n",
              "        [1., 1., 1., 1.]])"
            ]
          },
          "metadata": {},
          "execution_count": 25
        }
      ]
    },
    {
      "cell_type": "code",
      "source": [
        "ones.dtype"
      ],
      "metadata": {
        "colab": {
          "base_uri": "https://localhost:8080/"
        },
        "id": "moMjbjotEZZ8",
        "outputId": "b03cabd1-3221-47ea-d0ad-edaa3aeda0f8"
      },
      "execution_count": 26,
      "outputs": [
        {
          "output_type": "execute_result",
          "data": {
            "text/plain": [
              "torch.float32"
            ]
          },
          "metadata": {},
          "execution_count": 26
        }
      ]
    },
    {
      "cell_type": "code",
      "source": [
        "random_tensor.dtype"
      ],
      "metadata": {
        "colab": {
          "base_uri": "https://localhost:8080/"
        },
        "id": "OIrJ_e46EbcM",
        "outputId": "a84476ae-8d84-4567-9ac5-4beeaabb024e"
      },
      "execution_count": 27,
      "outputs": [
        {
          "output_type": "execute_result",
          "data": {
            "text/plain": [
              "torch.float32"
            ]
          },
          "metadata": {},
          "execution_count": 27
        }
      ]
    },
    {
      "cell_type": "markdown",
      "source": [
        "### Creating a range of tensors and tensors-like"
      ],
      "metadata": {
        "id": "mtYSsbv8Ezom"
      }
    },
    {
      "cell_type": "code",
      "source": [
        "one_to_ten = torch.arange(1,11)\n",
        "even = torch.arange(2,11,2)\n",
        "\n",
        "one_to_ten, even"
      ],
      "metadata": {
        "colab": {
          "base_uri": "https://localhost:8080/"
        },
        "id": "b0_Tra_0E5uH",
        "outputId": "2884fe7e-ae8f-4c3a-d0c4-31591a598827"
      },
      "execution_count": 28,
      "outputs": [
        {
          "output_type": "execute_result",
          "data": {
            "text/plain": [
              "(tensor([ 1,  2,  3,  4,  5,  6,  7,  8,  9, 10]),\n",
              " tensor([ 2,  4,  6,  8, 10]))"
            ]
          },
          "metadata": {},
          "execution_count": 28
        }
      ]
    },
    {
      "cell_type": "code",
      "source": [
        "ten_zeros = torch.zeros_like(one_to_ten)\n",
        "ten_ones = torch.ones_like(ten_zeros)\n",
        "\n",
        "ten_zeros,ten_ones"
      ],
      "metadata": {
        "colab": {
          "base_uri": "https://localhost:8080/"
        },
        "id": "FKL9BWjOFOA4",
        "outputId": "d3a6bc2b-d32b-41c9-fcaa-6c5ef937976c"
      },
      "execution_count": 29,
      "outputs": [
        {
          "output_type": "execute_result",
          "data": {
            "text/plain": [
              "(tensor([0, 0, 0, 0, 0, 0, 0, 0, 0, 0]),\n",
              " tensor([1, 1, 1, 1, 1, 1, 1, 1, 1, 1]))"
            ]
          },
          "metadata": {},
          "execution_count": 29
        }
      ]
    },
    {
      "cell_type": "markdown",
      "source": [
        "### Tensor Datatypes\n",
        "\n",
        "**Note:** Tensor datatypes is one of the 3 big errors you'll run into pytorch & deep learning:\n",
        "  1. Tensors not right datatype\n",
        "  2. Tensors not right shape\n",
        "  3. Tensors not on the right device"
      ],
      "metadata": {
        "id": "V5J4KzZWGXm3"
      }
    },
    {
      "cell_type": "code",
      "source": [
        "# Float32 tensor\n",
        "\n",
        "f32_tensor = torch.tensor([3.0,6.0,9.0],dtype = None)\n",
        "f16_tensor = torch.tensor([3.0,6.0,9.0],dtype = torch.float16)\n",
        "\n",
        "f_other_options = torch.tensor([3,2,1,1], dtype=None, device=None, requires_grad= False)\n",
        "\n",
        "f32_tensor, f32_tensor.dtype, f16_tensor, f16_tensor.dtype"
      ],
      "metadata": {
        "colab": {
          "base_uri": "https://localhost:8080/"
        },
        "id": "BjiCnqScGa_4",
        "outputId": "ddc62deb-9011-4193-c2c5-20ceeecf7547"
      },
      "execution_count": 30,
      "outputs": [
        {
          "output_type": "execute_result",
          "data": {
            "text/plain": [
              "(tensor([3., 6., 9.]),\n",
              " torch.float32,\n",
              " tensor([3., 6., 9.], dtype=torch.float16),\n",
              " torch.float16)"
            ]
          },
          "metadata": {},
          "execution_count": 30
        }
      ]
    },
    {
      "cell_type": "code",
      "source": [
        "exp_f16_tensor = f32_tensor.type(torch.half)\n",
        "exp_f16_tensor"
      ],
      "metadata": {
        "colab": {
          "base_uri": "https://localhost:8080/"
        },
        "id": "fX2dy9DJGnhc",
        "outputId": "abdc39b0-0f15-4e0d-9540-2fe02d6665f9"
      },
      "execution_count": 31,
      "outputs": [
        {
          "output_type": "execute_result",
          "data": {
            "text/plain": [
              "tensor([3., 6., 9.], dtype=torch.float16)"
            ]
          },
          "metadata": {},
          "execution_count": 31
        }
      ]
    },
    {
      "cell_type": "code",
      "source": [
        "exp_f16_tensor * f32_tensor"
      ],
      "metadata": {
        "colab": {
          "base_uri": "https://localhost:8080/"
        },
        "id": "KlOMtWzLMic4",
        "outputId": "751318f3-1acc-48ef-eae0-5b63ab70fbbf"
      },
      "execution_count": 32,
      "outputs": [
        {
          "output_type": "execute_result",
          "data": {
            "text/plain": [
              "tensor([ 9., 36., 81.])"
            ]
          },
          "metadata": {},
          "execution_count": 32
        }
      ]
    },
    {
      "cell_type": "code",
      "source": [
        "i32_tensor = torch.tensor([1,2,34], dtype= torch.int32)"
      ],
      "metadata": {
        "id": "2BDMQ01UN82a"
      },
      "execution_count": 33,
      "outputs": []
    },
    {
      "cell_type": "code",
      "source": [
        "exp_f16_tensor * i32_tensor"
      ],
      "metadata": {
        "colab": {
          "base_uri": "https://localhost:8080/"
        },
        "id": "xTOh4glROD21",
        "outputId": "43237133-86e0-4448-8597-6b428b8abb8a"
      },
      "execution_count": 34,
      "outputs": [
        {
          "output_type": "execute_result",
          "data": {
            "text/plain": [
              "tensor([  3.,  12., 306.], dtype=torch.float16)"
            ]
          },
          "metadata": {},
          "execution_count": 34
        }
      ]
    },
    {
      "cell_type": "code",
      "source": [
        "long_tensor = torch.tensor([1,2,3], dtype= torch.long)\n",
        "\n",
        "exp_f16_tensor * long_tensor"
      ],
      "metadata": {
        "colab": {
          "base_uri": "https://localhost:8080/"
        },
        "id": "eodbsbm2OHU7",
        "outputId": "dbd0b7f2-b459-479a-f5b8-8f15a426100f"
      },
      "execution_count": 35,
      "outputs": [
        {
          "output_type": "execute_result",
          "data": {
            "text/plain": [
              "tensor([ 3., 12., 27.], dtype=torch.float16)"
            ]
          },
          "metadata": {},
          "execution_count": 35
        }
      ]
    },
    {
      "cell_type": "markdown",
      "source": [
        "\n",
        "### Getting information from tensors\n",
        "\n",
        "  1. Shape\n",
        "  2. Dtype\n",
        "  3. Device"
      ],
      "metadata": {
        "id": "Lu8NP0p6O3To"
      }
    },
    {
      "cell_type": "code",
      "source": [
        "test = torch.tensor([1,2,3])\n",
        "test"
      ],
      "metadata": {
        "colab": {
          "base_uri": "https://localhost:8080/"
        },
        "id": "lYNlOGZLO6_B",
        "outputId": "a8018658-9677-4741-e2d2-95a8c3c0e2bf"
      },
      "execution_count": 36,
      "outputs": [
        {
          "output_type": "execute_result",
          "data": {
            "text/plain": [
              "tensor([1, 2, 3])"
            ]
          },
          "metadata": {},
          "execution_count": 36
        }
      ]
    },
    {
      "cell_type": "code",
      "source": [
        "print(f\"shape : {test.shape} \\ndtype : {test.dtype}\\ndevice : {test.device}\")"
      ],
      "metadata": {
        "colab": {
          "base_uri": "https://localhost:8080/"
        },
        "id": "Fuudv5jYPOXT",
        "outputId": "4951cd69-ceea-4553-9667-b64e35a9e02d"
      },
      "execution_count": 37,
      "outputs": [
        {
          "output_type": "stream",
          "name": "stdout",
          "text": [
            "shape : torch.Size([3]) \n",
            "dtype : torch.int64\n",
            "device : cpu\n"
          ]
        }
      ]
    },
    {
      "cell_type": "markdown",
      "source": [
        "### Manipulating tensors\n",
        "\n",
        "Tensors operations like:\n",
        "* Addition\n",
        "* Subtraction\n",
        "* Multiplication (element-wise)\n",
        "* Division\n",
        "* Matrix multiplication"
      ],
      "metadata": {
        "id": "V8M56_NQP6AN"
      }
    },
    {
      "cell_type": "code",
      "source": [
        "tensor = torch.tensor([1,2,3])\n",
        "tensor, tensor+10, tensor*10, tensor - 10"
      ],
      "metadata": {
        "colab": {
          "base_uri": "https://localhost:8080/"
        },
        "id": "TzVIZMAQQEEr",
        "outputId": "f5348fea-17a1-49a5-d90c-0c40f4a61312"
      },
      "execution_count": 38,
      "outputs": [
        {
          "output_type": "execute_result",
          "data": {
            "text/plain": [
              "(tensor([1, 2, 3]),\n",
              " tensor([11, 12, 13]),\n",
              " tensor([10, 20, 30]),\n",
              " tensor([-9, -8, -7]))"
            ]
          },
          "metadata": {},
          "execution_count": 38
        }
      ]
    },
    {
      "cell_type": "code",
      "source": [
        "# Tryin PyTorch in-bulit functions\n",
        "torch.mul(tensor, 10 )"
      ],
      "metadata": {
        "colab": {
          "base_uri": "https://localhost:8080/"
        },
        "id": "EBlkyW1lP9Nu",
        "outputId": "92f67593-7be4-47c3-ebe7-26000fe5302e"
      },
      "execution_count": 39,
      "outputs": [
        {
          "output_type": "execute_result",
          "data": {
            "text/plain": [
              "tensor([10, 20, 30])"
            ]
          },
          "metadata": {},
          "execution_count": 39
        }
      ]
    },
    {
      "cell_type": "code",
      "source": [
        "torch.add(tensor, 10 )"
      ],
      "metadata": {
        "colab": {
          "base_uri": "https://localhost:8080/"
        },
        "id": "zZCzL0XVRXOw",
        "outputId": "2bad6710-b8de-4ca1-89da-dd942335dff0"
      },
      "execution_count": 40,
      "outputs": [
        {
          "output_type": "execute_result",
          "data": {
            "text/plain": [
              "tensor([11, 12, 13])"
            ]
          },
          "metadata": {},
          "execution_count": 40
        }
      ]
    },
    {
      "cell_type": "code",
      "source": [
        "torch.div(tensor,2)"
      ],
      "metadata": {
        "colab": {
          "base_uri": "https://localhost:8080/"
        },
        "id": "o_hKD2fPXefd",
        "outputId": "10c9149f-700e-4176-f8e3-c55a07568425"
      },
      "execution_count": 41,
      "outputs": [
        {
          "output_type": "execute_result",
          "data": {
            "text/plain": [
              "tensor([0.5000, 1.0000, 1.5000])"
            ]
          },
          "metadata": {},
          "execution_count": 41
        }
      ]
    },
    {
      "cell_type": "code",
      "source": [
        "tensor, torch.sub(tensor, 1), torch.sub(tensor, -1)"
      ],
      "metadata": {
        "colab": {
          "base_uri": "https://localhost:8080/"
        },
        "id": "sJj-Wv7bXjAP",
        "outputId": "a66af49a-0f12-4b8c-cf33-1f6fe303f391"
      },
      "execution_count": 42,
      "outputs": [
        {
          "output_type": "execute_result",
          "data": {
            "text/plain": [
              "(tensor([1, 2, 3]), tensor([0, 1, 2]), tensor([2, 3, 4]))"
            ]
          },
          "metadata": {},
          "execution_count": 42
        }
      ]
    },
    {
      "cell_type": "markdown",
      "source": [
        "### Matrix Multiplication\n",
        "\n",
        "Two ways of multipication in neural networks and deep learning:\n",
        "\n",
        "1. Element-wise multiplication\n",
        "2. Matrix multiplication (Dot product)\n",
        "\n",
        "Rules to matrix multiplication:\n",
        "1. **Inner dimensions** must match\n",
        "* `(3,2) @ (3,2)` will not work\n",
        "* `(3,2) @ (2,3)` will work\n",
        "* `(2,3) @ (3,2)` will work\n",
        "2. The resulting matrix has the shape of the **outer dimensions**\n",
        "* `(2,3) @ (3,2) => (2,2)`\n",
        "* `(3,2) @ (2,3) => (3,3)`\n",
        "\n"
      ],
      "metadata": {
        "id": "f90zeR95JcCU"
      }
    },
    {
      "cell_type": "code",
      "source": [
        "### Element-wise multiplication\n",
        "\n",
        "tensor * tensor"
      ],
      "metadata": {
        "colab": {
          "base_uri": "https://localhost:8080/"
        },
        "id": "wbJSdBnyJejj",
        "outputId": "e54c0019-7cf1-4d5f-d844-073bc6822cf4"
      },
      "execution_count": 43,
      "outputs": [
        {
          "output_type": "execute_result",
          "data": {
            "text/plain": [
              "tensor([1, 4, 9])"
            ]
          },
          "metadata": {},
          "execution_count": 43
        }
      ]
    },
    {
      "cell_type": "code",
      "source": [
        "### Matrix multiplication\n",
        "\n",
        "torch.matmul(tensor, tensor)"
      ],
      "metadata": {
        "colab": {
          "base_uri": "https://localhost:8080/"
        },
        "id": "FBHUIirtKjqK",
        "outputId": "f9e38514-68b9-4e48-ded7-a8fb6a78e2e8"
      },
      "execution_count": 44,
      "outputs": [
        {
          "output_type": "execute_result",
          "data": {
            "text/plain": [
              "tensor(14)"
            ]
          },
          "metadata": {},
          "execution_count": 44
        }
      ]
    },
    {
      "cell_type": "markdown",
      "source": [
        "### One of the most common errors is shape errors"
      ],
      "metadata": {
        "id": "3eApaJZhTN1Q"
      }
    },
    {
      "cell_type": "code",
      "source": [
        "\n",
        "torch.matmul(torch.rand(3,2), torch.rand(2,3))"
      ],
      "metadata": {
        "colab": {
          "base_uri": "https://localhost:8080/"
        },
        "id": "CMsFRkT2Tn6n",
        "outputId": "3340439c-cb52-482a-c9f3-24312c75d944"
      },
      "execution_count": 45,
      "outputs": [
        {
          "output_type": "execute_result",
          "data": {
            "text/plain": [
              "tensor([[0.8675, 0.7597, 0.6753],\n",
              "        [1.0924, 0.9645, 0.8570],\n",
              "        [0.7725, 0.5279, 0.4770]])"
            ]
          },
          "metadata": {},
          "execution_count": 45
        }
      ]
    },
    {
      "cell_type": "code",
      "source": [
        "A = torch.tensor([[1,2],\n",
        "                 [3,4],\n",
        "                 [5,6]])\n",
        "\n",
        "B = torch.tensor([[7,8],\n",
        "                 [9,10],\n",
        "                 [11,12]])\n",
        "\n",
        "torch.mm(A,B)  #short form of matmul"
      ],
      "metadata": {
        "colab": {
          "base_uri": "https://localhost:8080/",
          "height": 176
        },
        "id": "rFA_U5_eWby1",
        "outputId": "acccd128-4abb-4677-a85b-c8c496f7203c"
      },
      "execution_count": 47,
      "outputs": [
        {
          "output_type": "error",
          "ename": "RuntimeError",
          "evalue": "mat1 and mat2 shapes cannot be multiplied (3x2 and 3x2)",
          "traceback": [
            "\u001b[0;31m---------------------------------------------------------------------------\u001b[0m",
            "\u001b[0;31mRuntimeError\u001b[0m                              Traceback (most recent call last)",
            "\u001b[0;32m<ipython-input-47-c51200c19e32>\u001b[0m in \u001b[0;36m<cell line: 9>\u001b[0;34m()\u001b[0m\n\u001b[1;32m      7\u001b[0m                  [11,12]])\n\u001b[1;32m      8\u001b[0m \u001b[0;34m\u001b[0m\u001b[0m\n\u001b[0;32m----> 9\u001b[0;31m \u001b[0mtorch\u001b[0m\u001b[0;34m.\u001b[0m\u001b[0mmm\u001b[0m\u001b[0;34m(\u001b[0m\u001b[0mA\u001b[0m\u001b[0;34m,\u001b[0m\u001b[0mB\u001b[0m\u001b[0;34m)\u001b[0m  \u001b[0;31m#short form of matmul\u001b[0m\u001b[0;34m\u001b[0m\u001b[0;34m\u001b[0m\u001b[0m\n\u001b[0m",
            "\u001b[0;31mRuntimeError\u001b[0m: mat1 and mat2 shapes cannot be multiplied (3x2 and 3x2)"
          ]
        }
      ]
    },
    {
      "cell_type": "code",
      "source": [
        "B"
      ],
      "metadata": {
        "colab": {
          "base_uri": "https://localhost:8080/"
        },
        "id": "ctG18tseXa4D",
        "outputId": "8ba91551-6c1c-46be-a17e-4ab6f93caaef"
      },
      "execution_count": 48,
      "outputs": [
        {
          "output_type": "execute_result",
          "data": {
            "text/plain": [
              "tensor([[ 7,  8],\n",
              "        [ 9, 10],\n",
              "        [11, 12]])"
            ]
          },
          "metadata": {},
          "execution_count": 48
        }
      ]
    },
    {
      "cell_type": "code",
      "source": [
        "A.shape, B.shape"
      ],
      "metadata": {
        "colab": {
          "base_uri": "https://localhost:8080/"
        },
        "id": "intACr9WW7Od",
        "outputId": "da2f9168-e8ea-44e0-907f-60b0e9276922"
      },
      "execution_count": 49,
      "outputs": [
        {
          "output_type": "execute_result",
          "data": {
            "text/plain": [
              "(torch.Size([3, 2]), torch.Size([3, 2]))"
            ]
          },
          "metadata": {},
          "execution_count": 49
        }
      ]
    },
    {
      "cell_type": "markdown",
      "source": [
        "To fix the above error, we should transpose the matrix"
      ],
      "metadata": {
        "id": "C_cwMcgTW-9k"
      }
    },
    {
      "cell_type": "code",
      "source": [
        "B.T, B.T.shape # Transposing B matrix"
      ],
      "metadata": {
        "colab": {
          "base_uri": "https://localhost:8080/"
        },
        "id": "aesQf9aSXE6i",
        "outputId": "72fb4ded-e831-47d4-fe7e-a1603936c1c2"
      },
      "execution_count": 50,
      "outputs": [
        {
          "output_type": "execute_result",
          "data": {
            "text/plain": [
              "(tensor([[ 7,  9, 11],\n",
              "         [ 8, 10, 12]]),\n",
              " torch.Size([2, 3]))"
            ]
          },
          "metadata": {},
          "execution_count": 50
        }
      ]
    },
    {
      "cell_type": "code",
      "source": [
        "output = torch.mm(A,B.T) # B matrix is given asa transpose matrix\n",
        "\n",
        "output, output.shape"
      ],
      "metadata": {
        "colab": {
          "base_uri": "https://localhost:8080/"
        },
        "id": "2sh_Y6ipXHnx",
        "outputId": "92b553b4-b592-4d93-905f-4ec2450df7ac"
      },
      "execution_count": 51,
      "outputs": [
        {
          "output_type": "execute_result",
          "data": {
            "text/plain": [
              "(tensor([[ 23,  29,  35],\n",
              "         [ 53,  67,  81],\n",
              "         [ 83, 105, 127]]),\n",
              " torch.Size([3, 3]))"
            ]
          },
          "metadata": {},
          "execution_count": 51
        }
      ]
    },
    {
      "cell_type": "markdown",
      "source": [
        "FInding min, max, mean and sum"
      ],
      "metadata": {
        "id": "IWidUCpHYFzj"
      }
    },
    {
      "cell_type": "code",
      "source": [
        "x = torch.arange(0,100,10)\n",
        "x\n"
      ],
      "metadata": {
        "id": "AGXxcUHiZXTE",
        "colab": {
          "base_uri": "https://localhost:8080/"
        },
        "outputId": "ded06951-ca76-4e32-8dbf-597da64603dc"
      },
      "execution_count": 52,
      "outputs": [
        {
          "output_type": "execute_result",
          "data": {
            "text/plain": [
              "tensor([ 0, 10, 20, 30, 40, 50, 60, 70, 80, 90])"
            ]
          },
          "metadata": {},
          "execution_count": 52
        }
      ]
    },
    {
      "cell_type": "code",
      "source": [
        "# Maximumm value of the tensor\n",
        "torch.max(x), x.max()"
      ],
      "metadata": {
        "colab": {
          "base_uri": "https://localhost:8080/"
        },
        "id": "YM4EJzJiiy9a",
        "outputId": "fede9c0c-4954-4ac4-d348-51572ca4bd27"
      },
      "execution_count": 53,
      "outputs": [
        {
          "output_type": "execute_result",
          "data": {
            "text/plain": [
              "(tensor(90), tensor(90))"
            ]
          },
          "metadata": {},
          "execution_count": 53
        }
      ]
    },
    {
      "cell_type": "code",
      "source": [
        "# Minimumm value of the tensor\n",
        "torch.min(x), x.min()"
      ],
      "metadata": {
        "colab": {
          "base_uri": "https://localhost:8080/"
        },
        "outputId": "abfd4798-8026-448f-835d-512aed134e77",
        "id": "0ddpPvf7jwQZ"
      },
      "execution_count": 54,
      "outputs": [
        {
          "output_type": "execute_result",
          "data": {
            "text/plain": [
              "(tensor(0), tensor(0))"
            ]
          },
          "metadata": {},
          "execution_count": 54
        }
      ]
    },
    {
      "cell_type": "code",
      "source": [
        "# Mean of the tensor\n",
        "torch.mean(x.type(torch.float32)), x.type(torch.float32).mean()"
      ],
      "metadata": {
        "colab": {
          "base_uri": "https://localhost:8080/"
        },
        "id": "wIdR8643i2Ge",
        "outputId": "6c61c0ce-b1e1-4c7b-ddbb-b7a739e0a51b"
      },
      "execution_count": 55,
      "outputs": [
        {
          "output_type": "execute_result",
          "data": {
            "text/plain": [
              "(tensor(45.), tensor(45.))"
            ]
          },
          "metadata": {},
          "execution_count": 55
        }
      ]
    },
    {
      "cell_type": "markdown",
      "source": [
        "### Finding the position of the maximum and minimum value"
      ],
      "metadata": {
        "id": "JLjvuJc3kiyV"
      }
    },
    {
      "cell_type": "code",
      "source": [
        "### Finding the position of the maximum and minimum value\n",
        "\n",
        "x.argmin(), x[x.argmin()], x.argmax(), x[x.argmax()]"
      ],
      "metadata": {
        "colab": {
          "base_uri": "https://localhost:8080/"
        },
        "id": "9rUI56IRi7d8",
        "outputId": "89783083-2784-414d-b961-6a33e4a6c272"
      },
      "execution_count": 56,
      "outputs": [
        {
          "output_type": "execute_result",
          "data": {
            "text/plain": [
              "(tensor(0), tensor(0), tensor(9), tensor(90))"
            ]
          },
          "metadata": {},
          "execution_count": 56
        }
      ]
    },
    {
      "cell_type": "markdown",
      "source": [
        "### Reshaping, stacking, squeezing and unsqueezing tensors\n",
        "\n",
        "* Reshaping: reshapes an input tensor to a defined shape.\n",
        "* Viewing; Return a view of an input tensor of certain shape but keep the same memory as the original tensor.\n",
        "* Stacking: combine multiple tensors on top of each other(vstack) or side by side(hstack).\n",
        "* Squeeze: removes all `1` dimensions from a tensor.\n",
        "* Unsqueeze: add a `1` dimension to a target tensor.\n",
        "* permute: Retuirn a view of input with dimensions permuted (swapped) in a certain way.\n",
        "\n"
      ],
      "metadata": {
        "id": "aan8urnUkWsM"
      }
    },
    {
      "cell_type": "code",
      "source": [
        "# creating a tensor\n",
        "x = torch.arange(1.,9.)\n",
        "x, x.shape"
      ],
      "metadata": {
        "colab": {
          "base_uri": "https://localhost:8080/"
        },
        "id": "sagQCOaEkfzt",
        "outputId": "727507a7-44ee-4089-d369-85ce50051783"
      },
      "execution_count": 57,
      "outputs": [
        {
          "output_type": "execute_result",
          "data": {
            "text/plain": [
              "(tensor([1., 2., 3., 4., 5., 6., 7., 8.]), torch.Size([8]))"
            ]
          },
          "metadata": {},
          "execution_count": 57
        }
      ]
    },
    {
      "cell_type": "code",
      "source": [
        "x_reshape = x.reshape(1,8)\n",
        "x_reshape, x_reshape.shape"
      ],
      "metadata": {
        "colab": {
          "base_uri": "https://localhost:8080/"
        },
        "id": "tkxceWX8m95V",
        "outputId": "307a8c8c-af32-40b3-f313-d9f15849af01"
      },
      "execution_count": 58,
      "outputs": [
        {
          "output_type": "execute_result",
          "data": {
            "text/plain": [
              "(tensor([[1., 2., 3., 4., 5., 6., 7., 8.]]), torch.Size([1, 8]))"
            ]
          },
          "metadata": {},
          "execution_count": 58
        }
      ]
    },
    {
      "cell_type": "code",
      "source": [
        "# Creating and changing the view\n",
        "z = x.view(1,8)\n",
        "z, z.shape"
      ],
      "metadata": {
        "colab": {
          "base_uri": "https://localhost:8080/"
        },
        "id": "VU1lYNLynI_2",
        "outputId": "b73b67f4-98c1-43f0-ad2d-26fbfd5de760"
      },
      "execution_count": 59,
      "outputs": [
        {
          "output_type": "execute_result",
          "data": {
            "text/plain": [
              "(tensor([[1., 2., 3., 4., 5., 6., 7., 8.]]), torch.Size([1, 8]))"
            ]
          },
          "metadata": {},
          "execution_count": 59
        }
      ]
    },
    {
      "cell_type": "code",
      "source": [
        "# changing z changes x (because view shares same memory of x)\n",
        "\n",
        "z[0][0] = 5\n",
        "z, x"
      ],
      "metadata": {
        "colab": {
          "base_uri": "https://localhost:8080/"
        },
        "id": "dnzxSQ_Qntez",
        "outputId": "16127234-a6e0-4c79-b1d3-f1eddc8261f0"
      },
      "execution_count": 60,
      "outputs": [
        {
          "output_type": "execute_result",
          "data": {
            "text/plain": [
              "(tensor([[5., 2., 3., 4., 5., 6., 7., 8.]]),\n",
              " tensor([5., 2., 3., 4., 5., 6., 7., 8.]))"
            ]
          },
          "metadata": {},
          "execution_count": 60
        }
      ]
    },
    {
      "cell_type": "code",
      "source": [
        "# Stacking the tensor\n",
        "\n",
        "x_stackedh = torch.stack([x,x,x,x], dim = 0)\n",
        "x_stackedv = torch.stack([x,x,x,x], dim = 1)\n",
        "\n",
        "x_stackedh, x_stackedv"
      ],
      "metadata": {
        "colab": {
          "base_uri": "https://localhost:8080/"
        },
        "id": "JjvFKzSIoORl",
        "outputId": "dd167356-5477-47cc-d49d-c8db7e329dce"
      },
      "execution_count": 61,
      "outputs": [
        {
          "output_type": "execute_result",
          "data": {
            "text/plain": [
              "(tensor([[5., 2., 3., 4., 5., 6., 7., 8.],\n",
              "         [5., 2., 3., 4., 5., 6., 7., 8.],\n",
              "         [5., 2., 3., 4., 5., 6., 7., 8.],\n",
              "         [5., 2., 3., 4., 5., 6., 7., 8.]]),\n",
              " tensor([[5., 5., 5., 5.],\n",
              "         [2., 2., 2., 2.],\n",
              "         [3., 3., 3., 3.],\n",
              "         [4., 4., 4., 4.],\n",
              "         [5., 5., 5., 5.],\n",
              "         [6., 6., 6., 6.],\n",
              "         [7., 7., 7., 7.],\n",
              "         [8., 8., 8., 8.]]))"
            ]
          },
          "metadata": {},
          "execution_count": 61
        }
      ]
    },
    {
      "cell_type": "markdown",
      "source": [
        "### Squeezing and unsqueezing"
      ],
      "metadata": {
        "id": "41uJDnrOo3q9"
      }
    },
    {
      "cell_type": "code",
      "source": [
        "x_reshape, x_reshape.shape, x_reshape.squeeze(), x_reshape.squeeze().shape"
      ],
      "metadata": {
        "colab": {
          "base_uri": "https://localhost:8080/"
        },
        "id": "JWIUc0JBoo-u",
        "outputId": "ce01aa91-be89-4269-d253-d28beb4b2077"
      },
      "execution_count": 62,
      "outputs": [
        {
          "output_type": "execute_result",
          "data": {
            "text/plain": [
              "(tensor([[5., 2., 3., 4., 5., 6., 7., 8.]]),\n",
              " torch.Size([1, 8]),\n",
              " tensor([5., 2., 3., 4., 5., 6., 7., 8.]),\n",
              " torch.Size([8]))"
            ]
          },
          "metadata": {},
          "execution_count": 62
        }
      ]
    },
    {
      "cell_type": "code",
      "source": [
        "x = torch.zeros(2, 1, 2, 1, 2)\n",
        "x, x.shape"
      ],
      "metadata": {
        "colab": {
          "base_uri": "https://localhost:8080/"
        },
        "id": "14XPK-tOqWYE",
        "outputId": "4b0e4b9b-84f2-44e6-82cc-64f59d644876"
      },
      "execution_count": 63,
      "outputs": [
        {
          "output_type": "execute_result",
          "data": {
            "text/plain": [
              "(tensor([[[[[0., 0.]],\n",
              " \n",
              "           [[0., 0.]]]],\n",
              " \n",
              " \n",
              " \n",
              "         [[[[0., 0.]],\n",
              " \n",
              "           [[0., 0.]]]]]),\n",
              " torch.Size([2, 1, 2, 1, 2]))"
            ]
          },
          "metadata": {},
          "execution_count": 63
        }
      ]
    },
    {
      "cell_type": "code",
      "source": [
        "y = torch.squeeze(x)\n",
        "y, y.size()"
      ],
      "metadata": {
        "colab": {
          "base_uri": "https://localhost:8080/"
        },
        "id": "E8b1OJ1Pq-oY",
        "outputId": "519ba2fc-fcc1-409c-a079-2313b7ef451a"
      },
      "execution_count": 64,
      "outputs": [
        {
          "output_type": "execute_result",
          "data": {
            "text/plain": [
              "(tensor([[[0., 0.],\n",
              "          [0., 0.]],\n",
              " \n",
              "         [[0., 0.],\n",
              "          [0., 0.]]]),\n",
              " torch.Size([2, 2, 2]))"
            ]
          },
          "metadata": {},
          "execution_count": 64
        }
      ]
    },
    {
      "cell_type": "code",
      "source": [
        "y = torch.squeeze(x,0)\n",
        "y.size()"
      ],
      "metadata": {
        "colab": {
          "base_uri": "https://localhost:8080/"
        },
        "id": "lEGGTrKZrEBf",
        "outputId": "06c90eef-98fe-4880-d35c-b4055dd38726"
      },
      "execution_count": 65,
      "outputs": [
        {
          "output_type": "execute_result",
          "data": {
            "text/plain": [
              "torch.Size([2, 1, 2, 1, 2])"
            ]
          },
          "metadata": {},
          "execution_count": 65
        }
      ]
    },
    {
      "cell_type": "code",
      "source": [
        "y=torch.squeeze(x,1)\n",
        "y.size()"
      ],
      "metadata": {
        "colab": {
          "base_uri": "https://localhost:8080/"
        },
        "id": "VbfsPu5PrE2g",
        "outputId": "0e851c0f-f1d6-4cac-f513-b9fb1a669271"
      },
      "execution_count": 66,
      "outputs": [
        {
          "output_type": "execute_result",
          "data": {
            "text/plain": [
              "torch.Size([2, 2, 1, 2])"
            ]
          },
          "metadata": {},
          "execution_count": 66
        }
      ]
    },
    {
      "cell_type": "code",
      "source": [
        "y = torch.squeeze(x, (1, 2, 3))\n",
        "y.shape"
      ],
      "metadata": {
        "colab": {
          "base_uri": "https://localhost:8080/"
        },
        "id": "YLyePNYzrO-R",
        "outputId": "67c25841-954c-45e3-e37c-b212c939fb35"
      },
      "execution_count": 67,
      "outputs": [
        {
          "output_type": "execute_result",
          "data": {
            "text/plain": [
              "torch.Size([2, 2, 2])"
            ]
          },
          "metadata": {},
          "execution_count": 67
        }
      ]
    },
    {
      "cell_type": "code",
      "source": [
        "y, torch.unsqueeze(y, dim=2), torch.unsqueeze(y, dim = 2).shape"
      ],
      "metadata": {
        "colab": {
          "base_uri": "https://localhost:8080/"
        },
        "id": "QBOGh5wirTky",
        "outputId": "115c2e78-20e1-4065-9dfe-3224f82ca901"
      },
      "execution_count": 68,
      "outputs": [
        {
          "output_type": "execute_result",
          "data": {
            "text/plain": [
              "(tensor([[[0., 0.],\n",
              "          [0., 0.]],\n",
              " \n",
              "         [[0., 0.],\n",
              "          [0., 0.]]]),\n",
              " tensor([[[[0., 0.]],\n",
              " \n",
              "          [[0., 0.]]],\n",
              " \n",
              " \n",
              "         [[[0., 0.]],\n",
              " \n",
              "          [[0., 0.]]]]),\n",
              " torch.Size([2, 2, 1, 2]))"
            ]
          },
          "metadata": {},
          "execution_count": 68
        }
      ]
    },
    {
      "cell_type": "code",
      "source": [
        "# torch.permute - rearranges the dimensions of a target tensor in a specified order\n",
        "\n",
        "x_original = torch.rand(size= (244,244, 3))\n",
        "\n",
        "# permuting the tensor\n",
        "x_permuted = x_original.permute(2,0,1)\n",
        "x_original.shape, x_permuted.shape"
      ],
      "metadata": {
        "colab": {
          "base_uri": "https://localhost:8080/"
        },
        "id": "YF5brkqQr5B4",
        "outputId": "7f5044e1-ac3f-4191-9d1c-db7f2d67bdf4"
      },
      "execution_count": 69,
      "outputs": [
        {
          "output_type": "execute_result",
          "data": {
            "text/plain": [
              "(torch.Size([244, 244, 3]), torch.Size([3, 244, 244]))"
            ]
          },
          "metadata": {},
          "execution_count": 69
        }
      ]
    },
    {
      "cell_type": "code",
      "source": [
        "x_original[0, 0, 0] = 0.21\n",
        "x_original"
      ],
      "metadata": {
        "colab": {
          "base_uri": "https://localhost:8080/"
        },
        "id": "wLTgkW_KtZpH",
        "outputId": "de682a48-b8e2-4d82-e075-6b26f389f413"
      },
      "execution_count": 70,
      "outputs": [
        {
          "output_type": "execute_result",
          "data": {
            "text/plain": [
              "tensor([[[0.2100, 0.4016, 0.7986],\n",
              "         [0.3787, 0.0945, 0.2592],\n",
              "         [0.7735, 0.2525, 0.1130],\n",
              "         ...,\n",
              "         [0.1979, 0.8070, 0.3575],\n",
              "         [0.2731, 0.8148, 0.5784],\n",
              "         [0.9336, 0.0991, 0.6185]],\n",
              "\n",
              "        [[0.8884, 0.8567, 0.0267],\n",
              "         [0.5294, 0.4636, 0.3921],\n",
              "         [0.6121, 0.9806, 0.8197],\n",
              "         ...,\n",
              "         [0.6767, 0.6090, 0.3063],\n",
              "         [0.1140, 0.4835, 0.6215],\n",
              "         [0.5083, 0.5446, 0.1374]],\n",
              "\n",
              "        [[0.6144, 0.5251, 0.6699],\n",
              "         [0.3991, 0.3856, 0.8498],\n",
              "         [0.2407, 0.1284, 0.4580],\n",
              "         ...,\n",
              "         [0.4491, 0.8247, 0.9952],\n",
              "         [0.2885, 0.7239, 0.2871],\n",
              "         [0.6778, 0.8213, 0.8825]],\n",
              "\n",
              "        ...,\n",
              "\n",
              "        [[0.7284, 0.0432, 0.7024],\n",
              "         [0.2485, 0.8638, 0.8475],\n",
              "         [0.0546, 0.9997, 0.5937],\n",
              "         ...,\n",
              "         [0.9663, 0.6731, 0.0352],\n",
              "         [0.6293, 0.4923, 0.9238],\n",
              "         [0.3482, 0.9514, 0.0134]],\n",
              "\n",
              "        [[0.2902, 0.8340, 0.8099],\n",
              "         [0.8373, 0.4586, 0.6438],\n",
              "         [0.5312, 0.0352, 0.8346],\n",
              "         ...,\n",
              "         [0.0107, 0.1702, 0.6757],\n",
              "         [0.1574, 0.3424, 0.3673],\n",
              "         [0.9126, 0.4337, 0.0871]],\n",
              "\n",
              "        [[0.8143, 0.8541, 0.8516],\n",
              "         [0.2702, 0.9058, 0.9516],\n",
              "         [0.4233, 0.8975, 0.2129],\n",
              "         ...,\n",
              "         [0.6083, 0.3303, 0.4354],\n",
              "         [0.7661, 0.0505, 0.4546],\n",
              "         [0.2372, 0.5963, 0.9043]]])"
            ]
          },
          "metadata": {},
          "execution_count": 70
        }
      ]
    },
    {
      "cell_type": "markdown",
      "source": [
        "### Indexing\n",
        "\n",
        "Same as numpy\n"
      ],
      "metadata": {
        "id": "uPSc4JJ5uCIU"
      }
    },
    {
      "cell_type": "code",
      "source": [
        "import torch\n",
        "x = torch.arange(1,10).reshape(1,3,3)\n",
        "x, x.shape\n"
      ],
      "metadata": {
        "colab": {
          "base_uri": "https://localhost:8080/"
        },
        "id": "7UN1bvR9uVIf",
        "outputId": "a9edb794-89c4-460e-edda-bb5e4c046f1f"
      },
      "execution_count": 71,
      "outputs": [
        {
          "output_type": "execute_result",
          "data": {
            "text/plain": [
              "(tensor([[[1, 2, 3],\n",
              "          [4, 5, 6],\n",
              "          [7, 8, 9]]]),\n",
              " torch.Size([1, 3, 3]))"
            ]
          },
          "metadata": {},
          "execution_count": 71
        }
      ]
    },
    {
      "cell_type": "code",
      "source": [
        "x[0], x[0,0], x[0][0], x[0][0][0], x[0,0,0]"
      ],
      "metadata": {
        "colab": {
          "base_uri": "https://localhost:8080/"
        },
        "id": "bLMJV776uj1y",
        "outputId": "03652048-f78c-4fb8-aeae-3db6c1401eed"
      },
      "execution_count": 72,
      "outputs": [
        {
          "output_type": "execute_result",
          "data": {
            "text/plain": [
              "(tensor([[1, 2, 3],\n",
              "         [4, 5, 6],\n",
              "         [7, 8, 9]]),\n",
              " tensor([1, 2, 3]),\n",
              " tensor([1, 2, 3]),\n",
              " tensor(1),\n",
              " tensor(1))"
            ]
          },
          "metadata": {},
          "execution_count": 72
        }
      ]
    },
    {
      "cell_type": "code",
      "source": [
        "x[:]"
      ],
      "metadata": {
        "colab": {
          "base_uri": "https://localhost:8080/"
        },
        "id": "_hjSdUuhv78A",
        "outputId": "2a92ff98-5b56-4119-fd03-96a0ab29bbe9"
      },
      "execution_count": 73,
      "outputs": [
        {
          "output_type": "execute_result",
          "data": {
            "text/plain": [
              "tensor([[[1, 2, 3],\n",
              "         [4, 5, 6],\n",
              "         [7, 8, 9]]])"
            ]
          },
          "metadata": {},
          "execution_count": 73
        }
      ]
    },
    {
      "cell_type": "code",
      "source": [
        " x[:,0]"
      ],
      "metadata": {
        "colab": {
          "base_uri": "https://localhost:8080/"
        },
        "id": "7-gJKuPbuwG2",
        "outputId": "98e4038f-7e5e-4bf0-8a56-2da5df4f8262"
      },
      "execution_count": 74,
      "outputs": [
        {
          "output_type": "execute_result",
          "data": {
            "text/plain": [
              "tensor([[1, 2, 3]])"
            ]
          },
          "metadata": {},
          "execution_count": 74
        }
      ]
    },
    {
      "cell_type": "code",
      "source": [
        "# Get all values of 0th and 1st dimensions but only index 1 of 2nd dimension\n",
        "x[:, :, 1]"
      ],
      "metadata": {
        "colab": {
          "base_uri": "https://localhost:8080/"
        },
        "id": "4SztpK39vtrY",
        "outputId": "3a91606b-3690-4e8e-b800-12a265dc139a"
      },
      "execution_count": 75,
      "outputs": [
        {
          "output_type": "execute_result",
          "data": {
            "text/plain": [
              "tensor([[2, 5, 8]])"
            ]
          },
          "metadata": {},
          "execution_count": 75
        }
      ]
    },
    {
      "cell_type": "code",
      "source": [
        "# Get all values of the 0 dimension but only the 1 index value of 1st and 2nd dimension\n",
        "x[:, 1,1 ]"
      ],
      "metadata": {
        "colab": {
          "base_uri": "https://localhost:8080/"
        },
        "id": "ODM1AzXLwDA5",
        "outputId": "afd1731b-3bb1-469e-cdbd-3d6232d3d88f"
      },
      "execution_count": 76,
      "outputs": [
        {
          "output_type": "execute_result",
          "data": {
            "text/plain": [
              "tensor([5])"
            ]
          },
          "metadata": {},
          "execution_count": 76
        }
      ]
    },
    {
      "cell_type": "code",
      "source": [
        "# Get index 0 of 0th and 1st dimension and all values of 2nd dimension\n",
        "x[0,0,:]"
      ],
      "metadata": {
        "colab": {
          "base_uri": "https://localhost:8080/"
        },
        "id": "E3pXjwC2wbl0",
        "outputId": "17834916-57a3-4dc1-cea1-744ee76c769b"
      },
      "execution_count": 77,
      "outputs": [
        {
          "output_type": "execute_result",
          "data": {
            "text/plain": [
              "tensor([1, 2, 3])"
            ]
          },
          "metadata": {},
          "execution_count": 77
        }
      ]
    },
    {
      "cell_type": "code",
      "source": [
        "#Index on x to return 9, Index on x to return 3, 6, 9\n",
        "x[0,2,2], x[0, :, 2]"
      ],
      "metadata": {
        "colab": {
          "base_uri": "https://localhost:8080/"
        },
        "id": "O9D7j6ylw6Qe",
        "outputId": "91c17532-12e4-467e-e24a-5a9365d410e4"
      },
      "execution_count": 78,
      "outputs": [
        {
          "output_type": "execute_result",
          "data": {
            "text/plain": [
              "(tensor(9), tensor([3, 6, 9]))"
            ]
          },
          "metadata": {},
          "execution_count": 78
        }
      ]
    },
    {
      "cell_type": "markdown",
      "source": [
        "  ## PyTorch tesnors and NumPy\n",
        "  PyTorch has functionality to interact with NumPy array\n",
        "\n",
        "  NumPy -> PyTorch`torch.from_numpy(ndarray)`\n",
        "  \n",
        "  PyTorch -> NumPy `torch.Tensor.numpy()`"
      ],
      "metadata": {
        "id": "nbyfSMl5xPyR"
      }
    },
    {
      "cell_type": "code",
      "source": [
        "import torch, numpy\n",
        "\n",
        "array = numpy.arange(1,10)\n",
        "tensor = torch.arange(1,10)\n",
        "\n",
        "array, tensor"
      ],
      "metadata": {
        "colab": {
          "base_uri": "https://localhost:8080/"
        },
        "id": "sesbLykQ5BPr",
        "outputId": "3c6bb2b2-9a46-48c8-b6ba-1a74174a17d4"
      },
      "execution_count": 79,
      "outputs": [
        {
          "output_type": "execute_result",
          "data": {
            "text/plain": [
              "(array([1, 2, 3, 4, 5, 6, 7, 8, 9]), tensor([1, 2, 3, 4, 5, 6, 7, 8, 9]))"
            ]
          },
          "metadata": {},
          "execution_count": 79
        }
      ]
    },
    {
      "cell_type": "code",
      "source": [
        "array_tensor = torch.from_numpy(array) # it reflects numpy's default float32 dtype\n",
        "\n",
        "tensor_array = tensor.numpy()\n",
        "\n",
        "array_tensor, tensor_array"
      ],
      "metadata": {
        "colab": {
          "base_uri": "https://localhost:8080/"
        },
        "id": "cRZIVsrK5oyY",
        "outputId": "db399c70-e9f4-436f-eb19-18262860ac18"
      },
      "execution_count": 80,
      "outputs": [
        {
          "output_type": "execute_result",
          "data": {
            "text/plain": [
              "(tensor([1, 2, 3, 4, 5, 6, 7, 8, 9]), array([1, 2, 3, 4, 5, 6, 7, 8, 9]))"
            ]
          },
          "metadata": {},
          "execution_count": 80
        }
      ]
    },
    {
      "cell_type": "markdown",
      "source": [
        "# Reproducbility (trying to take random out of random)\n",
        "In short how a neural network learns :\n",
        "\n",
        "`start with random numbers —> tensor operations —> update random numbers to try and\n",
        "make them better representations of the data —> again —> again —> again...`\n",
        "\n",
        "To reduce the randomness in neural networks and Pytorch comes the concept of a **random seed**\n",
        "\n",
        "Essentially what the random seed does in \"flavour\" the randomness\n"
      ],
      "metadata": {
        "id": "sNR8lzYN51U6"
      }
    },
    {
      "cell_type": "code",
      "source": [
        "import torch\n",
        "\n",
        "## two random tensors\n",
        "\n",
        "rand_a = torch.rand(3,4)\n",
        "rand_b = torch.rand(3,4)\n",
        "\n",
        "rand_a, rand_b, rand_a == rand_b"
      ],
      "metadata": {
        "colab": {
          "base_uri": "https://localhost:8080/"
        },
        "id": "NrVwpprj7d-9",
        "outputId": "ddfcfed0-eb14-4162-b072-181b27d82e04"
      },
      "execution_count": 81,
      "outputs": [
        {
          "output_type": "execute_result",
          "data": {
            "text/plain": [
              "(tensor([[0.0299, 0.7565, 0.8855, 0.0025],\n",
              "         [0.8214, 0.3340, 0.0529, 0.3562],\n",
              "         [0.4824, 0.1861, 0.7656, 0.9093]]),\n",
              " tensor([[0.4843, 0.0402, 0.0468, 0.5368],\n",
              "         [0.3990, 0.3295, 0.9383, 1.0000],\n",
              "         [0.9106, 0.0052, 0.8317, 0.8203]]),\n",
              " tensor([[False, False, False, False],\n",
              "         [False, False, False, False],\n",
              "         [False, False, False, False]]))"
            ]
          },
          "metadata": {},
          "execution_count": 81
        }
      ]
    },
    {
      "cell_type": "code",
      "source": [
        "# Make some reproducible random tensors\n",
        "\n",
        "random_seed = 32\n",
        "\n",
        "torch.manual_seed(random_seed)\n",
        "rand_c = torch.rand(3,4)\n",
        "\n",
        "torch.manual_seed(random_seed)\n",
        "rand_d = torch.rand(3,4)\n",
        "\n",
        "rand_c, rand_d, rand_c == rand_d"
      ],
      "metadata": {
        "colab": {
          "base_uri": "https://localhost:8080/"
        },
        "id": "2SZv889e71ub",
        "outputId": "69f415b5-10d4-4729-e3f2-a6f22aea87a2"
      },
      "execution_count": 82,
      "outputs": [
        {
          "output_type": "execute_result",
          "data": {
            "text/plain": [
              "(tensor([[0.8757, 0.2721, 0.4141, 0.7857],\n",
              "         [0.1130, 0.5793, 0.6481, 0.0229],\n",
              "         [0.5874, 0.3254, 0.9485, 0.5219]]),\n",
              " tensor([[0.8757, 0.2721, 0.4141, 0.7857],\n",
              "         [0.1130, 0.5793, 0.6481, 0.0229],\n",
              "         [0.5874, 0.3254, 0.9485, 0.5219]]),\n",
              " tensor([[True, True, True, True],\n",
              "         [True, True, True, True],\n",
              "         [True, True, True, True]]))"
            ]
          },
          "metadata": {},
          "execution_count": 82
        }
      ]
    },
    {
      "cell_type": "markdown",
      "source": [
        "## Running tensors and PyTorch objects on the GPU and making faster computations\n",
        "\n",
        "### 1.  Getting the GPU\n",
        "  1. Google colab\n",
        "  2. Local GPU\n",
        "  3. On cloud"
      ],
      "metadata": {
        "id": "-TLuNVpm9NMR"
      }
    },
    {
      "cell_type": "code",
      "source": [
        "!nvidia-smi"
      ],
      "metadata": {
        "colab": {
          "base_uri": "https://localhost:8080/"
        },
        "id": "aTrIrLAc_J-7",
        "outputId": "3ecc6532-311c-45a3-d540-2a0bcb6584a0"
      },
      "execution_count": 83,
      "outputs": [
        {
          "output_type": "stream",
          "name": "stdout",
          "text": [
            "/bin/bash: line 1: nvidia-smi: command not found\n"
          ]
        }
      ]
    },
    {
      "cell_type": "markdown",
      "source": [
        "### 2. Check GPU access with PyTorch"
      ],
      "metadata": {
        "id": "u7a2rUL8_Rzd"
      }
    },
    {
      "cell_type": "code",
      "source": [
        "# Checking for GPU acces with PyTorch\n",
        "\n",
        "import torch\n",
        "torch.cuda.is_available()"
      ],
      "metadata": {
        "colab": {
          "base_uri": "https://localhost:8080/"
        },
        "id": "WIwfNwmM_mDK",
        "outputId": "31cef6fe-22b6-4f1d-9d2d-ef628054006f"
      },
      "execution_count": 84,
      "outputs": [
        {
          "output_type": "execute_result",
          "data": {
            "text/plain": [
              "False"
            ]
          },
          "metadata": {},
          "execution_count": 84
        }
      ]
    },
    {
      "cell_type": "markdown",
      "source": [
        "For PyTorch since it's capable of running compute on the CPU or GPU, it's best practice to setup device agnostic code"
      ],
      "metadata": {
        "id": "gkm1JPM2AW0D"
      }
    },
    {
      "cell_type": "code",
      "source": [
        "# Setup device agnostic code\n",
        "\n",
        "device = \"cuda\" if torch.cuda.is_available() else \"cpu\"\n",
        "device"
      ],
      "metadata": {
        "colab": {
          "base_uri": "https://localhost:8080/",
          "height": 35
        },
        "id": "VssJRzyx_t3g",
        "outputId": "fab26992-f87f-4893-ac24-208fc5d21a99"
      },
      "execution_count": 85,
      "outputs": [
        {
          "output_type": "execute_result",
          "data": {
            "text/plain": [
              "'cpu'"
            ],
            "application/vnd.google.colaboratory.intrinsic+json": {
              "type": "string"
            }
          },
          "metadata": {},
          "execution_count": 85
        }
      ]
    },
    {
      "cell_type": "code",
      "source": [
        "# Count the nuber of devices\n",
        "torch.cuda.device_count()"
      ],
      "metadata": {
        "colab": {
          "base_uri": "https://localhost:8080/"
        },
        "id": "mchajz7OAEjb",
        "outputId": "50f323bc-59ff-47bb-e9e2-a5b9648776b8"
      },
      "execution_count": 86,
      "outputs": [
        {
          "output_type": "execute_result",
          "data": {
            "text/plain": [
              "0"
            ]
          },
          "metadata": {},
          "execution_count": 86
        }
      ]
    },
    {
      "cell_type": "markdown",
      "source": [
        "### 3. Putting tensors on the GPU"
      ],
      "metadata": {
        "id": "PpafvOHfAKy8"
      }
    },
    {
      "cell_type": "code",
      "source": [
        "tensor = torch.tensor([1,2,3])\n",
        "\n",
        "tensor, tensor.device"
      ],
      "metadata": {
        "colab": {
          "base_uri": "https://localhost:8080/"
        },
        "id": "E3-s8GwjBHM6",
        "outputId": "6ac5cca4-cee5-429c-e06c-8addab0cc0ec"
      },
      "execution_count": 87,
      "outputs": [
        {
          "output_type": "execute_result",
          "data": {
            "text/plain": [
              "(tensor([1, 2, 3]), device(type='cpu'))"
            ]
          },
          "metadata": {},
          "execution_count": 87
        }
      ]
    },
    {
      "cell_type": "code",
      "source": [
        "tensor_gpu = tensor.to(device)\n",
        "\n",
        "tensor_gpu"
      ],
      "metadata": {
        "colab": {
          "base_uri": "https://localhost:8080/"
        },
        "id": "T5Z8w6mRBS00",
        "outputId": "7caec189-d0b1-4fc9-dc11-03b4c944be2d"
      },
      "execution_count": 88,
      "outputs": [
        {
          "output_type": "execute_result",
          "data": {
            "text/plain": [
              "tensor([1, 2, 3])"
            ]
          },
          "metadata": {},
          "execution_count": 88
        }
      ]
    },
    {
      "cell_type": "markdown",
      "source": [
        "### 4. Moving tensors back to CPU"
      ],
      "metadata": {
        "id": "WgyAcdCYCAz0"
      }
    },
    {
      "cell_type": "code",
      "source": [
        "tensor_gpu.numpy()"
      ],
      "metadata": {
        "colab": {
          "base_uri": "https://localhost:8080/"
        },
        "id": "rcHZCaFLBcrU",
        "outputId": "b45c29c0-134d-4b42-9ebc-cb5dfe0ba0ae"
      },
      "execution_count": 89,
      "outputs": [
        {
          "output_type": "execute_result",
          "data": {
            "text/plain": [
              "array([1, 2, 3])"
            ]
          },
          "metadata": {},
          "execution_count": 89
        }
      ]
    },
    {
      "cell_type": "code",
      "source": [
        "tensor_back_cpu = tensor_gpu.cpu()\n",
        "\n",
        "tensor_back_cpu.numpy()"
      ],
      "metadata": {
        "colab": {
          "base_uri": "https://localhost:8080/"
        },
        "id": "NQqCYZoDB9LO",
        "outputId": "29cd762d-fc7a-4f39-8ed3-39705343dce2"
      },
      "execution_count": 90,
      "outputs": [
        {
          "output_type": "execute_result",
          "data": {
            "text/plain": [
              "array([1, 2, 3])"
            ]
          },
          "metadata": {},
          "execution_count": 90
        }
      ]
    },
    {
      "cell_type": "markdown",
      "source": [
        "# PyTorch Workflow\n",
        "\n",
        "Let's explore a an example PyTorch ene-to-end Workflow\n"
      ],
      "metadata": {
        "id": "hHndicHXZRSo"
      }
    },
    {
      "cell_type": "code",
      "source": [
        "workflow  = {1: \"Data preparation\",\n",
        "             2: \"Build model\",\n",
        "             3: \"Fitting the model to data\",\n",
        "             4: \"making predictions and evaluating a model\",\n",
        "             5: \"saving and loading a model\",\n",
        "             6: \"Putting it all together\"}\n",
        "workflow"
      ],
      "metadata": {
        "colab": {
          "base_uri": "https://localhost:8080/"
        },
        "id": "JNkw1ShlZT4I",
        "outputId": "06bff171-807e-405c-8d7e-88c763ff0b58"
      },
      "execution_count": 91,
      "outputs": [
        {
          "output_type": "execute_result",
          "data": {
            "text/plain": [
              "{1: 'Data preparation',\n",
              " 2: 'Build model',\n",
              " 3: 'Fitting the model to data',\n",
              " 4: 'making predictions and evaluating a model',\n",
              " 5: 'saving and loading a model',\n",
              " 6: 'Putting it all together'}"
            ]
          },
          "metadata": {},
          "execution_count": 91
        }
      ]
    },
    {
      "cell_type": "code",
      "source": [
        "import torch\n",
        "from torch import nn\n",
        "import matplotlib.pyplot as plt\n",
        "\n",
        "torch.__version__"
      ],
      "metadata": {
        "colab": {
          "base_uri": "https://localhost:8080/",
          "height": 35
        },
        "id": "1UrGvlQ1bQD9",
        "outputId": "4015944f-edfd-40f8-9a22-e03e3154b5ad"
      },
      "execution_count": 92,
      "outputs": [
        {
          "output_type": "execute_result",
          "data": {
            "text/plain": [
              "'2.1.0+cu121'"
            ],
            "application/vnd.google.colaboratory.intrinsic+json": {
              "type": "string"
            }
          },
          "metadata": {},
          "execution_count": 92
        }
      ]
    },
    {
      "cell_type": "markdown",
      "source": [
        "\n",
        "## Data Preparation\n",
        "\n",
        "Data can be anything\n",
        "\n",
        "* Excel\n",
        "* Images\n",
        "* Videos\n",
        "* Audio\n",
        "* DNA\n",
        "* Text\n",
        "\n",
        "Machine learning is a game of two parts:\n",
        "1. Get data into a numerical representation.\n",
        "2. Build a model to learn patterns in that numerical representation.\n"
      ],
      "metadata": {
        "id": "ErHdkTy8dOLC"
      }
    },
    {
      "cell_type": "markdown",
      "source": [
        "Creating some data using the linear regression formula.\n",
        "\n",
        "We'll use a linear regression formaula to make a straight line with known parameters.\n"
      ],
      "metadata": {
        "id": "jQU46BrdfJiA"
      }
    },
    {
      "cell_type": "code",
      "source": [
        "weight = 0.7 #intercept\n",
        "bias = 0.3 #slope\n",
        "\n",
        "x= torch.arange(0, 1, 0.02).unsqueeze(dim=1)\n",
        "y= weight*x + bias\n",
        "\n",
        "x[:10], y[:10], len(x), len(y)\n"
      ],
      "metadata": {
        "colab": {
          "base_uri": "https://localhost:8080/"
        },
        "id": "O7ciw8qAdcPy",
        "outputId": "e0a4fa3e-e78a-4514-a20f-56d9bea8dc9d"
      },
      "execution_count": 93,
      "outputs": [
        {
          "output_type": "execute_result",
          "data": {
            "text/plain": [
              "(tensor([[0.0000],\n",
              "         [0.0200],\n",
              "         [0.0400],\n",
              "         [0.0600],\n",
              "         [0.0800],\n",
              "         [0.1000],\n",
              "         [0.1200],\n",
              "         [0.1400],\n",
              "         [0.1600],\n",
              "         [0.1800]]),\n",
              " tensor([[0.3000],\n",
              "         [0.3140],\n",
              "         [0.3280],\n",
              "         [0.3420],\n",
              "         [0.3560],\n",
              "         [0.3700],\n",
              "         [0.3840],\n",
              "         [0.3980],\n",
              "         [0.4120],\n",
              "         [0.4260]]),\n",
              " 50,\n",
              " 50)"
            ]
          },
          "metadata": {},
          "execution_count": 93
        }
      ]
    },
    {
      "cell_type": "markdown",
      "source": [
        " ### Splitting data into training and test sets"
      ],
      "metadata": {
        "id": "ANAkoFrDgjqJ"
      }
    },
    {
      "cell_type": "code",
      "source": [
        "# Creating train and test sets\n",
        "\n",
        "train_split = int(0.8*len(x))\n",
        "\n",
        "x_train, y_train = x[:train_split], y[:train_split]\n",
        "x_test, y_test = x[train_split:], y[train_split:]\n",
        "\n",
        "\n",
        "len(x_train), len(y_train), len(y_train), len(y_test)"
      ],
      "metadata": {
        "colab": {
          "base_uri": "https://localhost:8080/"
        },
        "id": "xpn_AwB1m4cx",
        "outputId": "377b0529-dc26-4369-a8b5-7af8c4c0528e"
      },
      "execution_count": 94,
      "outputs": [
        {
          "output_type": "execute_result",
          "data": {
            "text/plain": [
              "(40, 40, 40, 10)"
            ]
          },
          "metadata": {},
          "execution_count": 94
        }
      ]
    },
    {
      "cell_type": "markdown",
      "source": [
        "How might we better visualize our data?\n",
        "\n",
        "This is where the data explorer's motto comes in!\n",
        "\n",
        "\"Visualize, visualize, visualize!\""
      ],
      "metadata": {
        "id": "8XwdMWppnkDm"
      }
    },
    {
      "cell_type": "code",
      "source": [
        "def plots_predictions(train_data = x_train,\n",
        "                      train_labels = y_train,\n",
        "                      test_data = x_test,\n",
        "                      test_labels = y_test,\n",
        "                      predictions = None):\n",
        "  \"\"\"\n",
        "  Plots training data, test data\n",
        "  \"\"\"\n",
        "\n",
        "  plt.figure(figsize=(10,7))\n",
        "  plt.scatter(train_data, train_labels, c='b', s= 4, label = \"Training data\")\n",
        "\n",
        "  plt.scatter(test_data, test_labels, c= 'g', s=4, label = \"Testing data\")\n",
        "\n",
        "  if predictions is not None:\n",
        "    plt.scatter(test_data, predictions, c= 'r', s= 4, label = \"Predictions\")\n",
        "  plt.legend(prop = {\"size\":14})"
      ],
      "metadata": {
        "id": "G187bQP5n8CC"
      },
      "execution_count": 95,
      "outputs": []
    },
    {
      "cell_type": "code",
      "source": [
        "plots_predictions()"
      ],
      "metadata": {
        "colab": {
          "base_uri": "https://localhost:8080/",
          "height": 479
        },
        "id": "L08DWc8qpcfj",
        "outputId": "f8b184fb-b069-4745-896e-f3a77de22211"
      },
      "execution_count": 96,
      "outputs": [
        {
          "output_type": "display_data",
          "data": {
            "text/plain": [
              "<Figure size 1000x700 with 1 Axes>"
            ],
            "image/png": "[encoded data removed]"
          },
          "metadata": {}
        }
      ]
    },
    {
      "cell_type": "markdown",
      "source": [
        "### Build model\n",
        "Our first PyTorch model\n",
        "\n",
        "What our model does :\n",
        "* Start with random values (weight & bias )\n",
        "* Look at training data and adjust the random values to better represent (or get closer to) the ideal values (the weight & bias values we used to create the data)\n",
        "\n",
        "To do so, we use two main algorithms:\n",
        "1. Gradient descent\n",
        "2. Back propgation"
      ],
      "metadata": {
        "id": "UJ8ftKTBpegK"
      }
    },
    {
      "cell_type": "code",
      "source": [
        "# Creating linear regression model class\n",
        "\n",
        "class LinearRegressionModel(nn.Module): # Inheriting nn.module class\n",
        "  def __init__(self):\n",
        "    super().__init__()\n",
        "    self.weights = nn.Parameter(torch.randn(1, requires_grad = True, dtype = torch.float))\n",
        "    self.bias = nn.Parameter(torch.randn(1, requires_grad = True, dtype = float))\n",
        "\n",
        "    # Forward method\n",
        "    def forward(self, x:torch.Tensor) -> torch.Tensor:\n",
        "      return self.weights * x + self.bias\n",
        "\n",
        ""
      ],
      "metadata": {
        "id": "4uJUbf1cqaTq"
      },
      "execution_count": 97,
      "outputs": []
    },
    {
      "cell_type": "code",
      "source": [
        "sf"
      ],
      "metadata": {
        "id": "HlEKRatfeHQS"
      },
      "execution_count": null,
      "outputs": []
    },
    {
      "cell_type": "markdown",
      "source": [
        "## PyTorch model building essentials\n",
        "\n",
        "* torch.nn - contains all of the building for computational graphs(a neural network can be a computational graph)\n",
        "* torch.nn.Parameter - what parameters should our model try and learn, oftern a layer from torch.nn will set these for us\n",
        "* torch.nn.Module - The base class for all neural network modules, if you subclass it, you should overwrite forward().\n",
        "* torch.optim - This where the optimizers in PyTorch live, they will help with gradient descent   \n",
        "* def forward() - All; nn.Module subclasses require you to overwrite forward(), this method defines what happens in the forward computation.\n",
        "\n",
        "* torch.utils.data.Datset - Represents a map between key and sample pairs of your data. Such as images and their associated labels.\n",
        "* torch.utils.data.DataLoader - Creates a Python iterable over a torch dataset (allows you to iterate over your data)."
      ],
      "metadata": {
        "id": "0HnhFXR9c6Gs"
      }
    },
    {
      "cell_type": "code",
      "source": [],
      "metadata": {
        "id": "YpiiH4GfeQdM"
      },
      "execution_count": null,
      "outputs": []
    }
  ]
}