{
 "cells": [
  {
   "cell_type": "code",
   "execution_count": 1,
   "metadata": {},
   "outputs": [],
   "source": [
    "import numpy as np \n",
    "import pandas as pd"
   ]
  },
  {
   "cell_type": "code",
   "execution_count": 2,
   "metadata": {},
   "outputs": [],
   "source": [
    "x = np.random.rand(5,2,4)"
   ]
  },
  {
   "cell_type": "code",
   "execution_count": 4,
   "metadata": {},
   "outputs": [
    {
     "data": {
      "text/plain": [
       "array([[[0.51959929, 0.11136204, 0.40669203, 0.94976901],\n",
       "        [0.23931005, 0.34842416, 0.13828867, 0.51653216]],\n",
       "\n",
       "       [[0.6330167 , 0.46508084, 0.1802051 , 0.35610954],\n",
       "        [0.9902205 , 0.00628304, 0.96713824, 0.28354468]],\n",
       "\n",
       "       [[0.27209369, 0.6068841 , 0.93417327, 0.64277954],\n",
       "        [0.68204944, 0.52702059, 0.99161047, 0.46349413]],\n",
       "\n",
       "       [[0.53469527, 0.93291042, 0.17779581, 0.21469709],\n",
       "        [0.02998844, 0.42749638, 0.00300043, 0.52829471]],\n",
       "\n",
       "       [[0.54189819, 0.9828692 , 0.42422527, 0.20608138],\n",
       "        [0.69650974, 0.23741417, 0.84572021, 0.43761057]]])"
      ]
     },
     "execution_count": 4,
     "metadata": {},
     "output_type": "execute_result"
    }
   ],
   "source": [
    "x"
   ]
  },
  {
   "cell_type": "code",
   "execution_count": 5,
   "metadata": {},
   "outputs": [
    {
     "ename": "NameError",
     "evalue": "name 'array' is not defined",
     "output_type": "error",
     "traceback": [
      "\u001b[1;31m---------------------------------------------------------------------------\u001b[0m",
      "\u001b[1;31mNameError\u001b[0m                                 Traceback (most recent call last)",
      "Cell \u001b[1;32mIn[5], line 1\u001b[0m\n\u001b[1;32m----> 1\u001b[0m \u001b[43marray\u001b[49m([[[\u001b[38;5;241m0.92663358\u001b[39m],\n\u001b[0;32m      2\u001b[0m         [\u001b[38;5;241m0.61446615\u001b[39m]],\n\u001b[0;32m      3\u001b[0m \n\u001b[0;32m      4\u001b[0m        [[\u001b[38;5;241m0.12742872\u001b[39m],\n\u001b[0;32m      5\u001b[0m         [\u001b[38;5;241m0.27048401\u001b[39m]],\n\u001b[0;32m      6\u001b[0m \n\u001b[0;32m      7\u001b[0m        [[\u001b[38;5;241m0.00761419\u001b[39m],\n\u001b[0;32m      8\u001b[0m         [\u001b[38;5;241m0.1014598\u001b[39m ]],\n\u001b[0;32m      9\u001b[0m \n\u001b[0;32m     10\u001b[0m        [[\u001b[38;5;241m0.54017983\u001b[39m],\n\u001b[0;32m     11\u001b[0m         [\u001b[38;5;241m0.51325082\u001b[39m]],\n\u001b[0;32m     12\u001b[0m \n\u001b[0;32m     13\u001b[0m        [[\u001b[38;5;241m0.07199848\u001b[39m],\n\u001b[0;32m     14\u001b[0m         [\u001b[38;5;241m0.38348104\u001b[39m]]])\n",
      "\u001b[1;31mNameError\u001b[0m: name 'array' is not defined"
     ]
    }
   ],
   "source": [
    "array([[[0.92663358],\n",
    "        [0.61446615]],\n",
    "\n",
    "       [[0.12742872],\n",
    "        [0.27048401]],\n",
    "\n",
    "       [[0.00761419],\n",
    "        [0.1014598 ]],\n",
    "\n",
    "       [[0.54017983],\n",
    "        [0.51325082]],\n",
    "\n",
    "       [[0.07199848],\n",
    "        [0.38348104]]])"
   ]
  },
  {
   "cell_type": "code",
   "execution_count": 6,
   "metadata": {},
   "outputs": [
    {
     "name": "stderr",
     "output_type": "stream",
     "text": [
      "C:\\Users\\sainithin\\AppData\\Local\\Temp\\ipykernel_25388\\3237262395.py:1: DtypeWarning: Columns (25,51) have mixed types. Specify dtype option on import or set low_memory=False.\n",
      "  nfl2 = pd.read_csv(\"E:/sai/UCE/Large datasets/NFL2.csv\")\n"
     ]
    }
   ],
   "source": [
    "nfl2 = pd.read_csv(\"E:/sai/UCE/Large datasets/NFL2.csv\")"
   ]
  },
  {
   "cell_type": "code",
   "execution_count": 10,
   "metadata": {},
   "outputs": [],
   "source": [
    "nfl2= nfl2.iloc[:1000, :20 ]\n",
    "nfl2.to_csv(\"E:/sai/UCE/Learn_AI/Datasets/NFL2.csv\")"
   ]
  },
  {
   "cell_type": "code",
   "execution_count": null,
   "metadata": {},
   "outputs": [],
   "source": []
  },
  {
   "cell_type": "code",
   "execution_count": null,
   "metadata": {},
   "outputs": [],
   "source": []
  },
  {
   "cell_type": "code",
   "execution_count": null,
   "metadata": {},
   "outputs": [],
   "source": []
  },
  {
   "cell_type": "code",
   "execution_count": null,
   "metadata": {},
   "outputs": [],
   "source": []
  }
 ],
 "metadata": {
  "kernelspec": {
   "display_name": "Python 3",
   "language": "python",
   "name": "python3"
  },
  "language_info": {
   "codemirror_mode": {
    "name": "ipython",
    "version": 3
   },
   "file_extension": ".py",
   "mimetype": "text/x-python",
   "name": "python",
   "nbconvert_exporter": "python",
   "pygments_lexer": "ipython3",
   "version": "3.11.0"
  }
 },
 "nbformat": 4,
 "nbformat_minor": 2
}
