{
 "cells": [
  {
   "cell_type": "code",
   "execution_count": 3,
   "metadata": {},
   "outputs": [],
   "source": [
    "import numpy as np "
   ]
  },
  {
   "cell_type": "code",
   "execution_count": 11,
   "metadata": {},
   "outputs": [],
   "source": [
    "x = np.random.rand(5,2,4)"
   ]
  },
  {
   "cell_type": "code",
   "execution_count": 12,
   "metadata": {},
   "outputs": [
    {
     "data": {
      "text/plain": [
       "array([[[0.76770371, 0.77318464, 0.40767342, 0.57543938],\n",
       "        [0.89581256, 0.62702118, 0.31764957, 0.85752816]],\n",
       "\n",
       "       [[0.15588626, 0.75881685, 0.35087177, 0.91097347],\n",
       "        [0.27707007, 0.62401917, 0.23036079, 0.17215128]],\n",
       "\n",
       "       [[0.39723335, 0.72975391, 0.07755547, 0.54805926],\n",
       "        [0.00257491, 0.49670548, 0.04540645, 0.46337931]],\n",
       "\n",
       "       [[0.9785293 , 0.77817355, 0.52252169, 0.72457003],\n",
       "        [0.82447428, 0.46529828, 0.73854098, 0.46962878]],\n",
       "\n",
       "       [[0.09522137, 0.49896884, 0.05094284, 0.56459393],\n",
       "        [0.87471308, 0.1977489 , 0.05754935, 0.51173737]]])"
      ]
     },
     "execution_count": 12,
     "metadata": {},
     "output_type": "execute_result"
    }
   ],
   "source": [
    "x"
   ]
  },
  {
   "cell_type": "code",
   "execution_count": null,
   "metadata": {},
   "outputs": [],
   "source": [
    "array([[[0.92663358],\n",
    "        [0.61446615]],\n",
    "\n",
    "       [[0.12742872],\n",
    "        [0.27048401]],\n",
    "\n",
    "       [[0.00761419],\n",
    "        [0.1014598 ]],\n",
    "\n",
    "       [[0.54017983],\n",
    "        [0.51325082]],\n",
    "\n",
    "       [[0.07199848],\n",
    "        [0.38348104]]])"
   ]
  }
 ],
 "metadata": {
  "kernelspec": {
   "display_name": "Python 3",
   "language": "python",
   "name": "python3"
  },
  "language_info": {
   "codemirror_mode": {
    "name": "ipython",
    "version": 3
   },
   "file_extension": ".py",
   "mimetype": "text/x-python",
   "name": "python",
   "nbconvert_exporter": "python",
   "pygments_lexer": "ipython3",
   "version": "3.11.0"
  }
 },
 "nbformat": 4,
 "nbformat_minor": 2
}
